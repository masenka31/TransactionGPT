{
 "cells": [
  {
   "attachments": {},
   "cell_type": "markdown",
   "metadata": {},
   "source": [
    "# Intro\n",
    "\n",
    "- package loading\n",
    "- data loading\n",
    "- data preprocessing"
   ]
  },
  {
   "cell_type": "code",
   "execution_count": 46,
   "metadata": {},
   "outputs": [],
   "source": [
    "import numpy as np\n",
    "import pandas as pd\n",
    "import matplotlib.pyplot as plt\n",
    "from datetime import datetime\n",
    "from collections import Counter\n",
    "from tqdm import tqdm\n",
    "\n",
    "import seaborn as sns\n",
    "import random\n",
    "\n",
    "def plotsize(w, h):\n",
    "    plt.figure(figsize=(w, h))"
   ]
  },
  {
   "cell_type": "code",
   "execution_count": 2,
   "metadata": {},
   "outputs": [
    {
     "data": {
      "text/plain": [
       "<torch._C.Generator at 0x14edab4d0>"
      ]
     },
     "execution_count": 2,
     "metadata": {},
     "output_type": "execute_result"
    }
   ],
   "source": [
    "import torch\n",
    "import torch.nn as nn\n",
    "import torch.optim as optim\n",
    "from torch.utils.data import Dataset, DataLoader, random_split\n",
    "import numpy as np\n",
    "\n",
    "np.random.seed(42)\n",
    "torch.manual_seed(42)\n"
   ]
  },
  {
   "cell_type": "code",
   "execution_count": 677,
   "metadata": {},
   "outputs": [],
   "source": [
    "from sklearn.metrics import f1_score\n",
    "from sklearn.metrics import accuracy_score"
   ]
  },
  {
   "cell_type": "code",
   "execution_count": 3,
   "metadata": {},
   "outputs": [],
   "source": [
    "pd.set_option('display.max_columns', None)"
   ]
  },
  {
   "cell_type": "code",
   "execution_count": 4,
   "metadata": {},
   "outputs": [],
   "source": [
    "from src.process_data import IBMDataset\n",
    "df = IBMDataset().ibm_credit_card()"
   ]
  },
  {
   "cell_type": "code",
   "execution_count": 5,
   "metadata": {},
   "outputs": [
    {
     "data": {
      "text/html": [
       "<div>\n",
       "<style scoped>\n",
       "    .dataframe tbody tr th:only-of-type {\n",
       "        vertical-align: middle;\n",
       "    }\n",
       "\n",
       "    .dataframe tbody tr th {\n",
       "        vertical-align: top;\n",
       "    }\n",
       "\n",
       "    .dataframe thead th {\n",
       "        text-align: right;\n",
       "    }\n",
       "</style>\n",
       "<table border=\"1\" class=\"dataframe\">\n",
       "  <thead>\n",
       "    <tr style=\"text-align: right;\">\n",
       "      <th></th>\n",
       "      <th>customer.id</th>\n",
       "      <th>card.id</th>\n",
       "      <th>amount_signed</th>\n",
       "      <th>timestamp</th>\n",
       "      <th>date</th>\n",
       "      <th>merchant.name</th>\n",
       "      <th>merchant.city</th>\n",
       "      <th>merchant.state</th>\n",
       "      <th>is_fraud</th>\n",
       "      <th>age</th>\n",
       "      <th>chip</th>\n",
       "      <th>gender</th>\n",
       "      <th>customer.city</th>\n",
       "      <th>customer.state</th>\n",
       "      <th>score</th>\n",
       "      <th>num_cards</th>\n",
       "      <th>total_debt</th>\n",
       "      <th>credit_limit</th>\n",
       "      <th>card.brand</th>\n",
       "      <th>latitude</th>\n",
       "      <th>longitude</th>\n",
       "      <th>direction</th>\n",
       "      <th>amount_usd</th>\n",
       "      <th>log_amount</th>\n",
       "    </tr>\n",
       "  </thead>\n",
       "  <tbody>\n",
       "    <tr>\n",
       "      <th>0</th>\n",
       "      <td>0</td>\n",
       "      <td>4344676511950444</td>\n",
       "      <td>134.09</td>\n",
       "      <td>1030861260</td>\n",
       "      <td>2002-09-01 06:21:00</td>\n",
       "      <td>3527213246127876953</td>\n",
       "      <td>La Verne</td>\n",
       "      <td>CA</td>\n",
       "      <td>No</td>\n",
       "      <td>53</td>\n",
       "      <td>Swipe Transaction</td>\n",
       "      <td>Female</td>\n",
       "      <td>La Verne</td>\n",
       "      <td>CA</td>\n",
       "      <td>787</td>\n",
       "      <td>5</td>\n",
       "      <td>127613.0</td>\n",
       "      <td>24295.0</td>\n",
       "      <td>Visa</td>\n",
       "      <td>34.15</td>\n",
       "      <td>-117.76</td>\n",
       "      <td>outbound</td>\n",
       "      <td>134.09</td>\n",
       "      <td>4.905941</td>\n",
       "    </tr>\n",
       "    <tr>\n",
       "      <th>1</th>\n",
       "      <td>0</td>\n",
       "      <td>4344676511950444</td>\n",
       "      <td>38.48</td>\n",
       "      <td>1030862520</td>\n",
       "      <td>2002-09-01 06:42:00</td>\n",
       "      <td>-727612092139916043</td>\n",
       "      <td>Monterey Park</td>\n",
       "      <td>CA</td>\n",
       "      <td>No</td>\n",
       "      <td>53</td>\n",
       "      <td>Swipe Transaction</td>\n",
       "      <td>Female</td>\n",
       "      <td>La Verne</td>\n",
       "      <td>CA</td>\n",
       "      <td>787</td>\n",
       "      <td>5</td>\n",
       "      <td>127613.0</td>\n",
       "      <td>24295.0</td>\n",
       "      <td>Visa</td>\n",
       "      <td>34.15</td>\n",
       "      <td>-117.76</td>\n",
       "      <td>outbound</td>\n",
       "      <td>38.48</td>\n",
       "      <td>3.675794</td>\n",
       "    </tr>\n",
       "    <tr>\n",
       "      <th>2</th>\n",
       "      <td>0</td>\n",
       "      <td>4344676511950444</td>\n",
       "      <td>120.34</td>\n",
       "      <td>1030947720</td>\n",
       "      <td>2002-09-02 06:22:00</td>\n",
       "      <td>-727612092139916043</td>\n",
       "      <td>Monterey Park</td>\n",
       "      <td>CA</td>\n",
       "      <td>No</td>\n",
       "      <td>53</td>\n",
       "      <td>Swipe Transaction</td>\n",
       "      <td>Female</td>\n",
       "      <td>La Verne</td>\n",
       "      <td>CA</td>\n",
       "      <td>787</td>\n",
       "      <td>5</td>\n",
       "      <td>127613.0</td>\n",
       "      <td>24295.0</td>\n",
       "      <td>Visa</td>\n",
       "      <td>34.15</td>\n",
       "      <td>-117.76</td>\n",
       "      <td>outbound</td>\n",
       "      <td>120.34</td>\n",
       "      <td>4.798597</td>\n",
       "    </tr>\n",
       "    <tr>\n",
       "      <th>3</th>\n",
       "      <td>0</td>\n",
       "      <td>4344676511950444</td>\n",
       "      <td>128.95</td>\n",
       "      <td>1030988700</td>\n",
       "      <td>2002-09-02 17:45:00</td>\n",
       "      <td>3414527459579106770</td>\n",
       "      <td>Monterey Park</td>\n",
       "      <td>CA</td>\n",
       "      <td>No</td>\n",
       "      <td>53</td>\n",
       "      <td>Swipe Transaction</td>\n",
       "      <td>Female</td>\n",
       "      <td>La Verne</td>\n",
       "      <td>CA</td>\n",
       "      <td>787</td>\n",
       "      <td>5</td>\n",
       "      <td>127613.0</td>\n",
       "      <td>24295.0</td>\n",
       "      <td>Visa</td>\n",
       "      <td>34.15</td>\n",
       "      <td>-117.76</td>\n",
       "      <td>outbound</td>\n",
       "      <td>128.95</td>\n",
       "      <td>4.867150</td>\n",
       "    </tr>\n",
       "    <tr>\n",
       "      <th>4</th>\n",
       "      <td>0</td>\n",
       "      <td>4344676511950444</td>\n",
       "      <td>104.71</td>\n",
       "      <td>1031034180</td>\n",
       "      <td>2002-09-03 06:23:00</td>\n",
       "      <td>5817218446178736267</td>\n",
       "      <td>La Verne</td>\n",
       "      <td>CA</td>\n",
       "      <td>No</td>\n",
       "      <td>53</td>\n",
       "      <td>Swipe Transaction</td>\n",
       "      <td>Female</td>\n",
       "      <td>La Verne</td>\n",
       "      <td>CA</td>\n",
       "      <td>787</td>\n",
       "      <td>5</td>\n",
       "      <td>127613.0</td>\n",
       "      <td>24295.0</td>\n",
       "      <td>Visa</td>\n",
       "      <td>34.15</td>\n",
       "      <td>-117.76</td>\n",
       "      <td>outbound</td>\n",
       "      <td>104.71</td>\n",
       "      <td>4.660699</td>\n",
       "    </tr>\n",
       "  </tbody>\n",
       "</table>\n",
       "</div>"
      ],
      "text/plain": [
       "   customer.id           card.id  amount_signed   timestamp   \n",
       "0            0  4344676511950444         134.09  1030861260  \\\n",
       "1            0  4344676511950444          38.48  1030862520   \n",
       "2            0  4344676511950444         120.34  1030947720   \n",
       "3            0  4344676511950444         128.95  1030988700   \n",
       "4            0  4344676511950444         104.71  1031034180   \n",
       "\n",
       "                 date        merchant.name  merchant.city merchant.state   \n",
       "0 2002-09-01 06:21:00  3527213246127876953       La Verne             CA  \\\n",
       "1 2002-09-01 06:42:00  -727612092139916043  Monterey Park             CA   \n",
       "2 2002-09-02 06:22:00  -727612092139916043  Monterey Park             CA   \n",
       "3 2002-09-02 17:45:00  3414527459579106770  Monterey Park             CA   \n",
       "4 2002-09-03 06:23:00  5817218446178736267       La Verne             CA   \n",
       "\n",
       "  is_fraud  age               chip  gender customer.city customer.state   \n",
       "0       No   53  Swipe Transaction  Female      La Verne             CA  \\\n",
       "1       No   53  Swipe Transaction  Female      La Verne             CA   \n",
       "2       No   53  Swipe Transaction  Female      La Verne             CA   \n",
       "3       No   53  Swipe Transaction  Female      La Verne             CA   \n",
       "4       No   53  Swipe Transaction  Female      La Verne             CA   \n",
       "\n",
       "   score  num_cards  total_debt  credit_limit card.brand  latitude  longitude   \n",
       "0    787          5    127613.0       24295.0       Visa     34.15    -117.76  \\\n",
       "1    787          5    127613.0       24295.0       Visa     34.15    -117.76   \n",
       "2    787          5    127613.0       24295.0       Visa     34.15    -117.76   \n",
       "3    787          5    127613.0       24295.0       Visa     34.15    -117.76   \n",
       "4    787          5    127613.0       24295.0       Visa     34.15    -117.76   \n",
       "\n",
       "  direction  amount_usd  log_amount  \n",
       "0  outbound      134.09    4.905941  \n",
       "1  outbound       38.48    3.675794  \n",
       "2  outbound      120.34    4.798597  \n",
       "3  outbound      128.95    4.867150  \n",
       "4  outbound      104.71    4.660699  "
      ]
     },
     "execution_count": 5,
     "metadata": {},
     "output_type": "execute_result"
    }
   ],
   "source": [
    "df.head()"
   ]
  },
  {
   "cell_type": "code",
   "execution_count": 6,
   "metadata": {},
   "outputs": [
    {
     "data": {
      "text/plain": [
       "is_fraud\n",
       "No     24357143\n",
       "Yes       29757\n",
       "Name: count, dtype: int64"
      ]
     },
     "execution_count": 6,
     "metadata": {},
     "output_type": "execute_result"
    }
   ],
   "source": [
    "df.is_fraud.value_counts()"
   ]
  },
  {
   "cell_type": "code",
   "execution_count": 7,
   "metadata": {},
   "outputs": [
    {
     "data": {
      "text/plain": [
       "223"
      ]
     },
     "execution_count": 7,
     "metadata": {},
     "output_type": "execute_result"
    }
   ],
   "source": [
    "df['merchant.state'].nunique()"
   ]
  },
  {
   "cell_type": "code",
   "execution_count": 8,
   "metadata": {},
   "outputs": [
    {
     "data": {
      "text/plain": [
       "51"
      ]
     },
     "execution_count": 8,
     "metadata": {},
     "output_type": "execute_result"
    }
   ],
   "source": [
    "df['customer.state'].nunique()"
   ]
  },
  {
   "cell_type": "code",
   "execution_count": 9,
   "metadata": {},
   "outputs": [
    {
     "data": {
      "text/plain": [
       "merchant.state  is_fraud\n",
       "CA              No          2591079\n",
       "TX              No          1792993\n",
       "FL              No          1458385\n",
       "NY              No          1446624\n",
       "OH              No           895092\n",
       "                             ...   \n",
       "Tonga           No                2\n",
       "Togo            No                2\n",
       "Paraguay        No                1\n",
       "Botswana        No                1\n",
       "Kiribati        No                1\n",
       "Name: count, Length: 282, dtype: int64"
      ]
     },
     "execution_count": 9,
     "metadata": {},
     "output_type": "execute_result"
    }
   ],
   "source": [
    "df[['merchant.state', 'is_fraud']].value_counts()"
   ]
  },
  {
   "attachments": {},
   "cell_type": "markdown",
   "metadata": {},
   "source": [
    "## Feature engineering"
   ]
  },
  {
   "attachments": {},
   "cell_type": "markdown",
   "metadata": {},
   "source": [
    "Fixed numerical features:\n",
    "- amount features: amount, yearly income, total debt, credit limit (in log scale)\n",
    "- num credit cards\n",
    "- FICO score\n",
    "\n",
    "Time features:\n",
    "- time from last transaction\n",
    "- time of transaction\n",
    "- mean time between previous transactions\n",
    "\n",
    "Categorical features:\n",
    "- gender\n",
    "- card brand\n",
    "- card type\n",
    "- chip\n",
    "\n",
    "Binary features:\n",
    "- previously seen merchant ID\n",
    "- has chip (card)\n",
    "- state == merchant state"
   ]
  },
  {
   "cell_type": "code",
   "execution_count": 6,
   "metadata": {},
   "outputs": [],
   "source": [
    "df.sort_values('date', inplace=True)"
   ]
  },
  {
   "cell_type": "code",
   "execution_count": 7,
   "metadata": {},
   "outputs": [],
   "source": [
    "gdf = df.groupby('customer.id')"
   ]
  },
  {
   "cell_type": "code",
   "execution_count": 24,
   "metadata": {},
   "outputs": [
    {
     "name": "stderr",
     "output_type": "stream",
     "text": [
      "100%|██████████| 2000/2000 [00:17<00:00, 111.20it/s]\n"
     ]
    }
   ],
   "source": [
    "new_groups = []\n",
    "\n",
    "for name, group in tqdm(gdf):\n",
    "    # figure out known merchants\n",
    "    known_merchants = group['merchant.name'].duplicated().astype(int)\n",
    "    \n",
    "    # create a copy of the group\n",
    "    g_new = group.copy()\n",
    "    g_new['is_known_merchant'] = known_merchants\n",
    "    \n",
    "    # time difference for the customer\n",
    "    # g_new['log_timediff'] = np.log(1 + g_new['date'].diff().dt.seconds.fillna(0, inplace=True))\n",
    "    g_new['log_timediff'] = np.log(1 + g_new['date'].diff().dt.seconds).fillna(0)\n",
    "    \n",
    "    # customer address and merchant address\n",
    "    g_new['same_city'] = (group['merchant.city'] == group['customer.city'])\n",
    "    g_new['same_state'] = (group['merchant.state'] == group['customer.state'])\n",
    "    \n",
    "    new_groups.append(g_new)\n"
   ]
  },
  {
   "cell_type": "code",
   "execution_count": 25,
   "metadata": {},
   "outputs": [
    {
     "data": {
      "text/html": [
       "<div>\n",
       "<style scoped>\n",
       "    .dataframe tbody tr th:only-of-type {\n",
       "        vertical-align: middle;\n",
       "    }\n",
       "\n",
       "    .dataframe tbody tr th {\n",
       "        vertical-align: top;\n",
       "    }\n",
       "\n",
       "    .dataframe thead th {\n",
       "        text-align: right;\n",
       "    }\n",
       "</style>\n",
       "<table border=\"1\" class=\"dataframe\">\n",
       "  <thead>\n",
       "    <tr style=\"text-align: right;\">\n",
       "      <th></th>\n",
       "      <th>customer.id</th>\n",
       "      <th>card.id</th>\n",
       "      <th>amount_signed</th>\n",
       "      <th>timestamp</th>\n",
       "      <th>date</th>\n",
       "      <th>merchant.name</th>\n",
       "      <th>merchant.city</th>\n",
       "      <th>merchant.state</th>\n",
       "      <th>is_fraud</th>\n",
       "      <th>age</th>\n",
       "      <th>chip</th>\n",
       "      <th>gender</th>\n",
       "      <th>customer.city</th>\n",
       "      <th>customer.state</th>\n",
       "      <th>score</th>\n",
       "      <th>num_cards</th>\n",
       "      <th>total_debt</th>\n",
       "      <th>credit_limit</th>\n",
       "      <th>card.brand</th>\n",
       "      <th>latitude</th>\n",
       "      <th>longitude</th>\n",
       "      <th>direction</th>\n",
       "      <th>amount_usd</th>\n",
       "      <th>log_amount</th>\n",
       "      <th>is_known_merchant</th>\n",
       "      <th>log_timediff</th>\n",
       "      <th>same_city</th>\n",
       "      <th>same_state</th>\n",
       "    </tr>\n",
       "  </thead>\n",
       "  <tbody>\n",
       "    <tr>\n",
       "      <th>0</th>\n",
       "      <td>0</td>\n",
       "      <td>4344676511950444</td>\n",
       "      <td>134.09</td>\n",
       "      <td>1030861260</td>\n",
       "      <td>2002-09-01 06:21:00</td>\n",
       "      <td>3527213246127876953</td>\n",
       "      <td>La Verne</td>\n",
       "      <td>CA</td>\n",
       "      <td>No</td>\n",
       "      <td>53</td>\n",
       "      <td>Swipe Transaction</td>\n",
       "      <td>Female</td>\n",
       "      <td>La Verne</td>\n",
       "      <td>CA</td>\n",
       "      <td>787</td>\n",
       "      <td>5</td>\n",
       "      <td>127613.0</td>\n",
       "      <td>24295.0</td>\n",
       "      <td>Visa</td>\n",
       "      <td>34.15</td>\n",
       "      <td>-117.76</td>\n",
       "      <td>outbound</td>\n",
       "      <td>134.09</td>\n",
       "      <td>4.905941</td>\n",
       "      <td>0</td>\n",
       "      <td>0.000000</td>\n",
       "      <td>True</td>\n",
       "      <td>True</td>\n",
       "    </tr>\n",
       "    <tr>\n",
       "      <th>1</th>\n",
       "      <td>0</td>\n",
       "      <td>4344676511950444</td>\n",
       "      <td>38.48</td>\n",
       "      <td>1030862520</td>\n",
       "      <td>2002-09-01 06:42:00</td>\n",
       "      <td>-727612092139916043</td>\n",
       "      <td>Monterey Park</td>\n",
       "      <td>CA</td>\n",
       "      <td>No</td>\n",
       "      <td>53</td>\n",
       "      <td>Swipe Transaction</td>\n",
       "      <td>Female</td>\n",
       "      <td>La Verne</td>\n",
       "      <td>CA</td>\n",
       "      <td>787</td>\n",
       "      <td>5</td>\n",
       "      <td>127613.0</td>\n",
       "      <td>24295.0</td>\n",
       "      <td>Visa</td>\n",
       "      <td>34.15</td>\n",
       "      <td>-117.76</td>\n",
       "      <td>outbound</td>\n",
       "      <td>38.48</td>\n",
       "      <td>3.675794</td>\n",
       "      <td>0</td>\n",
       "      <td>7.139660</td>\n",
       "      <td>False</td>\n",
       "      <td>True</td>\n",
       "    </tr>\n",
       "    <tr>\n",
       "      <th>2</th>\n",
       "      <td>0</td>\n",
       "      <td>4344676511950444</td>\n",
       "      <td>120.34</td>\n",
       "      <td>1030947720</td>\n",
       "      <td>2002-09-02 06:22:00</td>\n",
       "      <td>-727612092139916043</td>\n",
       "      <td>Monterey Park</td>\n",
       "      <td>CA</td>\n",
       "      <td>No</td>\n",
       "      <td>53</td>\n",
       "      <td>Swipe Transaction</td>\n",
       "      <td>Female</td>\n",
       "      <td>La Verne</td>\n",
       "      <td>CA</td>\n",
       "      <td>787</td>\n",
       "      <td>5</td>\n",
       "      <td>127613.0</td>\n",
       "      <td>24295.0</td>\n",
       "      <td>Visa</td>\n",
       "      <td>34.15</td>\n",
       "      <td>-117.76</td>\n",
       "      <td>outbound</td>\n",
       "      <td>120.34</td>\n",
       "      <td>4.798597</td>\n",
       "      <td>1</td>\n",
       "      <td>11.352768</td>\n",
       "      <td>False</td>\n",
       "      <td>True</td>\n",
       "    </tr>\n",
       "    <tr>\n",
       "      <th>3</th>\n",
       "      <td>0</td>\n",
       "      <td>4344676511950444</td>\n",
       "      <td>128.95</td>\n",
       "      <td>1030988700</td>\n",
       "      <td>2002-09-02 17:45:00</td>\n",
       "      <td>3414527459579106770</td>\n",
       "      <td>Monterey Park</td>\n",
       "      <td>CA</td>\n",
       "      <td>No</td>\n",
       "      <td>53</td>\n",
       "      <td>Swipe Transaction</td>\n",
       "      <td>Female</td>\n",
       "      <td>La Verne</td>\n",
       "      <td>CA</td>\n",
       "      <td>787</td>\n",
       "      <td>5</td>\n",
       "      <td>127613.0</td>\n",
       "      <td>24295.0</td>\n",
       "      <td>Visa</td>\n",
       "      <td>34.15</td>\n",
       "      <td>-117.76</td>\n",
       "      <td>outbound</td>\n",
       "      <td>128.95</td>\n",
       "      <td>4.867150</td>\n",
       "      <td>0</td>\n",
       "      <td>10.620864</td>\n",
       "      <td>False</td>\n",
       "      <td>True</td>\n",
       "    </tr>\n",
       "    <tr>\n",
       "      <th>4</th>\n",
       "      <td>0</td>\n",
       "      <td>4344676511950444</td>\n",
       "      <td>104.71</td>\n",
       "      <td>1031034180</td>\n",
       "      <td>2002-09-03 06:23:00</td>\n",
       "      <td>5817218446178736267</td>\n",
       "      <td>La Verne</td>\n",
       "      <td>CA</td>\n",
       "      <td>No</td>\n",
       "      <td>53</td>\n",
       "      <td>Swipe Transaction</td>\n",
       "      <td>Female</td>\n",
       "      <td>La Verne</td>\n",
       "      <td>CA</td>\n",
       "      <td>787</td>\n",
       "      <td>5</td>\n",
       "      <td>127613.0</td>\n",
       "      <td>24295.0</td>\n",
       "      <td>Visa</td>\n",
       "      <td>34.15</td>\n",
       "      <td>-117.76</td>\n",
       "      <td>outbound</td>\n",
       "      <td>104.71</td>\n",
       "      <td>4.660699</td>\n",
       "      <td>0</td>\n",
       "      <td>10.725050</td>\n",
       "      <td>True</td>\n",
       "      <td>True</td>\n",
       "    </tr>\n",
       "    <tr>\n",
       "      <th>...</th>\n",
       "      <td>...</td>\n",
       "      <td>...</td>\n",
       "      <td>...</td>\n",
       "      <td>...</td>\n",
       "      <td>...</td>\n",
       "      <td>...</td>\n",
       "      <td>...</td>\n",
       "      <td>...</td>\n",
       "      <td>...</td>\n",
       "      <td>...</td>\n",
       "      <td>...</td>\n",
       "      <td>...</td>\n",
       "      <td>...</td>\n",
       "      <td>...</td>\n",
       "      <td>...</td>\n",
       "      <td>...</td>\n",
       "      <td>...</td>\n",
       "      <td>...</td>\n",
       "      <td>...</td>\n",
       "      <td>...</td>\n",
       "      <td>...</td>\n",
       "      <td>...</td>\n",
       "      <td>...</td>\n",
       "      <td>...</td>\n",
       "      <td>...</td>\n",
       "      <td>...</td>\n",
       "      <td>...</td>\n",
       "      <td>...</td>\n",
       "    </tr>\n",
       "    <tr>\n",
       "      <th>19934</th>\n",
       "      <td>0</td>\n",
       "      <td>4879494103069057</td>\n",
       "      <td>-295.00</td>\n",
       "      <td>1582816920</td>\n",
       "      <td>2020-02-27 15:22:00</td>\n",
       "      <td>7834055923142137930</td>\n",
       "      <td>New York</td>\n",
       "      <td>NY</td>\n",
       "      <td>No</td>\n",
       "      <td>53</td>\n",
       "      <td>Swipe Transaction</td>\n",
       "      <td>Female</td>\n",
       "      <td>La Verne</td>\n",
       "      <td>CA</td>\n",
       "      <td>787</td>\n",
       "      <td>5</td>\n",
       "      <td>127613.0</td>\n",
       "      <td>12400.0</td>\n",
       "      <td>Visa</td>\n",
       "      <td>34.15</td>\n",
       "      <td>-117.76</td>\n",
       "      <td>inbound</td>\n",
       "      <td>295.00</td>\n",
       "      <td>5.690359</td>\n",
       "      <td>1</td>\n",
       "      <td>5.707110</td>\n",
       "      <td>False</td>\n",
       "      <td>False</td>\n",
       "    </tr>\n",
       "    <tr>\n",
       "      <th>10544</th>\n",
       "      <td>0</td>\n",
       "      <td>4582313478255491</td>\n",
       "      <td>46.77</td>\n",
       "      <td>1582870980</td>\n",
       "      <td>2020-02-28 06:23:00</td>\n",
       "      <td>-727612092139916043</td>\n",
       "      <td>Monterey Park</td>\n",
       "      <td>CA</td>\n",
       "      <td>No</td>\n",
       "      <td>53</td>\n",
       "      <td>Chip Transaction</td>\n",
       "      <td>Female</td>\n",
       "      <td>La Verne</td>\n",
       "      <td>CA</td>\n",
       "      <td>787</td>\n",
       "      <td>5</td>\n",
       "      <td>127613.0</td>\n",
       "      <td>46414.0</td>\n",
       "      <td>Visa</td>\n",
       "      <td>34.15</td>\n",
       "      <td>-117.76</td>\n",
       "      <td>outbound</td>\n",
       "      <td>46.77</td>\n",
       "      <td>3.866398</td>\n",
       "      <td>1</td>\n",
       "      <td>10.897868</td>\n",
       "      <td>False</td>\n",
       "      <td>True</td>\n",
       "    </tr>\n",
       "    <tr>\n",
       "      <th>19935</th>\n",
       "      <td>0</td>\n",
       "      <td>4879494103069057</td>\n",
       "      <td>114.51</td>\n",
       "      <td>1582871340</td>\n",
       "      <td>2020-02-28 06:29:00</td>\n",
       "      <td>-34551508091458520</td>\n",
       "      <td>La Verne</td>\n",
       "      <td>CA</td>\n",
       "      <td>No</td>\n",
       "      <td>53</td>\n",
       "      <td>Swipe Transaction</td>\n",
       "      <td>Female</td>\n",
       "      <td>La Verne</td>\n",
       "      <td>CA</td>\n",
       "      <td>787</td>\n",
       "      <td>5</td>\n",
       "      <td>127613.0</td>\n",
       "      <td>12400.0</td>\n",
       "      <td>Visa</td>\n",
       "      <td>34.15</td>\n",
       "      <td>-117.76</td>\n",
       "      <td>outbound</td>\n",
       "      <td>114.51</td>\n",
       "      <td>4.749357</td>\n",
       "      <td>1</td>\n",
       "      <td>5.888878</td>\n",
       "      <td>True</td>\n",
       "      <td>True</td>\n",
       "    </tr>\n",
       "    <tr>\n",
       "      <th>19936</th>\n",
       "      <td>0</td>\n",
       "      <td>4879494103069057</td>\n",
       "      <td>34.11</td>\n",
       "      <td>1582872780</td>\n",
       "      <td>2020-02-28 06:53:00</td>\n",
       "      <td>-34551508091458520</td>\n",
       "      <td>La Verne</td>\n",
       "      <td>CA</td>\n",
       "      <td>No</td>\n",
       "      <td>53</td>\n",
       "      <td>Swipe Transaction</td>\n",
       "      <td>Female</td>\n",
       "      <td>La Verne</td>\n",
       "      <td>CA</td>\n",
       "      <td>787</td>\n",
       "      <td>5</td>\n",
       "      <td>127613.0</td>\n",
       "      <td>12400.0</td>\n",
       "      <td>Visa</td>\n",
       "      <td>34.15</td>\n",
       "      <td>-117.76</td>\n",
       "      <td>outbound</td>\n",
       "      <td>34.11</td>\n",
       "      <td>3.558486</td>\n",
       "      <td>1</td>\n",
       "      <td>7.273093</td>\n",
       "      <td>True</td>\n",
       "      <td>True</td>\n",
       "    </tr>\n",
       "    <tr>\n",
       "      <th>10545</th>\n",
       "      <td>0</td>\n",
       "      <td>4582313478255491</td>\n",
       "      <td>41.05</td>\n",
       "      <td>1582875360</td>\n",
       "      <td>2020-02-28 07:36:00</td>\n",
       "      <td>5817218446178736267</td>\n",
       "      <td>La Verne</td>\n",
       "      <td>CA</td>\n",
       "      <td>No</td>\n",
       "      <td>53</td>\n",
       "      <td>Chip Transaction</td>\n",
       "      <td>Female</td>\n",
       "      <td>La Verne</td>\n",
       "      <td>CA</td>\n",
       "      <td>787</td>\n",
       "      <td>5</td>\n",
       "      <td>127613.0</td>\n",
       "      <td>46414.0</td>\n",
       "      <td>Visa</td>\n",
       "      <td>34.15</td>\n",
       "      <td>-117.76</td>\n",
       "      <td>outbound</td>\n",
       "      <td>41.05</td>\n",
       "      <td>3.738859</td>\n",
       "      <td>1</td>\n",
       "      <td>7.855932</td>\n",
       "      <td>True</td>\n",
       "      <td>True</td>\n",
       "    </tr>\n",
       "  </tbody>\n",
       "</table>\n",
       "<p>19963 rows × 28 columns</p>\n",
       "</div>"
      ],
      "text/plain": [
       "       customer.id           card.id  amount_signed   timestamp   \n",
       "0                0  4344676511950444         134.09  1030861260  \\\n",
       "1                0  4344676511950444          38.48  1030862520   \n",
       "2                0  4344676511950444         120.34  1030947720   \n",
       "3                0  4344676511950444         128.95  1030988700   \n",
       "4                0  4344676511950444         104.71  1031034180   \n",
       "...            ...               ...            ...         ...   \n",
       "19934            0  4879494103069057        -295.00  1582816920   \n",
       "10544            0  4582313478255491          46.77  1582870980   \n",
       "19935            0  4879494103069057         114.51  1582871340   \n",
       "19936            0  4879494103069057          34.11  1582872780   \n",
       "10545            0  4582313478255491          41.05  1582875360   \n",
       "\n",
       "                     date        merchant.name  merchant.city merchant.state   \n",
       "0     2002-09-01 06:21:00  3527213246127876953       La Verne             CA  \\\n",
       "1     2002-09-01 06:42:00  -727612092139916043  Monterey Park             CA   \n",
       "2     2002-09-02 06:22:00  -727612092139916043  Monterey Park             CA   \n",
       "3     2002-09-02 17:45:00  3414527459579106770  Monterey Park             CA   \n",
       "4     2002-09-03 06:23:00  5817218446178736267       La Verne             CA   \n",
       "...                   ...                  ...            ...            ...   \n",
       "19934 2020-02-27 15:22:00  7834055923142137930       New York             NY   \n",
       "10544 2020-02-28 06:23:00  -727612092139916043  Monterey Park             CA   \n",
       "19935 2020-02-28 06:29:00   -34551508091458520       La Verne             CA   \n",
       "19936 2020-02-28 06:53:00   -34551508091458520       La Verne             CA   \n",
       "10545 2020-02-28 07:36:00  5817218446178736267       La Verne             CA   \n",
       "\n",
       "      is_fraud  age               chip  gender customer.city customer.state   \n",
       "0           No   53  Swipe Transaction  Female      La Verne             CA  \\\n",
       "1           No   53  Swipe Transaction  Female      La Verne             CA   \n",
       "2           No   53  Swipe Transaction  Female      La Verne             CA   \n",
       "3           No   53  Swipe Transaction  Female      La Verne             CA   \n",
       "4           No   53  Swipe Transaction  Female      La Verne             CA   \n",
       "...        ...  ...                ...     ...           ...            ...   \n",
       "19934       No   53  Swipe Transaction  Female      La Verne             CA   \n",
       "10544       No   53   Chip Transaction  Female      La Verne             CA   \n",
       "19935       No   53  Swipe Transaction  Female      La Verne             CA   \n",
       "19936       No   53  Swipe Transaction  Female      La Verne             CA   \n",
       "10545       No   53   Chip Transaction  Female      La Verne             CA   \n",
       "\n",
       "       score  num_cards  total_debt  credit_limit card.brand  latitude   \n",
       "0        787          5    127613.0       24295.0       Visa     34.15  \\\n",
       "1        787          5    127613.0       24295.0       Visa     34.15   \n",
       "2        787          5    127613.0       24295.0       Visa     34.15   \n",
       "3        787          5    127613.0       24295.0       Visa     34.15   \n",
       "4        787          5    127613.0       24295.0       Visa     34.15   \n",
       "...      ...        ...         ...           ...        ...       ...   \n",
       "19934    787          5    127613.0       12400.0       Visa     34.15   \n",
       "10544    787          5    127613.0       46414.0       Visa     34.15   \n",
       "19935    787          5    127613.0       12400.0       Visa     34.15   \n",
       "19936    787          5    127613.0       12400.0       Visa     34.15   \n",
       "10545    787          5    127613.0       46414.0       Visa     34.15   \n",
       "\n",
       "       longitude direction  amount_usd  log_amount  is_known_merchant   \n",
       "0        -117.76  outbound      134.09    4.905941                  0  \\\n",
       "1        -117.76  outbound       38.48    3.675794                  0   \n",
       "2        -117.76  outbound      120.34    4.798597                  1   \n",
       "3        -117.76  outbound      128.95    4.867150                  0   \n",
       "4        -117.76  outbound      104.71    4.660699                  0   \n",
       "...          ...       ...         ...         ...                ...   \n",
       "19934    -117.76   inbound      295.00    5.690359                  1   \n",
       "10544    -117.76  outbound       46.77    3.866398                  1   \n",
       "19935    -117.76  outbound      114.51    4.749357                  1   \n",
       "19936    -117.76  outbound       34.11    3.558486                  1   \n",
       "10545    -117.76  outbound       41.05    3.738859                  1   \n",
       "\n",
       "       log_timediff  same_city  same_state  \n",
       "0          0.000000       True        True  \n",
       "1          7.139660      False        True  \n",
       "2         11.352768      False        True  \n",
       "3         10.620864      False        True  \n",
       "4         10.725050       True        True  \n",
       "...             ...        ...         ...  \n",
       "19934      5.707110      False       False  \n",
       "10544     10.897868      False        True  \n",
       "19935      5.888878       True        True  \n",
       "19936      7.273093       True        True  \n",
       "10545      7.855932       True        True  \n",
       "\n",
       "[19963 rows x 28 columns]"
      ]
     },
     "execution_count": 25,
     "metadata": {},
     "output_type": "execute_result"
    }
   ],
   "source": [
    "g = new_groups[0]\n",
    "g"
   ]
  },
  {
   "cell_type": "code",
   "execution_count": 10,
   "metadata": {},
   "outputs": [
    {
     "data": {
      "text/plain": [
       "card.brand\n",
       "Visa          19937\n",
       "Mastercard       26\n",
       "Name: count, dtype: int64"
      ]
     },
     "execution_count": 10,
     "metadata": {},
     "output_type": "execute_result"
    }
   ],
   "source": [
    "g['card.brand'].value_counts()"
   ]
  },
  {
   "cell_type": "code",
   "execution_count": 26,
   "metadata": {},
   "outputs": [],
   "source": [
    "data = pd.concat(objs=new_groups)"
   ]
  },
  {
   "cell_type": "code",
   "execution_count": 27,
   "metadata": {},
   "outputs": [],
   "source": [
    "data['merchant.state'].fillna('None', inplace=True)"
   ]
  },
  {
   "cell_type": "code",
   "execution_count": 28,
   "metadata": {},
   "outputs": [
    {
     "data": {
      "text/plain": [
       "0.0"
      ]
     },
     "execution_count": 28,
     "metadata": {},
     "output_type": "execute_result"
    }
   ],
   "source": [
    "data['merchant.state'].isna().mean()"
   ]
  },
  {
   "cell_type": "code",
   "execution_count": 29,
   "metadata": {},
   "outputs": [
    {
     "data": {
      "text/plain": [
       "29757"
      ]
     },
     "execution_count": 29,
     "metadata": {},
     "output_type": "execute_result"
    }
   ],
   "source": [
    "len(data[data['is_fraud'] == 'Yes'])"
   ]
  },
  {
   "cell_type": "code",
   "execution_count": 30,
   "metadata": {},
   "outputs": [
    {
     "data": {
      "text/plain": [
       "merchant.state\n",
       "None        2720821\n",
       "CA          2591830\n",
       "TX          1793298\n",
       "FL          1458699\n",
       "NY          1446864\n",
       "             ...   \n",
       "Tonga             2\n",
       "Togo              2\n",
       "Kiribati          1\n",
       "Paraguay          1\n",
       "Botswana          1\n",
       "Name: count, Length: 224, dtype: int64"
      ]
     },
     "execution_count": 30,
     "metadata": {},
     "output_type": "execute_result"
    }
   ],
   "source": [
    "data['merchant.state'].value_counts()"
   ]
  },
  {
   "cell_type": "code",
   "execution_count": 906,
   "metadata": {},
   "outputs": [],
   "source": [
    "def convert_time_features(df, datetime_column_name = 'datetime'):\n",
    "    \"\"\"\n",
    "\tConverts `datetime_column_name` from DataFrame to 2D sin/cos encoded\n",
    "\tnumerical features. Encodes\n",
    "\t- day of the week\n",
    "\t- day of the month\n",
    "\t- month of the year\n",
    "    - hour of day\n",
    "    - minute of hour\n",
    "\n",
    "\t:returns\n",
    "\t- np.array of shape (nrows, 10)\n",
    "\t\"\"\"\n",
    "\n",
    "    # Convert the date column to datetime objects\n",
    "    dates = pd.to_datetime(df[datetime_column_name])\n",
    "\n",
    "    # Calculate the angles for each time feature\n",
    "    day_of_week_angle = 2 * np.pi * dates.dt.dayofweek / 7\n",
    "    day_of_month_angle = 2 * np.pi * (dates.dt.day - 1) / (dates.dt.daysinmonth - 1)\n",
    "    month_angle = 2 * np.pi * (dates.dt.month - 1) / 12\n",
    "    hour_angle = 2 * np.pi * (dates.dt.hour - 1) / 24\n",
    "    minute_angle = 2 * np.pi * (dates.dt.minute - 1) / 60\n",
    "\n",
    "    # Transform the angles into continuous features using sine and cosine functions\n",
    "    day_of_week = np.column_stack((np.sin(day_of_week_angle), np.cos(day_of_week_angle)))\n",
    "    day_of_month = np.column_stack((np.sin(day_of_month_angle), np.cos(day_of_month_angle)))\n",
    "    month = np.column_stack((np.sin(month_angle), np.cos(month_angle)))\n",
    "    hour = np.column_stack((np.sin(hour_angle), np.cos(hour_angle)))\n",
    "    minute = np.column_stack((np.sin(minute_angle), np.cos(minute_angle)))\n",
    "\n",
    "    # Combine the continuous features into a single numpy array\n",
    "    time_features = np.hstack((day_of_week, day_of_month, month, hour, minute))\n",
    "\n",
    "    return time_features"
   ]
  },
  {
   "cell_type": "code",
   "execution_count": 907,
   "metadata": {},
   "outputs": [
    {
     "data": {
      "text/html": [
       "<div>\n",
       "<style scoped>\n",
       "    .dataframe tbody tr th:only-of-type {\n",
       "        vertical-align: middle;\n",
       "    }\n",
       "\n",
       "    .dataframe tbody tr th {\n",
       "        vertical-align: top;\n",
       "    }\n",
       "\n",
       "    .dataframe thead th {\n",
       "        text-align: right;\n",
       "    }\n",
       "</style>\n",
       "<table border=\"1\" class=\"dataframe\">\n",
       "  <thead>\n",
       "    <tr style=\"text-align: right;\">\n",
       "      <th></th>\n",
       "      <th>customer.id</th>\n",
       "      <th>card.id</th>\n",
       "      <th>amount_signed</th>\n",
       "      <th>timestamp</th>\n",
       "      <th>date</th>\n",
       "      <th>merchant.name</th>\n",
       "      <th>merchant.city</th>\n",
       "      <th>merchant.state</th>\n",
       "      <th>is_fraud</th>\n",
       "      <th>age</th>\n",
       "      <th>chip</th>\n",
       "      <th>gender</th>\n",
       "      <th>customer.city</th>\n",
       "      <th>customer.state</th>\n",
       "      <th>score</th>\n",
       "      <th>num_cards</th>\n",
       "      <th>total_debt</th>\n",
       "      <th>credit_limit</th>\n",
       "      <th>card.brand</th>\n",
       "      <th>latitude</th>\n",
       "      <th>longitude</th>\n",
       "      <th>direction</th>\n",
       "      <th>amount_usd</th>\n",
       "      <th>log_amount</th>\n",
       "      <th>is_known_merchant</th>\n",
       "      <th>log_timediff</th>\n",
       "      <th>same_city</th>\n",
       "      <th>same_state</th>\n",
       "    </tr>\n",
       "  </thead>\n",
       "  <tbody>\n",
       "    <tr>\n",
       "      <th>0</th>\n",
       "      <td>0</td>\n",
       "      <td>4344676511950444</td>\n",
       "      <td>134.09</td>\n",
       "      <td>1030861260</td>\n",
       "      <td>2002-09-01 06:21:00</td>\n",
       "      <td>3527213246127876953</td>\n",
       "      <td>La Verne</td>\n",
       "      <td>CA</td>\n",
       "      <td>No</td>\n",
       "      <td>53</td>\n",
       "      <td>Swipe Transaction</td>\n",
       "      <td>Female</td>\n",
       "      <td>La Verne</td>\n",
       "      <td>CA</td>\n",
       "      <td>787</td>\n",
       "      <td>5</td>\n",
       "      <td>127613.0</td>\n",
       "      <td>24295.0</td>\n",
       "      <td>Visa</td>\n",
       "      <td>34.15</td>\n",
       "      <td>-117.76</td>\n",
       "      <td>outbound</td>\n",
       "      <td>134.09</td>\n",
       "      <td>4.905941</td>\n",
       "      <td>0</td>\n",
       "      <td>0.000000</td>\n",
       "      <td>True</td>\n",
       "      <td>True</td>\n",
       "    </tr>\n",
       "    <tr>\n",
       "      <th>1</th>\n",
       "      <td>0</td>\n",
       "      <td>4344676511950444</td>\n",
       "      <td>38.48</td>\n",
       "      <td>1030862520</td>\n",
       "      <td>2002-09-01 06:42:00</td>\n",
       "      <td>-727612092139916043</td>\n",
       "      <td>Monterey Park</td>\n",
       "      <td>CA</td>\n",
       "      <td>No</td>\n",
       "      <td>53</td>\n",
       "      <td>Swipe Transaction</td>\n",
       "      <td>Female</td>\n",
       "      <td>La Verne</td>\n",
       "      <td>CA</td>\n",
       "      <td>787</td>\n",
       "      <td>5</td>\n",
       "      <td>127613.0</td>\n",
       "      <td>24295.0</td>\n",
       "      <td>Visa</td>\n",
       "      <td>34.15</td>\n",
       "      <td>-117.76</td>\n",
       "      <td>outbound</td>\n",
       "      <td>38.48</td>\n",
       "      <td>3.675794</td>\n",
       "      <td>0</td>\n",
       "      <td>7.139660</td>\n",
       "      <td>False</td>\n",
       "      <td>True</td>\n",
       "    </tr>\n",
       "    <tr>\n",
       "      <th>2</th>\n",
       "      <td>0</td>\n",
       "      <td>4344676511950444</td>\n",
       "      <td>120.34</td>\n",
       "      <td>1030947720</td>\n",
       "      <td>2002-09-02 06:22:00</td>\n",
       "      <td>-727612092139916043</td>\n",
       "      <td>Monterey Park</td>\n",
       "      <td>CA</td>\n",
       "      <td>No</td>\n",
       "      <td>53</td>\n",
       "      <td>Swipe Transaction</td>\n",
       "      <td>Female</td>\n",
       "      <td>La Verne</td>\n",
       "      <td>CA</td>\n",
       "      <td>787</td>\n",
       "      <td>5</td>\n",
       "      <td>127613.0</td>\n",
       "      <td>24295.0</td>\n",
       "      <td>Visa</td>\n",
       "      <td>34.15</td>\n",
       "      <td>-117.76</td>\n",
       "      <td>outbound</td>\n",
       "      <td>120.34</td>\n",
       "      <td>4.798597</td>\n",
       "      <td>1</td>\n",
       "      <td>11.352768</td>\n",
       "      <td>False</td>\n",
       "      <td>True</td>\n",
       "    </tr>\n",
       "    <tr>\n",
       "      <th>3</th>\n",
       "      <td>0</td>\n",
       "      <td>4344676511950444</td>\n",
       "      <td>128.95</td>\n",
       "      <td>1030988700</td>\n",
       "      <td>2002-09-02 17:45:00</td>\n",
       "      <td>3414527459579106770</td>\n",
       "      <td>Monterey Park</td>\n",
       "      <td>CA</td>\n",
       "      <td>No</td>\n",
       "      <td>53</td>\n",
       "      <td>Swipe Transaction</td>\n",
       "      <td>Female</td>\n",
       "      <td>La Verne</td>\n",
       "      <td>CA</td>\n",
       "      <td>787</td>\n",
       "      <td>5</td>\n",
       "      <td>127613.0</td>\n",
       "      <td>24295.0</td>\n",
       "      <td>Visa</td>\n",
       "      <td>34.15</td>\n",
       "      <td>-117.76</td>\n",
       "      <td>outbound</td>\n",
       "      <td>128.95</td>\n",
       "      <td>4.867150</td>\n",
       "      <td>0</td>\n",
       "      <td>10.620864</td>\n",
       "      <td>False</td>\n",
       "      <td>True</td>\n",
       "    </tr>\n",
       "    <tr>\n",
       "      <th>4</th>\n",
       "      <td>0</td>\n",
       "      <td>4344676511950444</td>\n",
       "      <td>104.71</td>\n",
       "      <td>1031034180</td>\n",
       "      <td>2002-09-03 06:23:00</td>\n",
       "      <td>5817218446178736267</td>\n",
       "      <td>La Verne</td>\n",
       "      <td>CA</td>\n",
       "      <td>No</td>\n",
       "      <td>53</td>\n",
       "      <td>Swipe Transaction</td>\n",
       "      <td>Female</td>\n",
       "      <td>La Verne</td>\n",
       "      <td>CA</td>\n",
       "      <td>787</td>\n",
       "      <td>5</td>\n",
       "      <td>127613.0</td>\n",
       "      <td>24295.0</td>\n",
       "      <td>Visa</td>\n",
       "      <td>34.15</td>\n",
       "      <td>-117.76</td>\n",
       "      <td>outbound</td>\n",
       "      <td>104.71</td>\n",
       "      <td>4.660699</td>\n",
       "      <td>0</td>\n",
       "      <td>10.725050</td>\n",
       "      <td>True</td>\n",
       "      <td>True</td>\n",
       "    </tr>\n",
       "  </tbody>\n",
       "</table>\n",
       "</div>"
      ],
      "text/plain": [
       "   customer.id           card.id  amount_signed   timestamp   \n",
       "0            0  4344676511950444         134.09  1030861260  \\\n",
       "1            0  4344676511950444          38.48  1030862520   \n",
       "2            0  4344676511950444         120.34  1030947720   \n",
       "3            0  4344676511950444         128.95  1030988700   \n",
       "4            0  4344676511950444         104.71  1031034180   \n",
       "\n",
       "                 date        merchant.name  merchant.city merchant.state   \n",
       "0 2002-09-01 06:21:00  3527213246127876953       La Verne             CA  \\\n",
       "1 2002-09-01 06:42:00  -727612092139916043  Monterey Park             CA   \n",
       "2 2002-09-02 06:22:00  -727612092139916043  Monterey Park             CA   \n",
       "3 2002-09-02 17:45:00  3414527459579106770  Monterey Park             CA   \n",
       "4 2002-09-03 06:23:00  5817218446178736267       La Verne             CA   \n",
       "\n",
       "  is_fraud  age               chip  gender customer.city customer.state   \n",
       "0       No   53  Swipe Transaction  Female      La Verne             CA  \\\n",
       "1       No   53  Swipe Transaction  Female      La Verne             CA   \n",
       "2       No   53  Swipe Transaction  Female      La Verne             CA   \n",
       "3       No   53  Swipe Transaction  Female      La Verne             CA   \n",
       "4       No   53  Swipe Transaction  Female      La Verne             CA   \n",
       "\n",
       "   score  num_cards  total_debt  credit_limit card.brand  latitude  longitude   \n",
       "0    787          5    127613.0       24295.0       Visa     34.15    -117.76  \\\n",
       "1    787          5    127613.0       24295.0       Visa     34.15    -117.76   \n",
       "2    787          5    127613.0       24295.0       Visa     34.15    -117.76   \n",
       "3    787          5    127613.0       24295.0       Visa     34.15    -117.76   \n",
       "4    787          5    127613.0       24295.0       Visa     34.15    -117.76   \n",
       "\n",
       "  direction  amount_usd  log_amount  is_known_merchant  log_timediff   \n",
       "0  outbound      134.09    4.905941                  0      0.000000  \\\n",
       "1  outbound       38.48    3.675794                  0      7.139660   \n",
       "2  outbound      120.34    4.798597                  1     11.352768   \n",
       "3  outbound      128.95    4.867150                  0     10.620864   \n",
       "4  outbound      104.71    4.660699                  0     10.725050   \n",
       "\n",
       "   same_city  same_state  \n",
       "0       True        True  \n",
       "1      False        True  \n",
       "2      False        True  \n",
       "3      False        True  \n",
       "4       True        True  "
      ]
     },
     "execution_count": 907,
     "metadata": {},
     "output_type": "execute_result"
    }
   ],
   "source": [
    "data.head()"
   ]
  },
  {
   "cell_type": "code",
   "execution_count": 908,
   "metadata": {},
   "outputs": [
    {
     "data": {
      "text/plain": [
       "<pandas.core.indexes.accessors.DatetimeProperties object at 0xa079aa800>"
      ]
     },
     "execution_count": 908,
     "metadata": {},
     "output_type": "execute_result"
    }
   ],
   "source": [
    "data.date.dt"
   ]
  },
  {
   "cell_type": "code",
   "execution_count": 909,
   "metadata": {},
   "outputs": [],
   "source": [
    "tmp = convert_time_features(data, 'date')"
   ]
  },
  {
   "cell_type": "code",
   "execution_count": 910,
   "metadata": {},
   "outputs": [
    {
     "data": {
      "text/plain": [
       "(24386900, 10)"
      ]
     },
     "execution_count": 910,
     "metadata": {},
     "output_type": "execute_result"
    }
   ],
   "source": [
    "tmp.shape"
   ]
  },
  {
   "cell_type": "code",
   "execution_count": 911,
   "metadata": {},
   "outputs": [
    {
     "data": {
      "text/html": [
       "<style>#sk-container-id-3 {color: black;background-color: white;}#sk-container-id-3 pre{padding: 0;}#sk-container-id-3 div.sk-toggleable {background-color: white;}#sk-container-id-3 label.sk-toggleable__label {cursor: pointer;display: block;width: 100%;margin-bottom: 0;padding: 0.3em;box-sizing: border-box;text-align: center;}#sk-container-id-3 label.sk-toggleable__label-arrow:before {content: \"▸\";float: left;margin-right: 0.25em;color: #696969;}#sk-container-id-3 label.sk-toggleable__label-arrow:hover:before {color: black;}#sk-container-id-3 div.sk-estimator:hover label.sk-toggleable__label-arrow:before {color: black;}#sk-container-id-3 div.sk-toggleable__content {max-height: 0;max-width: 0;overflow: hidden;text-align: left;background-color: #f0f8ff;}#sk-container-id-3 div.sk-toggleable__content pre {margin: 0.2em;color: black;border-radius: 0.25em;background-color: #f0f8ff;}#sk-container-id-3 input.sk-toggleable__control:checked~div.sk-toggleable__content {max-height: 200px;max-width: 100%;overflow: auto;}#sk-container-id-3 input.sk-toggleable__control:checked~label.sk-toggleable__label-arrow:before {content: \"▾\";}#sk-container-id-3 div.sk-estimator input.sk-toggleable__control:checked~label.sk-toggleable__label {background-color: #d4ebff;}#sk-container-id-3 div.sk-label input.sk-toggleable__control:checked~label.sk-toggleable__label {background-color: #d4ebff;}#sk-container-id-3 input.sk-hidden--visually {border: 0;clip: rect(1px 1px 1px 1px);clip: rect(1px, 1px, 1px, 1px);height: 1px;margin: -1px;overflow: hidden;padding: 0;position: absolute;width: 1px;}#sk-container-id-3 div.sk-estimator {font-family: monospace;background-color: #f0f8ff;border: 1px dotted black;border-radius: 0.25em;box-sizing: border-box;margin-bottom: 0.5em;}#sk-container-id-3 div.sk-estimator:hover {background-color: #d4ebff;}#sk-container-id-3 div.sk-parallel-item::after {content: \"\";width: 100%;border-bottom: 1px solid gray;flex-grow: 1;}#sk-container-id-3 div.sk-label:hover label.sk-toggleable__label {background-color: #d4ebff;}#sk-container-id-3 div.sk-serial::before {content: \"\";position: absolute;border-left: 1px solid gray;box-sizing: border-box;top: 0;bottom: 0;left: 50%;z-index: 0;}#sk-container-id-3 div.sk-serial {display: flex;flex-direction: column;align-items: center;background-color: white;padding-right: 0.2em;padding-left: 0.2em;position: relative;}#sk-container-id-3 div.sk-item {position: relative;z-index: 1;}#sk-container-id-3 div.sk-parallel {display: flex;align-items: stretch;justify-content: center;background-color: white;position: relative;}#sk-container-id-3 div.sk-item::before, #sk-container-id-3 div.sk-parallel-item::before {content: \"\";position: absolute;border-left: 1px solid gray;box-sizing: border-box;top: 0;bottom: 0;left: 50%;z-index: -1;}#sk-container-id-3 div.sk-parallel-item {display: flex;flex-direction: column;z-index: 1;position: relative;background-color: white;}#sk-container-id-3 div.sk-parallel-item:first-child::after {align-self: flex-end;width: 50%;}#sk-container-id-3 div.sk-parallel-item:last-child::after {align-self: flex-start;width: 50%;}#sk-container-id-3 div.sk-parallel-item:only-child::after {width: 0;}#sk-container-id-3 div.sk-dashed-wrapped {border: 1px dashed gray;margin: 0 0.4em 0.5em 0.4em;box-sizing: border-box;padding-bottom: 0.4em;background-color: white;}#sk-container-id-3 div.sk-label label {font-family: monospace;font-weight: bold;display: inline-block;line-height: 1.2em;}#sk-container-id-3 div.sk-label-container {text-align: center;}#sk-container-id-3 div.sk-container {/* jupyter's `normalize.less` sets `[hidden] { display: none; }` but bootstrap.min.css set `[hidden] { display: none !important; }` so we also need the `!important` here to be able to override the default hidden behavior on the sphinx rendered scikit-learn.org. See: https://github.com/scikit-learn/scikit-learn/issues/21755 */display: inline-block !important;position: relative;}#sk-container-id-3 div.sk-text-repr-fallback {display: none;}</style><div id=\"sk-container-id-3\" class=\"sk-top-container\"><div class=\"sk-text-repr-fallback\"><pre>OneHotEncoder(min_frequency=5, sparse_output=False)</pre><b>In a Jupyter environment, please rerun this cell to show the HTML representation or trust the notebook. <br />On GitHub, the HTML representation is unable to render, please try loading this page with nbviewer.org.</b></div><div class=\"sk-container\" hidden><div class=\"sk-item\"><div class=\"sk-estimator sk-toggleable\"><input class=\"sk-toggleable__control sk-hidden--visually\" id=\"sk-estimator-id-3\" type=\"checkbox\" checked><label for=\"sk-estimator-id-3\" class=\"sk-toggleable__label sk-toggleable__label-arrow\">OneHotEncoder</label><div class=\"sk-toggleable__content\"><pre>OneHotEncoder(min_frequency=5, sparse_output=False)</pre></div></div></div></div></div>"
      ],
      "text/plain": [
       "OneHotEncoder(min_frequency=5, sparse_output=False)"
      ]
     },
     "execution_count": 911,
     "metadata": {},
     "output_type": "execute_result"
    }
   ],
   "source": [
    "from sklearn.preprocessing import OneHotEncoder\n",
    "\n",
    "oh_customer_state = OneHotEncoder(min_frequency=1, sparse_output=False)\n",
    "oh_merchant_state = OneHotEncoder(min_frequency=5, sparse_output=False)\n",
    "\n",
    "oh_customer_state.fit(np.array(data['customer.state']).reshape(-1,1))\n",
    "oh_merchant_state.fit(np.array(data['merchant.state']).reshape(-1,1))"
   ]
  },
  {
   "cell_type": "code",
   "execution_count": 912,
   "metadata": {},
   "outputs": [],
   "source": [
    "class TransactionDataset(Dataset):\n",
    "    def __init__(self, gdf, oh_c, oh_m, seq_length):\n",
    "        self.gdf = gdf\n",
    "        self.len = len(gdf)\n",
    "        self.groups = list(gdf.groups)\n",
    "        self.oh_customer_state = oh_c\n",
    "        self.oh_merchant_state = oh_m\n",
    "        self.seq_length = seq_length\n",
    "\n",
    "    def __len__(self):\n",
    "        return len(self.groups)\n",
    "\n",
    "    def __getitem__(self, idx):\n",
    "        g = self.get_group(idx)\n",
    "        data, label = self.process_rows(g)\n",
    "        return data, label\n",
    "    \n",
    "    def get_group_by_label(self, group_ix, transaction_ix):\n",
    "        g = self.gdf.get_group(group_ix)\n",
    "\n",
    "        loc_idx = g.index.get_loc(transaction_ix)\n",
    "\n",
    "        start_ix = loc_idx - self.seq_length + 1\n",
    "        if start_ix < 0:\n",
    "            return None\n",
    "        \n",
    "        g = g.iloc[start_ix:loc_idx+1]\n",
    "        return self.process_rows(g)\n",
    "        \n",
    "    \n",
    "    def get_group(self, idx):\n",
    "        # get the group\n",
    "        g = self.gdf.get_group(self.groups[idx])\n",
    "\n",
    "        # get the sequence length of customers transactions\n",
    "        l = len(g)\n",
    "        start_ix = random.sample(range(l - self.seq_length), 1)[0] + 1\n",
    "        g = g.iloc[start_ix:start_ix + self.seq_length]\n",
    "        return g\n",
    "    \n",
    "    def get_group_all_sequences(self, idx):\n",
    "        # get the group\n",
    "        g = self.gdf.get_group(self.groups[idx])\n",
    "\n",
    "        # process values and labels\n",
    "        processed, _ = self.process_rows(g)\n",
    "        labels = np.array(g['is_fraud'] == 'Yes', dtype=float)\n",
    "\n",
    "        max_len = processed.shape[0]\n",
    "        sequences = [processed[start_ix:start_ix+self.seq_length] for start_ix in range(max_len - self.seq_length + 1)]\n",
    "        sequences = np.stack(sequences, axis=0)\n",
    "        labels = np.hstack([labels[start_ix + self.seq_length - 1] for start_ix in range(max_len - self.seq_length + 1)])\n",
    "        \n",
    "        return sequences, labels\n",
    "\n",
    "    \n",
    "    def process_rows(self, g):\n",
    "        # process the data\n",
    "        direction = np.array(g['direction'] == 'inbound', dtype=float)\n",
    "        brand = np.array(g['card.brand'] == 'Visa', dtype=float)\n",
    "        gender = np.array(g['gender'] == 'female', dtype=float)\n",
    "        same_city = np.array(g['same_city'], dtype=float)\n",
    "        same_state = np.array(g['same_state'], dtype=float)\n",
    "        known_merchant = np.array(g['is_known_merchant'], dtype=float)\n",
    "        debt = np.array(np.log(1 + g['total_debt']), dtype=float)\n",
    "        limit = np.array(np.log(1 + g['credit_limit']), dtype=float)\n",
    "        \n",
    "        customer_state = self.oh_customer_state.transform(np.array(g['customer.state']).reshape(-1,1))\n",
    "        merchant_state = self.oh_merchant_state.transform(np.array(g['merchant.state']).reshape(-1,1))\n",
    "\n",
    "        Fnum = np.array(g[['age', 'num_cards', 'log_amount', 'log_timediff', 'latitude', 'longitude']], dtype=float)\n",
    "        if len(Fnum.shape) == 1:\n",
    "            Fnum = Fnum.reshape(-1,1).transpose()\n",
    "            \n",
    "        Fcat = np.vstack((debt, limit, direction, brand, gender, same_city, same_state, known_merchant)).transpose()\n",
    "        Fdatetime = convert_time_features(g, 'date')\n",
    "\n",
    "        F = np.hstack((customer_state, merchant_state, Fnum, Fcat, Fdatetime))\n",
    "\n",
    "        # get the label of the last transaction in the sequence\n",
    "        label = np.array(g.iloc[-1]['is_fraud'] == 'Yes', dtype=float)\n",
    "\n",
    "        return np.array(F, dtype=float), label"
   ]
  },
  {
   "attachments": {},
   "cell_type": "markdown",
   "metadata": {},
   "source": [
    "Here, we need to create a train / validation / test split. The goal is to split by customers (or by cards, but generally customers), because we need to flag based on customer's behavior.\n",
    "\n",
    "In the notebook `classifier.ipynb`, there is a point-wise detection, which is quite bad.\n",
    "\n",
    "Here, we want to do detection based on RNNs and sequences of transactions. For us to be able to do that, we need to prepare the data and create the sequences on the go. So, let's dive in."
   ]
  },
  {
   "cell_type": "code",
   "execution_count": 469,
   "metadata": {},
   "outputs": [
    {
     "name": "stdout",
     "output_type": "stream",
     "text": [
      "1120\n",
      "480\n",
      "400\n"
     ]
    }
   ],
   "source": [
    "# Split indexes by customers\n",
    "\n",
    "from sklearn.model_selection import train_test_split\n",
    "\n",
    "grouped_df = data.groupby('customer.id')\n",
    "groups = np.array(list(grouped_df.groups))\n",
    "\n",
    "index_list = list(range(len(groups)))\n",
    "tmp, _test_ix = train_test_split(index_list, test_size=0.2, random_state=31)\n",
    "_train_ix, _val_ix = train_test_split(tmp, test_size=0.3, random_state=31)\n",
    "\n",
    "print(len(_train_ix))\n",
    "print(len(_val_ix))\n",
    "print(len(_test_ix))\n",
    "\n",
    "train_ix = []\n",
    "val_ix = []\n",
    "test_ix = []\n",
    "\n",
    "for gix in groups[_train_ix]:\n",
    "    g = grouped_df.get_group(gix)\n",
    "    indexes = g.index\n",
    "    train_ix.extend(indexes)\n",
    "\n",
    "for gix in groups[_val_ix]:\n",
    "    g = grouped_df.get_group(gix)\n",
    "    indexes = g.index\n",
    "    val_ix.extend(indexes)\n",
    "\n",
    "for gix in groups[_test_ix]:\n",
    "    g = grouped_df.get_group(gix)\n",
    "    indexes = g.index\n",
    "    test_ix.extend(indexes)"
   ]
  },
  {
   "cell_type": "code",
   "execution_count": 481,
   "metadata": {},
   "outputs": [],
   "source": [
    "train_data = data.loc[train_ix]\n",
    "val_data = data.loc[val_ix]\n",
    "test_data = data.loc[test_ix]"
   ]
  },
  {
   "cell_type": "code",
   "execution_count": 913,
   "metadata": {},
   "outputs": [],
   "source": [
    "train_dataset = TransactionDataset(train_data.groupby('customer.id'), oh_customer_state, oh_merchant_state, 10)\n",
    "val_dataset = TransactionDataset(val_data.groupby('customer.id'), oh_customer_state, oh_merchant_state, 10)\n",
    "test_dataset = TransactionDataset(test_data.groupby('customer.id'), oh_customer_state, oh_merchant_state, 10)"
   ]
  },
  {
   "cell_type": "code",
   "execution_count": 914,
   "metadata": {},
   "outputs": [
    {
     "data": {
      "text/plain": [
       "(10, 289)"
      ]
     },
     "execution_count": 914,
     "metadata": {},
     "output_type": "execute_result"
    }
   ],
   "source": [
    "d, l = train_dataset[1]\n",
    "d.shape"
   ]
  },
  {
   "cell_type": "code",
   "execution_count": 915,
   "metadata": {},
   "outputs": [],
   "source": [
    "x, y = train_dataset.get_group_all_sequences(0)"
   ]
  },
  {
   "cell_type": "code",
   "execution_count": 916,
   "metadata": {},
   "outputs": [
    {
     "name": "stdout",
     "output_type": "stream",
     "text": [
      "(19954, 10, 289)\n",
      "(19954,)\n",
      "27.0\n"
     ]
    }
   ],
   "source": [
    "print(x.shape)\n",
    "print(y.shape)\n",
    "print(np.sum(y))"
   ]
  },
  {
   "cell_type": "code",
   "execution_count": 942,
   "metadata": {},
   "outputs": [],
   "source": [
    "def get_predictions(model, dataset, break_at=100):\n",
    "    model.eval()\n",
    "    ytrue = []\n",
    "    yhat = []\n",
    "    tmp = 0\n",
    "    for i in tqdm(range(len(dataset))):\n",
    "        x, y = dataset.get_group_all_sequences(i)\n",
    "        with torch.no_grad():\n",
    "            yh = model(torch.tensor(x, dtype=torch.float32))\n",
    "            ytrue.extend(y)\n",
    "            yhat.extend(yh.detach().numpy())\n",
    "            tmp += 1\n",
    "            if tmp > break_at:\n",
    "                break\n",
    "\n",
    "    return ytrue, yhat"
   ]
  },
  {
   "cell_type": "code",
   "execution_count": 740,
   "metadata": {},
   "outputs": [],
   "source": [
    "def calculate_accuracy_and_f1(model, dataset, break_at=100, return_values=False) -> tuple:\n",
    "    \"\"\"\n",
    "    Calculates accuracy and F1 score for specified number of samples in `dataset`.\n",
    "\n",
    "    returns: f1, acc\n",
    "    \"\"\"\n",
    "    model.eval()\n",
    "    ytrue = []\n",
    "    yhat = []\n",
    "    tmp = 0\n",
    "    for i in tqdm(range(len(dataset))):\n",
    "        x, y = dataset.get_group_all_sequences(i)\n",
    "        with torch.no_grad():\n",
    "            yh = model(torch.tensor(x, dtype=torch.float32))\n",
    "            ytrue.extend(y)\n",
    "            yhat.extend(yh.detach().numpy())\n",
    "            tmp += 1\n",
    "            if tmp > break_at:\n",
    "                break\n",
    "\n",
    "    f1 = f1_score(ytrue, np.round(yhat))\n",
    "    acc = accuracy_score(ytrue, np.round(yhat))\n",
    "    print('-'* 40)\n",
    "    print('Scores')\n",
    "    print('   - F1 score:', round(f1, 4))\n",
    "    print('   - Accuracy:', round(acc, 4))\n",
    "    print('-'* 40)\n",
    "    if return_values:\n",
    "        return f1, acc"
   ]
  },
  {
   "attachments": {},
   "cell_type": "markdown",
   "metadata": {},
   "source": [
    "Now, we need the CustomDataset class and CustomUpsampleDataset class to get the samples for training of the RNN model."
   ]
  },
  {
   "cell_type": "code",
   "execution_count": 473,
   "metadata": {},
   "outputs": [],
   "source": [
    "pos_idx = {}\n",
    "neg_idx = {}\n",
    "for cid, group in train_data.groupby('customer.id'):\n",
    "    p = group[group['is_fraud'] == 'Yes'].index\n",
    "    n = group[group['is_fraud'] == 'No'].index\n",
    "\n",
    "    if len(p) > 0:\n",
    "        pos_idx[cid] = p\n",
    "    if len(n) > 0:\n",
    "        neg_idx[cid] = n"
   ]
  },
  {
   "cell_type": "code",
   "execution_count": 760,
   "metadata": {},
   "outputs": [],
   "source": [
    "class CustomDataset(Dataset):\n",
    "    def __init__(self, dataset):\n",
    "        self.dataset = dataset\n",
    "\n",
    "    def __len__(self):\n",
    "        return len(self.dataset)\n",
    "\n",
    "    def __getitem__(self, idx):\n",
    "        x, y = self.dataset[idx]\n",
    "        x = torch.tensor(x, dtype=torch.float32)\n",
    "        y = torch.tensor(y, dtype=torch.float32)\n",
    "        return x, y\n",
    "    \n",
    "class CustomUpsampleDataset(Dataset):\n",
    "    def __init__(self, dataset, pidx, nidx, length):\n",
    "        self.dataset = dataset\n",
    "        self.positive_idx = pidx\n",
    "        self.negative_idx = nidx\n",
    "        self.length = length\n",
    "\n",
    "    def __len__(self):\n",
    "        return self.length\n",
    "\n",
    "    def __getitem__(self, idx):\n",
    "\n",
    "        while True:\n",
    "            if random.random() > 0.5:\n",
    "                idx = random.sample(list(self.positive_idx.keys()), 1)[0]\n",
    "                i = random.sample(list(self.positive_idx[idx]), 1)[0]\n",
    "                t = self.dataset.get_group_by_label(idx, i)\n",
    "            else:\n",
    "                idx = random.sample(list(self.negative_idx.keys()), 1)[0]\n",
    "                i = random.sample(list(self.negative_idx[idx]), 1)[0]\n",
    "                t = self.dataset.get_group_by_label(idx, i)\n",
    "            \n",
    "            if t is not None:\n",
    "                x, y = t\n",
    "        \n",
    "                x = torch.tensor(x, dtype=torch.float32).squeeze(0)\n",
    "                y = torch.tensor(y, dtype=torch.float32)\n",
    "                return x, y\n",
    "\n",
    "    @property    \n",
    "    def len(self):\n",
    "        return len(self.dataset)"
   ]
  },
  {
   "cell_type": "code",
   "execution_count": 918,
   "metadata": {},
   "outputs": [
    {
     "name": "stdout",
     "output_type": "stream",
     "text": [
      "Shape of the batch: torch.Size([32, 10, 289])\n"
     ]
    },
    {
     "data": {
      "text/plain": [
       "tensor([0., 0., 1., 0., 0., 0., 0., 1., 0., 0., 1., 0., 0., 1., 0., 0., 1., 0.,\n",
       "        0., 1., 1., 0., 0., 1., 0., 1., 0., 1., 1., 1., 0., 0.])"
      ]
     },
     "execution_count": 918,
     "metadata": {},
     "output_type": "execute_result"
    }
   ],
   "source": [
    "tmp = CustomUpsampleDataset(train_dataset, pos_idx, neg_idx, length=1_000)\n",
    "train_loader = DataLoader(tmp, batch_size=32)\n",
    "\n",
    "for batch in train_loader:\n",
    "    x, y = batch\n",
    "    break\n",
    "\n",
    "print('Shape of the batch:', x.shape)\n",
    "y"
   ]
  },
  {
   "attachments": {},
   "cell_type": "markdown",
   "metadata": {},
   "source": [
    "## PyTorch model\n",
    "\n",
    "Create a RNN model that should predict if the last transaction in the sequence is fraudulent or not."
   ]
  },
  {
   "cell_type": "code",
   "execution_count": 919,
   "metadata": {},
   "outputs": [],
   "source": [
    "import torch.nn as nn\n",
    "\n",
    "class FraudDetector(nn.Module):\n",
    "    def __init__(self, input_size, hidden_size, output_size, num_layers, bidirectional):\n",
    "        super(FraudDetector, self).__init__()\n",
    "        self.pre_net = nn.Linear(input_size, hidden_size)\n",
    "        self.lstm = nn.LSTM(\n",
    "            hidden_size, hidden_size, num_layers,\n",
    "            bidirectional=bidirectional,\n",
    "            batch_first=True\n",
    "        )\n",
    "        self.mult = 2 if bidirectional else 1\n",
    "        self.post_net = nn.Linear(hidden_size * self.mult, output_size)\n",
    "        self.sigmoid = nn.Sigmoid()\n",
    "        \n",
    "    def forward(self, x):\n",
    "        x = self.pre_net(x)\n",
    "        out, (h, c) = self.lstm(x)\n",
    "        out = self.post_net(out)\n",
    "\n",
    "        # return the last value for prediction\n",
    "        return self.sigmoid(out[:, -1, 0])"
   ]
  },
  {
   "cell_type": "code",
   "execution_count": 920,
   "metadata": {},
   "outputs": [],
   "source": [
    "detector = FraudDetector(289, 64, 1, 3, True)"
   ]
  },
  {
   "cell_type": "code",
   "execution_count": 921,
   "metadata": {},
   "outputs": [],
   "source": [
    "yhat = detector(x)"
   ]
  },
  {
   "cell_type": "code",
   "execution_count": 922,
   "metadata": {},
   "outputs": [
    {
     "data": {
      "text/plain": [
       "torch.Size([32, 10, 289])"
      ]
     },
     "execution_count": 922,
     "metadata": {},
     "output_type": "execute_result"
    }
   ],
   "source": [
    "x.shape"
   ]
  },
  {
   "cell_type": "code",
   "execution_count": 923,
   "metadata": {},
   "outputs": [
    {
     "data": {
      "text/plain": [
       "289"
      ]
     },
     "execution_count": 923,
     "metadata": {},
     "output_type": "execute_result"
    }
   ],
   "source": [
    "train_dataset[0][0].shape[-1]"
   ]
  },
  {
   "cell_type": "code",
   "execution_count": 924,
   "metadata": {},
   "outputs": [],
   "source": [
    "# Hyperparameters\n",
    "\n",
    "input_size = train_dataset[0][0].shape[-1]\n",
    "hidden_size = 256\n",
    "num_layers = 3\n",
    "bidirectional = False\n",
    "output_size = 1\n",
    "learning_rate = 0.001\n",
    "\n",
    "batch_size = 64"
   ]
  },
  {
   "cell_type": "code",
   "execution_count": 925,
   "metadata": {},
   "outputs": [
    {
     "data": {
      "text/plain": [
       "FraudDetector(\n",
       "  (pre_net): Linear(in_features=289, out_features=256, bias=True)\n",
       "  (lstm): LSTM(256, 256, num_layers=3, batch_first=True)\n",
       "  (post_net): Linear(in_features=256, out_features=1, bias=True)\n",
       "  (sigmoid): Sigmoid()\n",
       ")"
      ]
     },
     "execution_count": 925,
     "metadata": {},
     "output_type": "execute_result"
    }
   ],
   "source": [
    "# Model, loss, optimizer\n",
    "\n",
    "model = FraudDetector(input_size, hidden_size, output_size, num_layers, bidirectional)\n",
    "# device = torch.device(\"mps\" if torch.backends.mps.is_available() else \"cpu\")\n",
    "device = torch.device('cpu')\n",
    "model.to(device)\n",
    "\n",
    "criterion = nn.BCELoss()\n",
    "optimizer = optim.Adam(model.parameters(), lr=learning_rate)\n",
    "\n",
    "model"
   ]
  },
  {
   "cell_type": "code",
   "execution_count": 926,
   "metadata": {},
   "outputs": [],
   "source": [
    "# DataLoaders\n",
    "\n",
    "tmp1 = CustomUpsampleDataset(train_dataset, pos_idx, neg_idx, length=10_000)\n",
    "train_upsample_loader = DataLoader(tmp1, batch_size=batch_size, shuffle=True)\n",
    "\n",
    "tmp11 = CustomDataset(train_dataset)\n",
    "train_loader = DataLoader(tmp11, batch_size=batch_size, shuffle=False)\n",
    "\n",
    "tmp2 = CustomDataset(val_dataset)\n",
    "val_loader = DataLoader(tmp2, batch_size=batch_size, shuffle=False)\n",
    "\n",
    "tmp3 = CustomDataset(test_dataset)\n",
    "test_loader = DataLoader(tmp3, batch_size=batch_size, shuffle=False)"
   ]
  },
  {
   "cell_type": "code",
   "execution_count": 927,
   "metadata": {},
   "outputs": [
    {
     "name": "stdout",
     "output_type": "stream",
     "text": [
      "torch.Size([64, 10, 289])\n",
      "torch.Size([64])\n"
     ]
    }
   ],
   "source": [
    "for x, y in train_loader:\n",
    "    print(x.shape)\n",
    "    print(y.shape)\n",
    "    break"
   ]
  },
  {
   "cell_type": "code",
   "execution_count": 972,
   "metadata": {},
   "outputs": [],
   "source": [
    "bce = nn.BCELoss(reduction='none')\n",
    "\n",
    "def loss_fn(x, y, ratio=100):\n",
    "    ind_losses = bce(x, y)\n",
    "    scaled_losses = ind_losses * (y * (ratio - 1) + 1) / 100\n",
    "    return torch.mean(scaled_losses)"
   ]
  },
  {
   "cell_type": "code",
   "execution_count": 929,
   "metadata": {},
   "outputs": [
    {
     "data": {
      "text/plain": [
       "tensor(0.6845, grad_fn=<BinaryCrossEntropyBackward0>)"
      ]
     },
     "execution_count": 929,
     "metadata": {},
     "output_type": "execute_result"
    }
   ],
   "source": [
    "criterion(model(x), y)"
   ]
  },
  {
   "cell_type": "code",
   "execution_count": 930,
   "metadata": {},
   "outputs": [
    {
     "data": {
      "text/plain": [
       "tensor(0.0178, grad_fn=<MeanBackward0>)"
      ]
     },
     "execution_count": 930,
     "metadata": {},
     "output_type": "execute_result"
    }
   ],
   "source": [
    "loss_fn(model(x), y)"
   ]
  },
  {
   "cell_type": "code",
   "execution_count": 939,
   "metadata": {},
   "outputs": [],
   "source": [
    "max_validation_f1 = [0]\n",
    "train_losses = []\n",
    "train_accuracies = []"
   ]
  },
  {
   "cell_type": "code",
   "execution_count": 973,
   "metadata": {},
   "outputs": [],
   "source": [
    "# Define the training loop\n",
    "def train(model, criterion, optimizer, train_loader, val_loader, num_epochs, max_validation_f1, train_losses, train_accuracies, ratio=100):\n",
    "    # device = torch.device(\"cuda\" if torch.cuda.is_available() else \"cpu\")\n",
    "    # device = torch.device(\"mps\" if torch.backends.mps.is_available() else \"cpu\")\n",
    "    model.to(device)\n",
    "    \n",
    "    for epoch in range(num_epochs):\n",
    "        model.train()\n",
    "        train_loss = 0.0\n",
    "        train_total = 0\n",
    "        train_correct = 0\n",
    "        \n",
    "        for inputs, labels in train_loader:\n",
    "            inputs = inputs.to(device)\n",
    "            labels = labels.to(device)\n",
    "            \n",
    "            optimizer.zero_grad()\n",
    "            \n",
    "            # Forward pass\n",
    "            outputs = model(inputs)\n",
    "            # loss = criterion(outputs, labels.float())\n",
    "            loss = loss_fn(outputs, labels, ratio=ratio)\n",
    "            \n",
    "            # Backward pass and optimization\n",
    "            loss.backward()\n",
    "            optimizer.step()\n",
    "            \n",
    "            train_loss += loss.item() * inputs.size(0)\n",
    "            train_total += labels.size(0)\n",
    "            train_correct += ((outputs >= 0.5).squeeze().long() == labels).sum().item()\n",
    "        \n",
    "        train_loss /= train_total\n",
    "        train_accuracy = train_correct / train_total\n",
    "\n",
    "        train_losses.append(train_loss)\n",
    "        train_accuracies.append(train_accuracy)\n",
    "        \n",
    "        # # Print training and validation metrics\n",
    "        print(f\"Epoch {epoch+1}/{num_epochs}\")\n",
    "        print(f\"Train Loss: {train_loss:.4f} - Train Accuracy: {train_accuracy:.4f}\")\n",
    "        # print(f\"Val Loss: {val_loss:.4f} - Val Accuracy: {val_accuracy:.4f}\")\n",
    "        # print()\n",
    "\n",
    "        # Get validation scores\n",
    "        if (epoch + 1) % 10 == 1 and epoch > 10:\n",
    "            f1, acc = calculate_accuracy_and_f1(model, val_dataset, break_at=20, return_values=True)\n",
    "            if f1 > max(max_validation_f1):\n",
    "                max_validation_f1.append(f1)\n"
   ]
  },
  {
   "cell_type": "code",
   "execution_count": 980,
   "metadata": {},
   "outputs": [
    {
     "name": "stdout",
     "output_type": "stream",
     "text": [
      "Epoch 1/20\n",
      "Train Loss: 0.0195 - Train Accuracy: 0.6520\n",
      "Epoch 2/20\n",
      "Train Loss: 0.0199 - Train Accuracy: 0.5951\n",
      "Epoch 3/20\n",
      "Train Loss: 0.0213 - Train Accuracy: 0.5840\n",
      "Epoch 4/20\n",
      "Train Loss: 0.0232 - Train Accuracy: 0.5844\n",
      "Epoch 5/20\n",
      "Train Loss: 0.0241 - Train Accuracy: 0.5457\n",
      "Epoch 6/20\n",
      "Train Loss: 0.0224 - Train Accuracy: 0.5437\n",
      "Epoch 7/20\n",
      "Train Loss: 0.0213 - Train Accuracy: 0.5806\n",
      "Epoch 8/20\n",
      "Train Loss: 0.0194 - Train Accuracy: 0.6173\n",
      "Epoch 9/20\n",
      "Train Loss: 0.0230 - Train Accuracy: 0.5445\n",
      "Epoch 10/20\n",
      "Train Loss: 0.0207 - Train Accuracy: 0.5592\n",
      "Epoch 11/20\n",
      "Train Loss: 0.0216 - Train Accuracy: 0.5603\n",
      "Epoch 12/20\n",
      "Train Loss: 0.0210 - Train Accuracy: 0.5698\n",
      "Epoch 13/20\n",
      "Train Loss: 0.0226 - Train Accuracy: 0.5835\n",
      "Epoch 14/20\n",
      "Train Loss: 0.0202 - Train Accuracy: 0.5856\n",
      "Epoch 15/20\n",
      "Train Loss: 0.0231 - Train Accuracy: 0.5448\n",
      "Epoch 16/20\n",
      "Train Loss: 0.0215 - Train Accuracy: 0.5645\n",
      "Epoch 17/20\n",
      "Train Loss: 0.0222 - Train Accuracy: 0.5652\n",
      "Epoch 18/20\n",
      "Train Loss: 0.0221 - Train Accuracy: 0.5837\n",
      "Epoch 19/20\n",
      "Train Loss: 0.0313 - Train Accuracy: 0.5106\n",
      "Epoch 20/20\n",
      "Train Loss: 0.0271 - Train Accuracy: 0.5318\n"
     ]
    }
   ],
   "source": [
    "train(\n",
    "    model, criterion, optimizer,\n",
    "    train_upsample_loader, val_loader, 20,\n",
    "    max_validation_f1, train_losses, train_accuracies,\n",
    "    ratio=500\n",
    ")"
   ]
  },
  {
   "cell_type": "code",
   "execution_count": null,
   "metadata": {},
   "outputs": [],
   "source": []
  },
  {
   "cell_type": "code",
   "execution_count": 944,
   "metadata": {},
   "outputs": [
    {
     "data": {
      "text/plain": [
       "[0,\n",
       " 0.003335933281334373,\n",
       " 0.0035777024200969064,\n",
       " 0.003714864133521304,\n",
       " 0.003956563198269359]"
      ]
     },
     "execution_count": 944,
     "metadata": {},
     "output_type": "execute_result"
    }
   ],
   "source": [
    "max_validation_f1"
   ]
  },
  {
   "cell_type": "code",
   "execution_count": 903,
   "metadata": {},
   "outputs": [
    {
     "name": "stderr",
     "output_type": "stream",
     "text": [
      "  9%|▉         | 100/1120 [01:49<18:39,  1.10s/it]\n"
     ]
    },
    {
     "name": "stdout",
     "output_type": "stream",
     "text": [
      "----------------------------------------\n",
      "Scores\n",
      "   - F1 score: 0.0033\n",
      "   - Accuracy: 0.3138\n",
      "----------------------------------------\n"
     ]
    }
   ],
   "source": [
    "calculate_accuracy_and_f1(model, train_dataset, break_at=100)"
   ]
  },
  {
   "cell_type": "code",
   "execution_count": 905,
   "metadata": {},
   "outputs": [
    {
     "name": "stderr",
     "output_type": "stream",
     "text": [
      "  2%|▏         | 10/480 [00:14<11:32,  1.47s/it]"
     ]
    },
    {
     "name": "stdout",
     "output_type": "stream",
     "text": [
      "----------------------------------------\n",
      "Scores\n",
      "   - F1 score: 0.0023\n",
      "   - Accuracy: 0.4068\n",
      "----------------------------------------\n"
     ]
    },
    {
     "name": "stderr",
     "output_type": "stream",
     "text": [
      "\n"
     ]
    }
   ],
   "source": [
    "calculate_accuracy_and_f1(model, val_dataset, break_at=10)"
   ]
  },
  {
   "cell_type": "code",
   "execution_count": 771,
   "metadata": {},
   "outputs": [],
   "source": [
    "# Check if the labels are really 50% in ratio\n",
    "# Think about predicting whether a sequence has a fraud or not?\n",
    "# Predicting the full label vector for those?"
   ]
  },
  {
   "cell_type": "code",
   "execution_count": 981,
   "metadata": {},
   "outputs": [
    {
     "name": "stderr",
     "output_type": "stream",
     "text": [
      "  9%|▉         | 100/1120 [01:46<18:02,  1.06s/it]\n"
     ]
    }
   ],
   "source": [
    "ytrue, yhat = get_predictions(model, train_dataset, break_at=100)"
   ]
  },
  {
   "cell_type": "code",
   "execution_count": 982,
   "metadata": {},
   "outputs": [
    {
     "data": {
      "image/png": "[encoded data removed]",
      "text/plain": [
       "<Figure size 640x480 with 2 Axes>"
      ]
     },
     "metadata": {},
     "output_type": "display_data"
    },
    {
     "name": "stdout",
     "output_type": "stream",
     "text": [
      "Threshold value is: 0.9998233\n"
     ]
    }
   ],
   "source": [
    "from sklearn.metrics import roc_curve, precision_recall_curve, f1_score, auc\n",
    "\n",
    "# ROC curve\n",
    "fpr, tpr, thresholds = roc_curve(ytrue, yhat)\n",
    "roc_auc = auc(fpr, tpr) # compute Area Under the Curve\n",
    "\n",
    "plt.subplot(1,2,1)\n",
    "lw = 2\n",
    "plt.plot(fpr, tpr, color='darkorange',\n",
    "         lw=lw, label='ROC curve (area = %0.2f)' % roc_auc)\n",
    "plt.plot([0, 1], [0, 1], color='navy', lw=lw, linestyle='--')\n",
    "plt.xlim([0.0, 1.0])\n",
    "plt.ylim([0.0, 1.05])\n",
    "plt.xlabel('False Positive Rate')\n",
    "plt.ylabel('True Positive Rate')\n",
    "plt.title('Receiver Operating Characteristic')\n",
    "plt.legend(loc=\"lower right\")\n",
    "\n",
    "# PR curve\n",
    "precision, recall, thresholds = precision_recall_curve(ytrue, yhat)\n",
    "pr_auc = auc(recall, precision) # compute Area Under the Curve\n",
    "\n",
    "# plt.figure()\n",
    "plt.subplot(1,2,2)\n",
    "plt.plot(recall, precision, color='b', lw=lw, label='PR curve (area = %0.2f)' % pr_auc)\n",
    "plt.fill_between(recall, precision, step='post', alpha=0.2, color='b')\n",
    "plt.xlabel('Recall')\n",
    "plt.ylabel('Precision')\n",
    "plt.title('Precision-Recall curve')\n",
    "plt.legend(loc=\"upper right\")\n",
    "plt.show()\n",
    "\n",
    "# find the optimal threshold for F1 score\n",
    "b = precision + recall\n",
    "precision = precision[b != 0]\n",
    "recall = recall[b != 0]\n",
    "f1_scores = 2 * (precision * recall) / (precision + recall)\n",
    "optimal_idx = np.argmax(f1_scores)\n",
    "optimal_threshold = thresholds[optimal_idx]\n",
    "print(\"Threshold value is:\", optimal_threshold)\n"
   ]
  },
  {
   "cell_type": "code",
   "execution_count": 983,
   "metadata": {},
   "outputs": [],
   "source": [
    "def color_confusion_matrix(val):\n",
    "    if 'TN' in val or 'TP' in val:\n",
    "        color = 'green'\n",
    "    else:\n",
    "        color = 'red'\n",
    "    return 'color: %s' % color"
   ]
  },
  {
   "cell_type": "code",
   "execution_count": 984,
   "metadata": {},
   "outputs": [
    {
     "data": {
      "text/html": [
       "<style type=\"text/css\">\n",
       "#T_cc0c1_row0_col0, #T_cc0c1_row1_col1 {\n",
       "  color: green;\n",
       "}\n",
       "#T_cc0c1_row0_col1, #T_cc0c1_row1_col0 {\n",
       "  color: red;\n",
       "}\n",
       "</style>\n",
       "<table id=\"T_cc0c1\">\n",
       "  <thead>\n",
       "    <tr>\n",
       "      <th class=\"blank level0\" >&nbsp;</th>\n",
       "      <th id=\"T_cc0c1_level0_col0\" class=\"col_heading level0 col0\" >Predicted Negative</th>\n",
       "      <th id=\"T_cc0c1_level0_col1\" class=\"col_heading level0 col1\" >Predicted Positive</th>\n",
       "    </tr>\n",
       "  </thead>\n",
       "  <tbody>\n",
       "    <tr>\n",
       "      <th id=\"T_cc0c1_level0_row0\" class=\"row_heading level0 row0\" >Actual Negative</th>\n",
       "      <td id=\"T_cc0c1_row0_col0\" class=\"data row0 col0\" >TN: 1212368</td>\n",
       "      <td id=\"T_cc0c1_row0_col1\" class=\"data row0 col1\" >FP: 10986</td>\n",
       "    </tr>\n",
       "    <tr>\n",
       "      <th id=\"T_cc0c1_level0_row1\" class=\"row_heading level0 row1\" >Actual Positive</th>\n",
       "      <td id=\"T_cc0c1_row1_col0\" class=\"data row1 col0\" >FN: 1221</td>\n",
       "      <td id=\"T_cc0c1_row1_col1\" class=\"data row1 col1\" >TP: 177</td>\n",
       "    </tr>\n",
       "  </tbody>\n",
       "</table>\n"
      ],
      "text/plain": [
       "<pandas.io.formats.style.Styler at 0xa3e1f69b0>"
      ]
     },
     "metadata": {},
     "output_type": "display_data"
    }
   ],
   "source": [
    "from sklearn.metrics import confusion_matrix\n",
    "# cm = confusion_matrix(ytrue, np.array(yhat) > 0.99)\n",
    "cm = confusion_matrix(ytrue, np.array(yhat) > optimal_threshold)\n",
    "\n",
    "cm_labeled = pd.DataFrame({\n",
    "    'Predicted Negative': {'Actual Negative': f'TN: {cm[0,0]}', 'Actual Positive': f'FN: {cm[1,0]}'},\n",
    "    'Predicted Positive': {'Actual Negative': f'FP: {cm[0,1]}', 'Actual Positive': f'TP: {cm[1,1]}'},\n",
    "})\n",
    "\n",
    "cm_labeled = cm_labeled.style.applymap(color_confusion_matrix)\n",
    "display(cm_labeled)"
   ]
  },
  {
   "cell_type": "code",
   "execution_count": 985,
   "metadata": {},
   "outputs": [
    {
     "name": "stdout",
     "output_type": "stream",
     "text": [
      "F1 score: 0.0282\n",
      "Accuracy: 0.99\n"
     ]
    }
   ],
   "source": [
    "pr = cm[1,1] / (cm[1,1] + cm[0,1])\n",
    "rc = cm[1,1] / (cm[1,0] + cm[1,1])\n",
    "f1 = 2 * pr * rc / (pr + rc)\n",
    "acc = (cm[0,0] + cm[1,1]) / np.sum(cm)\n",
    "print(f\"F1 score: {round(f1, 4)}\")\n",
    "print(f\"Accuracy: {round(acc, 4)}\")"
   ]
  },
  {
   "cell_type": "code",
   "execution_count": null,
   "metadata": {},
   "outputs": [],
   "source": []
  }
 ],
 "metadata": {
  "kernelspec": {
   "display_name": ".venv",
   "language": "python",
   "name": "python3"
  },
  "language_info": {
   "codemirror_mode": {
    "name": "ipython",
    "version": 3
   },
   "file_extension": ".py",
   "mimetype": "text/x-python",
   "name": "python",
   "nbconvert_exporter": "python",
   "pygments_lexer": "ipython3",
   "version": "3.10.9"
  },
  "orig_nbformat": 4
 },
 "nbformat": 4,
 "nbformat_minor": 2
}
