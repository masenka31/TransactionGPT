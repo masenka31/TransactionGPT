{
 "cells": [
  {
   "attachments": {},
   "cell_type": "markdown",
   "metadata": {},
   "source": [
    "# TODOs\n",
    "\n",
    "- [ ] split even the transactions to train/test/validation with the customer ID in mind\n",
    "- [ ] add Latitude/Longitude\n",
    "- [ ] remove the 'equals' merchant and customer state/city variable?\n",
    "- [ ] train the model on AIC and calculate results on the full dataset"
   ]
  },
  {
   "attachments": {},
   "cell_type": "markdown",
   "metadata": {},
   "source": [
    "# Intro\n",
    "\n",
    "- package loading\n",
    "- data loading\n",
    "- data preprocessing"
   ]
  },
  {
   "cell_type": "code",
   "execution_count": 1,
   "metadata": {},
   "outputs": [],
   "source": [
    "import numpy as np\n",
    "import pandas as pd\n",
    "import matplotlib.pyplot as plt\n",
    "from datetime import datetime\n",
    "from collections import Counter\n",
    "from tqdm import tqdm\n",
    "\n",
    "import seaborn as sns\n",
    "\n",
    "def plotsize(w, h):\n",
    "    plt.figure(figsize=(w, h))"
   ]
  },
  {
   "cell_type": "code",
   "execution_count": 2,
   "metadata": {},
   "outputs": [
    {
     "data": {
      "text/plain": [
       "<torch._C.Generator at 0x1450fb8b0>"
      ]
     },
     "execution_count": 2,
     "metadata": {},
     "output_type": "execute_result"
    }
   ],
   "source": [
    "import torch\n",
    "import torch.nn as nn\n",
    "import torch.optim as optim\n",
    "from torch.utils.data import Dataset, DataLoader, random_split\n",
    "import numpy as np\n",
    "\n",
    "np.random.seed(42)\n",
    "torch.manual_seed(42)\n"
   ]
  },
  {
   "cell_type": "code",
   "execution_count": 3,
   "metadata": {},
   "outputs": [],
   "source": [
    "pd.set_option('display.max_columns', None)"
   ]
  },
  {
   "cell_type": "code",
   "execution_count": 4,
   "metadata": {},
   "outputs": [],
   "source": [
    "from src.process_data import IBMDataset\n",
    "df = IBMDataset().ibm_credit_card()"
   ]
  },
  {
   "cell_type": "code",
   "execution_count": 5,
   "metadata": {},
   "outputs": [
    {
     "data": {
      "text/html": [
       "<div>\n",
       "<style scoped>\n",
       "    .dataframe tbody tr th:only-of-type {\n",
       "        vertical-align: middle;\n",
       "    }\n",
       "\n",
       "    .dataframe tbody tr th {\n",
       "        vertical-align: top;\n",
       "    }\n",
       "\n",
       "    .dataframe thead th {\n",
       "        text-align: right;\n",
       "    }\n",
       "</style>\n",
       "<table border=\"1\" class=\"dataframe\">\n",
       "  <thead>\n",
       "    <tr style=\"text-align: right;\">\n",
       "      <th></th>\n",
       "      <th>customer.id</th>\n",
       "      <th>card.id</th>\n",
       "      <th>amount_signed</th>\n",
       "      <th>timestamp</th>\n",
       "      <th>date</th>\n",
       "      <th>merchant.name</th>\n",
       "      <th>merchant.city</th>\n",
       "      <th>merchant.state</th>\n",
       "      <th>is_fraud</th>\n",
       "      <th>age</th>\n",
       "      <th>chip</th>\n",
       "      <th>gender</th>\n",
       "      <th>customer.city</th>\n",
       "      <th>customer.state</th>\n",
       "      <th>score</th>\n",
       "      <th>num_cards</th>\n",
       "      <th>total_debt</th>\n",
       "      <th>credit_limit</th>\n",
       "      <th>card.brand</th>\n",
       "      <th>latitude</th>\n",
       "      <th>longitude</th>\n",
       "      <th>direction</th>\n",
       "      <th>amount_usd</th>\n",
       "      <th>log_amount</th>\n",
       "    </tr>\n",
       "  </thead>\n",
       "  <tbody>\n",
       "    <tr>\n",
       "      <th>0</th>\n",
       "      <td>0</td>\n",
       "      <td>4344676511950444</td>\n",
       "      <td>134.09</td>\n",
       "      <td>1030861260</td>\n",
       "      <td>2002-09-01 06:21:00</td>\n",
       "      <td>3527213246127876953</td>\n",
       "      <td>La Verne</td>\n",
       "      <td>CA</td>\n",
       "      <td>No</td>\n",
       "      <td>53</td>\n",
       "      <td>Swipe Transaction</td>\n",
       "      <td>Female</td>\n",
       "      <td>La Verne</td>\n",
       "      <td>CA</td>\n",
       "      <td>787</td>\n",
       "      <td>5</td>\n",
       "      <td>127613.0</td>\n",
       "      <td>24295.0</td>\n",
       "      <td>Visa</td>\n",
       "      <td>34.15</td>\n",
       "      <td>-117.76</td>\n",
       "      <td>outbound</td>\n",
       "      <td>134.09</td>\n",
       "      <td>4.905941</td>\n",
       "    </tr>\n",
       "    <tr>\n",
       "      <th>1</th>\n",
       "      <td>0</td>\n",
       "      <td>4344676511950444</td>\n",
       "      <td>38.48</td>\n",
       "      <td>1030862520</td>\n",
       "      <td>2002-09-01 06:42:00</td>\n",
       "      <td>-727612092139916043</td>\n",
       "      <td>Monterey Park</td>\n",
       "      <td>CA</td>\n",
       "      <td>No</td>\n",
       "      <td>53</td>\n",
       "      <td>Swipe Transaction</td>\n",
       "      <td>Female</td>\n",
       "      <td>La Verne</td>\n",
       "      <td>CA</td>\n",
       "      <td>787</td>\n",
       "      <td>5</td>\n",
       "      <td>127613.0</td>\n",
       "      <td>24295.0</td>\n",
       "      <td>Visa</td>\n",
       "      <td>34.15</td>\n",
       "      <td>-117.76</td>\n",
       "      <td>outbound</td>\n",
       "      <td>38.48</td>\n",
       "      <td>3.675794</td>\n",
       "    </tr>\n",
       "    <tr>\n",
       "      <th>2</th>\n",
       "      <td>0</td>\n",
       "      <td>4344676511950444</td>\n",
       "      <td>120.34</td>\n",
       "      <td>1030947720</td>\n",
       "      <td>2002-09-02 06:22:00</td>\n",
       "      <td>-727612092139916043</td>\n",
       "      <td>Monterey Park</td>\n",
       "      <td>CA</td>\n",
       "      <td>No</td>\n",
       "      <td>53</td>\n",
       "      <td>Swipe Transaction</td>\n",
       "      <td>Female</td>\n",
       "      <td>La Verne</td>\n",
       "      <td>CA</td>\n",
       "      <td>787</td>\n",
       "      <td>5</td>\n",
       "      <td>127613.0</td>\n",
       "      <td>24295.0</td>\n",
       "      <td>Visa</td>\n",
       "      <td>34.15</td>\n",
       "      <td>-117.76</td>\n",
       "      <td>outbound</td>\n",
       "      <td>120.34</td>\n",
       "      <td>4.798597</td>\n",
       "    </tr>\n",
       "    <tr>\n",
       "      <th>3</th>\n",
       "      <td>0</td>\n",
       "      <td>4344676511950444</td>\n",
       "      <td>128.95</td>\n",
       "      <td>1030988700</td>\n",
       "      <td>2002-09-02 17:45:00</td>\n",
       "      <td>3414527459579106770</td>\n",
       "      <td>Monterey Park</td>\n",
       "      <td>CA</td>\n",
       "      <td>No</td>\n",
       "      <td>53</td>\n",
       "      <td>Swipe Transaction</td>\n",
       "      <td>Female</td>\n",
       "      <td>La Verne</td>\n",
       "      <td>CA</td>\n",
       "      <td>787</td>\n",
       "      <td>5</td>\n",
       "      <td>127613.0</td>\n",
       "      <td>24295.0</td>\n",
       "      <td>Visa</td>\n",
       "      <td>34.15</td>\n",
       "      <td>-117.76</td>\n",
       "      <td>outbound</td>\n",
       "      <td>128.95</td>\n",
       "      <td>4.867150</td>\n",
       "    </tr>\n",
       "    <tr>\n",
       "      <th>4</th>\n",
       "      <td>0</td>\n",
       "      <td>4344676511950444</td>\n",
       "      <td>104.71</td>\n",
       "      <td>1031034180</td>\n",
       "      <td>2002-09-03 06:23:00</td>\n",
       "      <td>5817218446178736267</td>\n",
       "      <td>La Verne</td>\n",
       "      <td>CA</td>\n",
       "      <td>No</td>\n",
       "      <td>53</td>\n",
       "      <td>Swipe Transaction</td>\n",
       "      <td>Female</td>\n",
       "      <td>La Verne</td>\n",
       "      <td>CA</td>\n",
       "      <td>787</td>\n",
       "      <td>5</td>\n",
       "      <td>127613.0</td>\n",
       "      <td>24295.0</td>\n",
       "      <td>Visa</td>\n",
       "      <td>34.15</td>\n",
       "      <td>-117.76</td>\n",
       "      <td>outbound</td>\n",
       "      <td>104.71</td>\n",
       "      <td>4.660699</td>\n",
       "    </tr>\n",
       "  </tbody>\n",
       "</table>\n",
       "</div>"
      ],
      "text/plain": [
       "   customer.id           card.id  amount_signed   timestamp   \n",
       "0            0  4344676511950444         134.09  1030861260  \\\n",
       "1            0  4344676511950444          38.48  1030862520   \n",
       "2            0  4344676511950444         120.34  1030947720   \n",
       "3            0  4344676511950444         128.95  1030988700   \n",
       "4            0  4344676511950444         104.71  1031034180   \n",
       "\n",
       "                 date        merchant.name  merchant.city merchant.state   \n",
       "0 2002-09-01 06:21:00  3527213246127876953       La Verne             CA  \\\n",
       "1 2002-09-01 06:42:00  -727612092139916043  Monterey Park             CA   \n",
       "2 2002-09-02 06:22:00  -727612092139916043  Monterey Park             CA   \n",
       "3 2002-09-02 17:45:00  3414527459579106770  Monterey Park             CA   \n",
       "4 2002-09-03 06:23:00  5817218446178736267       La Verne             CA   \n",
       "\n",
       "  is_fraud  age               chip  gender customer.city customer.state   \n",
       "0       No   53  Swipe Transaction  Female      La Verne             CA  \\\n",
       "1       No   53  Swipe Transaction  Female      La Verne             CA   \n",
       "2       No   53  Swipe Transaction  Female      La Verne             CA   \n",
       "3       No   53  Swipe Transaction  Female      La Verne             CA   \n",
       "4       No   53  Swipe Transaction  Female      La Verne             CA   \n",
       "\n",
       "   score  num_cards  total_debt  credit_limit card.brand  latitude  longitude   \n",
       "0    787          5    127613.0       24295.0       Visa     34.15    -117.76  \\\n",
       "1    787          5    127613.0       24295.0       Visa     34.15    -117.76   \n",
       "2    787          5    127613.0       24295.0       Visa     34.15    -117.76   \n",
       "3    787          5    127613.0       24295.0       Visa     34.15    -117.76   \n",
       "4    787          5    127613.0       24295.0       Visa     34.15    -117.76   \n",
       "\n",
       "  direction  amount_usd  log_amount  \n",
       "0  outbound      134.09    4.905941  \n",
       "1  outbound       38.48    3.675794  \n",
       "2  outbound      120.34    4.798597  \n",
       "3  outbound      128.95    4.867150  \n",
       "4  outbound      104.71    4.660699  "
      ]
     },
     "execution_count": 5,
     "metadata": {},
     "output_type": "execute_result"
    }
   ],
   "source": [
    "df.head()"
   ]
  },
  {
   "cell_type": "code",
   "execution_count": 6,
   "metadata": {},
   "outputs": [
    {
     "data": {
      "text/plain": [
       "is_fraud\n",
       "No     24357143\n",
       "Yes       29757\n",
       "Name: count, dtype: int64"
      ]
     },
     "execution_count": 6,
     "metadata": {},
     "output_type": "execute_result"
    }
   ],
   "source": [
    "df.is_fraud.value_counts()"
   ]
  },
  {
   "cell_type": "code",
   "execution_count": 7,
   "metadata": {},
   "outputs": [
    {
     "data": {
      "text/plain": [
       "223"
      ]
     },
     "execution_count": 7,
     "metadata": {},
     "output_type": "execute_result"
    }
   ],
   "source": [
    "df['merchant.state'].nunique()"
   ]
  },
  {
   "cell_type": "code",
   "execution_count": 8,
   "metadata": {},
   "outputs": [
    {
     "data": {
      "text/plain": [
       "51"
      ]
     },
     "execution_count": 8,
     "metadata": {},
     "output_type": "execute_result"
    }
   ],
   "source": [
    "df['customer.state'].nunique()"
   ]
  },
  {
   "cell_type": "code",
   "execution_count": 9,
   "metadata": {},
   "outputs": [
    {
     "data": {
      "text/plain": [
       "merchant.state  is_fraud\n",
       "CA              No          2591079\n",
       "TX              No          1792993\n",
       "FL              No          1458385\n",
       "NY              No          1446624\n",
       "OH              No           895092\n",
       "                             ...   \n",
       "Tonga           No                2\n",
       "Togo            No                2\n",
       "Paraguay        No                1\n",
       "Botswana        No                1\n",
       "Kiribati        No                1\n",
       "Name: count, Length: 282, dtype: int64"
      ]
     },
     "execution_count": 9,
     "metadata": {},
     "output_type": "execute_result"
    }
   ],
   "source": [
    "df[['merchant.state', 'is_fraud']].value_counts()"
   ]
  },
  {
   "attachments": {},
   "cell_type": "markdown",
   "metadata": {},
   "source": [
    "## Feature engineering"
   ]
  },
  {
   "attachments": {},
   "cell_type": "markdown",
   "metadata": {},
   "source": [
    "Fixed numerical features:\n",
    "- amount features: amount, yearly income, total debt, credit limit (in log scale)\n",
    "- num credit cards\n",
    "- FICO score\n",
    "\n",
    "Time features:\n",
    "- time from last transaction\n",
    "- time of transaction\n",
    "- mean time between previous transactions\n",
    "\n",
    "Categorical features:\n",
    "- gender\n",
    "- card brand\n",
    "- card type\n",
    "- chip\n",
    "\n",
    "Binary features:\n",
    "- previously seen merchant ID\n",
    "- has chip (card)\n",
    "- state == merchant state"
   ]
  },
  {
   "cell_type": "code",
   "execution_count": 10,
   "metadata": {},
   "outputs": [],
   "source": [
    "df.sort_values('date', inplace=True)"
   ]
  },
  {
   "cell_type": "code",
   "execution_count": 11,
   "metadata": {},
   "outputs": [],
   "source": [
    "gdf = df.groupby('customer.id')"
   ]
  },
  {
   "cell_type": "code",
   "execution_count": 49,
   "metadata": {},
   "outputs": [
    {
     "name": "stderr",
     "output_type": "stream",
     "text": [
      "100%|██████████| 2000/2000 [00:34<00:00, 58.82it/s] \n"
     ]
    }
   ],
   "source": [
    "new_groups = []\n",
    "\n",
    "for name, group in tqdm(gdf):\n",
    "    # figure out known merchants\n",
    "    known_merchants = group['merchant.name'].duplicated().astype(int)\n",
    "    \n",
    "    # create a copy of the group\n",
    "    g_new = group.copy()\n",
    "    g_new['is_known_merchant'] = known_merchants\n",
    "    \n",
    "    # time difference for the customer\n",
    "    # g_new['log_timediff'] = np.log(1 + g_new['date'].diff().dt.seconds.fillna(0, inplace=True))\n",
    "    g_new['log_timediff'] = np.log(1 + g_new['date'].diff().dt.seconds).fillna(0)\n",
    "    \n",
    "    # customer address and merchant address\n",
    "    g_new['same_city'] = (group['merchant.city'] == group['customer.city'])\n",
    "    g_new['same_state'] = (group['merchant.state'] == group['customer.state'])\n",
    "    \n",
    "    new_groups.append(g_new)\n"
   ]
  },
  {
   "cell_type": "code",
   "execution_count": 50,
   "metadata": {},
   "outputs": [
    {
     "data": {
      "text/html": [
       "<div>\n",
       "<style scoped>\n",
       "    .dataframe tbody tr th:only-of-type {\n",
       "        vertical-align: middle;\n",
       "    }\n",
       "\n",
       "    .dataframe tbody tr th {\n",
       "        vertical-align: top;\n",
       "    }\n",
       "\n",
       "    .dataframe thead th {\n",
       "        text-align: right;\n",
       "    }\n",
       "</style>\n",
       "<table border=\"1\" class=\"dataframe\">\n",
       "  <thead>\n",
       "    <tr style=\"text-align: right;\">\n",
       "      <th></th>\n",
       "      <th>customer.id</th>\n",
       "      <th>card.id</th>\n",
       "      <th>amount_signed</th>\n",
       "      <th>timestamp</th>\n",
       "      <th>date</th>\n",
       "      <th>merchant.name</th>\n",
       "      <th>merchant.city</th>\n",
       "      <th>merchant.state</th>\n",
       "      <th>is_fraud</th>\n",
       "      <th>age</th>\n",
       "      <th>chip</th>\n",
       "      <th>gender</th>\n",
       "      <th>customer.city</th>\n",
       "      <th>customer.state</th>\n",
       "      <th>score</th>\n",
       "      <th>num_cards</th>\n",
       "      <th>total_debt</th>\n",
       "      <th>credit_limit</th>\n",
       "      <th>card.brand</th>\n",
       "      <th>latitude</th>\n",
       "      <th>longitude</th>\n",
       "      <th>direction</th>\n",
       "      <th>amount_usd</th>\n",
       "      <th>log_amount</th>\n",
       "      <th>is_known_merchant</th>\n",
       "      <th>log_timediff</th>\n",
       "      <th>same_city</th>\n",
       "      <th>same_state</th>\n",
       "    </tr>\n",
       "  </thead>\n",
       "  <tbody>\n",
       "    <tr>\n",
       "      <th>0</th>\n",
       "      <td>0</td>\n",
       "      <td>4344676511950444</td>\n",
       "      <td>134.09</td>\n",
       "      <td>1030861260</td>\n",
       "      <td>2002-09-01 06:21:00</td>\n",
       "      <td>3527213246127876953</td>\n",
       "      <td>La Verne</td>\n",
       "      <td>CA</td>\n",
       "      <td>No</td>\n",
       "      <td>53</td>\n",
       "      <td>Swipe Transaction</td>\n",
       "      <td>Female</td>\n",
       "      <td>La Verne</td>\n",
       "      <td>CA</td>\n",
       "      <td>787</td>\n",
       "      <td>5</td>\n",
       "      <td>127613.0</td>\n",
       "      <td>24295.0</td>\n",
       "      <td>Visa</td>\n",
       "      <td>34.15</td>\n",
       "      <td>-117.76</td>\n",
       "      <td>outbound</td>\n",
       "      <td>134.09</td>\n",
       "      <td>4.905941</td>\n",
       "      <td>0</td>\n",
       "      <td>0.000000</td>\n",
       "      <td>True</td>\n",
       "      <td>True</td>\n",
       "    </tr>\n",
       "    <tr>\n",
       "      <th>1</th>\n",
       "      <td>0</td>\n",
       "      <td>4344676511950444</td>\n",
       "      <td>38.48</td>\n",
       "      <td>1030862520</td>\n",
       "      <td>2002-09-01 06:42:00</td>\n",
       "      <td>-727612092139916043</td>\n",
       "      <td>Monterey Park</td>\n",
       "      <td>CA</td>\n",
       "      <td>No</td>\n",
       "      <td>53</td>\n",
       "      <td>Swipe Transaction</td>\n",
       "      <td>Female</td>\n",
       "      <td>La Verne</td>\n",
       "      <td>CA</td>\n",
       "      <td>787</td>\n",
       "      <td>5</td>\n",
       "      <td>127613.0</td>\n",
       "      <td>24295.0</td>\n",
       "      <td>Visa</td>\n",
       "      <td>34.15</td>\n",
       "      <td>-117.76</td>\n",
       "      <td>outbound</td>\n",
       "      <td>38.48</td>\n",
       "      <td>3.675794</td>\n",
       "      <td>0</td>\n",
       "      <td>7.139660</td>\n",
       "      <td>False</td>\n",
       "      <td>True</td>\n",
       "    </tr>\n",
       "    <tr>\n",
       "      <th>2</th>\n",
       "      <td>0</td>\n",
       "      <td>4344676511950444</td>\n",
       "      <td>120.34</td>\n",
       "      <td>1030947720</td>\n",
       "      <td>2002-09-02 06:22:00</td>\n",
       "      <td>-727612092139916043</td>\n",
       "      <td>Monterey Park</td>\n",
       "      <td>CA</td>\n",
       "      <td>No</td>\n",
       "      <td>53</td>\n",
       "      <td>Swipe Transaction</td>\n",
       "      <td>Female</td>\n",
       "      <td>La Verne</td>\n",
       "      <td>CA</td>\n",
       "      <td>787</td>\n",
       "      <td>5</td>\n",
       "      <td>127613.0</td>\n",
       "      <td>24295.0</td>\n",
       "      <td>Visa</td>\n",
       "      <td>34.15</td>\n",
       "      <td>-117.76</td>\n",
       "      <td>outbound</td>\n",
       "      <td>120.34</td>\n",
       "      <td>4.798597</td>\n",
       "      <td>1</td>\n",
       "      <td>11.352768</td>\n",
       "      <td>False</td>\n",
       "      <td>True</td>\n",
       "    </tr>\n",
       "    <tr>\n",
       "      <th>3</th>\n",
       "      <td>0</td>\n",
       "      <td>4344676511950444</td>\n",
       "      <td>128.95</td>\n",
       "      <td>1030988700</td>\n",
       "      <td>2002-09-02 17:45:00</td>\n",
       "      <td>3414527459579106770</td>\n",
       "      <td>Monterey Park</td>\n",
       "      <td>CA</td>\n",
       "      <td>No</td>\n",
       "      <td>53</td>\n",
       "      <td>Swipe Transaction</td>\n",
       "      <td>Female</td>\n",
       "      <td>La Verne</td>\n",
       "      <td>CA</td>\n",
       "      <td>787</td>\n",
       "      <td>5</td>\n",
       "      <td>127613.0</td>\n",
       "      <td>24295.0</td>\n",
       "      <td>Visa</td>\n",
       "      <td>34.15</td>\n",
       "      <td>-117.76</td>\n",
       "      <td>outbound</td>\n",
       "      <td>128.95</td>\n",
       "      <td>4.867150</td>\n",
       "      <td>0</td>\n",
       "      <td>10.620864</td>\n",
       "      <td>False</td>\n",
       "      <td>True</td>\n",
       "    </tr>\n",
       "    <tr>\n",
       "      <th>4</th>\n",
       "      <td>0</td>\n",
       "      <td>4344676511950444</td>\n",
       "      <td>104.71</td>\n",
       "      <td>1031034180</td>\n",
       "      <td>2002-09-03 06:23:00</td>\n",
       "      <td>5817218446178736267</td>\n",
       "      <td>La Verne</td>\n",
       "      <td>CA</td>\n",
       "      <td>No</td>\n",
       "      <td>53</td>\n",
       "      <td>Swipe Transaction</td>\n",
       "      <td>Female</td>\n",
       "      <td>La Verne</td>\n",
       "      <td>CA</td>\n",
       "      <td>787</td>\n",
       "      <td>5</td>\n",
       "      <td>127613.0</td>\n",
       "      <td>24295.0</td>\n",
       "      <td>Visa</td>\n",
       "      <td>34.15</td>\n",
       "      <td>-117.76</td>\n",
       "      <td>outbound</td>\n",
       "      <td>104.71</td>\n",
       "      <td>4.660699</td>\n",
       "      <td>0</td>\n",
       "      <td>10.725050</td>\n",
       "      <td>True</td>\n",
       "      <td>True</td>\n",
       "    </tr>\n",
       "    <tr>\n",
       "      <th>...</th>\n",
       "      <td>...</td>\n",
       "      <td>...</td>\n",
       "      <td>...</td>\n",
       "      <td>...</td>\n",
       "      <td>...</td>\n",
       "      <td>...</td>\n",
       "      <td>...</td>\n",
       "      <td>...</td>\n",
       "      <td>...</td>\n",
       "      <td>...</td>\n",
       "      <td>...</td>\n",
       "      <td>...</td>\n",
       "      <td>...</td>\n",
       "      <td>...</td>\n",
       "      <td>...</td>\n",
       "      <td>...</td>\n",
       "      <td>...</td>\n",
       "      <td>...</td>\n",
       "      <td>...</td>\n",
       "      <td>...</td>\n",
       "      <td>...</td>\n",
       "      <td>...</td>\n",
       "      <td>...</td>\n",
       "      <td>...</td>\n",
       "      <td>...</td>\n",
       "      <td>...</td>\n",
       "      <td>...</td>\n",
       "      <td>...</td>\n",
       "    </tr>\n",
       "    <tr>\n",
       "      <th>19934</th>\n",
       "      <td>0</td>\n",
       "      <td>4879494103069057</td>\n",
       "      <td>-295.00</td>\n",
       "      <td>1582816920</td>\n",
       "      <td>2020-02-27 15:22:00</td>\n",
       "      <td>7834055923142137930</td>\n",
       "      <td>New York</td>\n",
       "      <td>NY</td>\n",
       "      <td>No</td>\n",
       "      <td>53</td>\n",
       "      <td>Swipe Transaction</td>\n",
       "      <td>Female</td>\n",
       "      <td>La Verne</td>\n",
       "      <td>CA</td>\n",
       "      <td>787</td>\n",
       "      <td>5</td>\n",
       "      <td>127613.0</td>\n",
       "      <td>12400.0</td>\n",
       "      <td>Visa</td>\n",
       "      <td>34.15</td>\n",
       "      <td>-117.76</td>\n",
       "      <td>inbound</td>\n",
       "      <td>295.00</td>\n",
       "      <td>5.690359</td>\n",
       "      <td>1</td>\n",
       "      <td>5.707110</td>\n",
       "      <td>False</td>\n",
       "      <td>False</td>\n",
       "    </tr>\n",
       "    <tr>\n",
       "      <th>10544</th>\n",
       "      <td>0</td>\n",
       "      <td>4582313478255491</td>\n",
       "      <td>46.77</td>\n",
       "      <td>1582870980</td>\n",
       "      <td>2020-02-28 06:23:00</td>\n",
       "      <td>-727612092139916043</td>\n",
       "      <td>Monterey Park</td>\n",
       "      <td>CA</td>\n",
       "      <td>No</td>\n",
       "      <td>53</td>\n",
       "      <td>Chip Transaction</td>\n",
       "      <td>Female</td>\n",
       "      <td>La Verne</td>\n",
       "      <td>CA</td>\n",
       "      <td>787</td>\n",
       "      <td>5</td>\n",
       "      <td>127613.0</td>\n",
       "      <td>46414.0</td>\n",
       "      <td>Visa</td>\n",
       "      <td>34.15</td>\n",
       "      <td>-117.76</td>\n",
       "      <td>outbound</td>\n",
       "      <td>46.77</td>\n",
       "      <td>3.866398</td>\n",
       "      <td>1</td>\n",
       "      <td>10.897868</td>\n",
       "      <td>False</td>\n",
       "      <td>True</td>\n",
       "    </tr>\n",
       "    <tr>\n",
       "      <th>19935</th>\n",
       "      <td>0</td>\n",
       "      <td>4879494103069057</td>\n",
       "      <td>114.51</td>\n",
       "      <td>1582871340</td>\n",
       "      <td>2020-02-28 06:29:00</td>\n",
       "      <td>-34551508091458520</td>\n",
       "      <td>La Verne</td>\n",
       "      <td>CA</td>\n",
       "      <td>No</td>\n",
       "      <td>53</td>\n",
       "      <td>Swipe Transaction</td>\n",
       "      <td>Female</td>\n",
       "      <td>La Verne</td>\n",
       "      <td>CA</td>\n",
       "      <td>787</td>\n",
       "      <td>5</td>\n",
       "      <td>127613.0</td>\n",
       "      <td>12400.0</td>\n",
       "      <td>Visa</td>\n",
       "      <td>34.15</td>\n",
       "      <td>-117.76</td>\n",
       "      <td>outbound</td>\n",
       "      <td>114.51</td>\n",
       "      <td>4.749357</td>\n",
       "      <td>1</td>\n",
       "      <td>5.888878</td>\n",
       "      <td>True</td>\n",
       "      <td>True</td>\n",
       "    </tr>\n",
       "    <tr>\n",
       "      <th>19936</th>\n",
       "      <td>0</td>\n",
       "      <td>4879494103069057</td>\n",
       "      <td>34.11</td>\n",
       "      <td>1582872780</td>\n",
       "      <td>2020-02-28 06:53:00</td>\n",
       "      <td>-34551508091458520</td>\n",
       "      <td>La Verne</td>\n",
       "      <td>CA</td>\n",
       "      <td>No</td>\n",
       "      <td>53</td>\n",
       "      <td>Swipe Transaction</td>\n",
       "      <td>Female</td>\n",
       "      <td>La Verne</td>\n",
       "      <td>CA</td>\n",
       "      <td>787</td>\n",
       "      <td>5</td>\n",
       "      <td>127613.0</td>\n",
       "      <td>12400.0</td>\n",
       "      <td>Visa</td>\n",
       "      <td>34.15</td>\n",
       "      <td>-117.76</td>\n",
       "      <td>outbound</td>\n",
       "      <td>34.11</td>\n",
       "      <td>3.558486</td>\n",
       "      <td>1</td>\n",
       "      <td>7.273093</td>\n",
       "      <td>True</td>\n",
       "      <td>True</td>\n",
       "    </tr>\n",
       "    <tr>\n",
       "      <th>10545</th>\n",
       "      <td>0</td>\n",
       "      <td>4582313478255491</td>\n",
       "      <td>41.05</td>\n",
       "      <td>1582875360</td>\n",
       "      <td>2020-02-28 07:36:00</td>\n",
       "      <td>5817218446178736267</td>\n",
       "      <td>La Verne</td>\n",
       "      <td>CA</td>\n",
       "      <td>No</td>\n",
       "      <td>53</td>\n",
       "      <td>Chip Transaction</td>\n",
       "      <td>Female</td>\n",
       "      <td>La Verne</td>\n",
       "      <td>CA</td>\n",
       "      <td>787</td>\n",
       "      <td>5</td>\n",
       "      <td>127613.0</td>\n",
       "      <td>46414.0</td>\n",
       "      <td>Visa</td>\n",
       "      <td>34.15</td>\n",
       "      <td>-117.76</td>\n",
       "      <td>outbound</td>\n",
       "      <td>41.05</td>\n",
       "      <td>3.738859</td>\n",
       "      <td>1</td>\n",
       "      <td>7.855932</td>\n",
       "      <td>True</td>\n",
       "      <td>True</td>\n",
       "    </tr>\n",
       "  </tbody>\n",
       "</table>\n",
       "<p>19963 rows × 28 columns</p>\n",
       "</div>"
      ],
      "text/plain": [
       "       customer.id           card.id  amount_signed   timestamp   \n",
       "0                0  4344676511950444         134.09  1030861260  \\\n",
       "1                0  4344676511950444          38.48  1030862520   \n",
       "2                0  4344676511950444         120.34  1030947720   \n",
       "3                0  4344676511950444         128.95  1030988700   \n",
       "4                0  4344676511950444         104.71  1031034180   \n",
       "...            ...               ...            ...         ...   \n",
       "19934            0  4879494103069057        -295.00  1582816920   \n",
       "10544            0  4582313478255491          46.77  1582870980   \n",
       "19935            0  4879494103069057         114.51  1582871340   \n",
       "19936            0  4879494103069057          34.11  1582872780   \n",
       "10545            0  4582313478255491          41.05  1582875360   \n",
       "\n",
       "                     date        merchant.name  merchant.city merchant.state   \n",
       "0     2002-09-01 06:21:00  3527213246127876953       La Verne             CA  \\\n",
       "1     2002-09-01 06:42:00  -727612092139916043  Monterey Park             CA   \n",
       "2     2002-09-02 06:22:00  -727612092139916043  Monterey Park             CA   \n",
       "3     2002-09-02 17:45:00  3414527459579106770  Monterey Park             CA   \n",
       "4     2002-09-03 06:23:00  5817218446178736267       La Verne             CA   \n",
       "...                   ...                  ...            ...            ...   \n",
       "19934 2020-02-27 15:22:00  7834055923142137930       New York             NY   \n",
       "10544 2020-02-28 06:23:00  -727612092139916043  Monterey Park             CA   \n",
       "19935 2020-02-28 06:29:00   -34551508091458520       La Verne             CA   \n",
       "19936 2020-02-28 06:53:00   -34551508091458520       La Verne             CA   \n",
       "10545 2020-02-28 07:36:00  5817218446178736267       La Verne             CA   \n",
       "\n",
       "      is_fraud  age               chip  gender customer.city customer.state   \n",
       "0           No   53  Swipe Transaction  Female      La Verne             CA  \\\n",
       "1           No   53  Swipe Transaction  Female      La Verne             CA   \n",
       "2           No   53  Swipe Transaction  Female      La Verne             CA   \n",
       "3           No   53  Swipe Transaction  Female      La Verne             CA   \n",
       "4           No   53  Swipe Transaction  Female      La Verne             CA   \n",
       "...        ...  ...                ...     ...           ...            ...   \n",
       "19934       No   53  Swipe Transaction  Female      La Verne             CA   \n",
       "10544       No   53   Chip Transaction  Female      La Verne             CA   \n",
       "19935       No   53  Swipe Transaction  Female      La Verne             CA   \n",
       "19936       No   53  Swipe Transaction  Female      La Verne             CA   \n",
       "10545       No   53   Chip Transaction  Female      La Verne             CA   \n",
       "\n",
       "       score  num_cards  total_debt  credit_limit card.brand  latitude   \n",
       "0        787          5    127613.0       24295.0       Visa     34.15  \\\n",
       "1        787          5    127613.0       24295.0       Visa     34.15   \n",
       "2        787          5    127613.0       24295.0       Visa     34.15   \n",
       "3        787          5    127613.0       24295.0       Visa     34.15   \n",
       "4        787          5    127613.0       24295.0       Visa     34.15   \n",
       "...      ...        ...         ...           ...        ...       ...   \n",
       "19934    787          5    127613.0       12400.0       Visa     34.15   \n",
       "10544    787          5    127613.0       46414.0       Visa     34.15   \n",
       "19935    787          5    127613.0       12400.0       Visa     34.15   \n",
       "19936    787          5    127613.0       12400.0       Visa     34.15   \n",
       "10545    787          5    127613.0       46414.0       Visa     34.15   \n",
       "\n",
       "       longitude direction  amount_usd  log_amount  is_known_merchant   \n",
       "0        -117.76  outbound      134.09    4.905941                  0  \\\n",
       "1        -117.76  outbound       38.48    3.675794                  0   \n",
       "2        -117.76  outbound      120.34    4.798597                  1   \n",
       "3        -117.76  outbound      128.95    4.867150                  0   \n",
       "4        -117.76  outbound      104.71    4.660699                  0   \n",
       "...          ...       ...         ...         ...                ...   \n",
       "19934    -117.76   inbound      295.00    5.690359                  1   \n",
       "10544    -117.76  outbound       46.77    3.866398                  1   \n",
       "19935    -117.76  outbound      114.51    4.749357                  1   \n",
       "19936    -117.76  outbound       34.11    3.558486                  1   \n",
       "10545    -117.76  outbound       41.05    3.738859                  1   \n",
       "\n",
       "       log_timediff  same_city  same_state  \n",
       "0          0.000000       True        True  \n",
       "1          7.139660      False        True  \n",
       "2         11.352768      False        True  \n",
       "3         10.620864      False        True  \n",
       "4         10.725050       True        True  \n",
       "...             ...        ...         ...  \n",
       "19934      5.707110      False       False  \n",
       "10544     10.897868      False        True  \n",
       "19935      5.888878       True        True  \n",
       "19936      7.273093       True        True  \n",
       "10545      7.855932       True        True  \n",
       "\n",
       "[19963 rows x 28 columns]"
      ]
     },
     "execution_count": 50,
     "metadata": {},
     "output_type": "execute_result"
    }
   ],
   "source": [
    "g = new_groups[0]\n",
    "g"
   ]
  },
  {
   "cell_type": "code",
   "execution_count": 51,
   "metadata": {},
   "outputs": [
    {
     "data": {
      "text/plain": [
       "card.brand\n",
       "Visa          19937\n",
       "Mastercard       26\n",
       "Name: count, dtype: int64"
      ]
     },
     "execution_count": 51,
     "metadata": {},
     "output_type": "execute_result"
    }
   ],
   "source": [
    "g['card.brand'].value_counts()"
   ]
  },
  {
   "cell_type": "code",
   "execution_count": 52,
   "metadata": {},
   "outputs": [],
   "source": [
    "data = pd.concat(objs=new_groups)"
   ]
  },
  {
   "cell_type": "code",
   "execution_count": 53,
   "metadata": {},
   "outputs": [],
   "source": [
    "data['merchant.state'].fillna('None', inplace=True)"
   ]
  },
  {
   "cell_type": "code",
   "execution_count": 54,
   "metadata": {},
   "outputs": [
    {
     "data": {
      "text/plain": [
       "0.0"
      ]
     },
     "execution_count": 54,
     "metadata": {},
     "output_type": "execute_result"
    }
   ],
   "source": [
    "data['merchant.state'].isna().mean()"
   ]
  },
  {
   "cell_type": "code",
   "execution_count": 55,
   "metadata": {},
   "outputs": [
    {
     "data": {
      "text/plain": [
       "29757"
      ]
     },
     "execution_count": 55,
     "metadata": {},
     "output_type": "execute_result"
    }
   ],
   "source": [
    "len(data[data['is_fraud'] == 'Yes'])"
   ]
  },
  {
   "cell_type": "code",
   "execution_count": 56,
   "metadata": {},
   "outputs": [
    {
     "data": {
      "text/plain": [
       "merchant.state\n",
       "None        2720821\n",
       "CA          2591830\n",
       "TX          1793298\n",
       "FL          1458699\n",
       "NY          1446864\n",
       "             ...   \n",
       "Tonga             2\n",
       "Togo              2\n",
       "Kiribati          1\n",
       "Paraguay          1\n",
       "Botswana          1\n",
       "Name: count, Length: 224, dtype: int64"
      ]
     },
     "execution_count": 56,
     "metadata": {},
     "output_type": "execute_result"
    }
   ],
   "source": [
    "data['merchant.state'].value_counts()"
   ]
  },
  {
   "cell_type": "code",
   "execution_count": 57,
   "metadata": {},
   "outputs": [
    {
     "data": {
      "text/html": [
       "<style>#sk-container-id-2 {color: black;background-color: white;}#sk-container-id-2 pre{padding: 0;}#sk-container-id-2 div.sk-toggleable {background-color: white;}#sk-container-id-2 label.sk-toggleable__label {cursor: pointer;display: block;width: 100%;margin-bottom: 0;padding: 0.3em;box-sizing: border-box;text-align: center;}#sk-container-id-2 label.sk-toggleable__label-arrow:before {content: \"▸\";float: left;margin-right: 0.25em;color: #696969;}#sk-container-id-2 label.sk-toggleable__label-arrow:hover:before {color: black;}#sk-container-id-2 div.sk-estimator:hover label.sk-toggleable__label-arrow:before {color: black;}#sk-container-id-2 div.sk-toggleable__content {max-height: 0;max-width: 0;overflow: hidden;text-align: left;background-color: #f0f8ff;}#sk-container-id-2 div.sk-toggleable__content pre {margin: 0.2em;color: black;border-radius: 0.25em;background-color: #f0f8ff;}#sk-container-id-2 input.sk-toggleable__control:checked~div.sk-toggleable__content {max-height: 200px;max-width: 100%;overflow: auto;}#sk-container-id-2 input.sk-toggleable__control:checked~label.sk-toggleable__label-arrow:before {content: \"▾\";}#sk-container-id-2 div.sk-estimator input.sk-toggleable__control:checked~label.sk-toggleable__label {background-color: #d4ebff;}#sk-container-id-2 div.sk-label input.sk-toggleable__control:checked~label.sk-toggleable__label {background-color: #d4ebff;}#sk-container-id-2 input.sk-hidden--visually {border: 0;clip: rect(1px 1px 1px 1px);clip: rect(1px, 1px, 1px, 1px);height: 1px;margin: -1px;overflow: hidden;padding: 0;position: absolute;width: 1px;}#sk-container-id-2 div.sk-estimator {font-family: monospace;background-color: #f0f8ff;border: 1px dotted black;border-radius: 0.25em;box-sizing: border-box;margin-bottom: 0.5em;}#sk-container-id-2 div.sk-estimator:hover {background-color: #d4ebff;}#sk-container-id-2 div.sk-parallel-item::after {content: \"\";width: 100%;border-bottom: 1px solid gray;flex-grow: 1;}#sk-container-id-2 div.sk-label:hover label.sk-toggleable__label {background-color: #d4ebff;}#sk-container-id-2 div.sk-serial::before {content: \"\";position: absolute;border-left: 1px solid gray;box-sizing: border-box;top: 0;bottom: 0;left: 50%;z-index: 0;}#sk-container-id-2 div.sk-serial {display: flex;flex-direction: column;align-items: center;background-color: white;padding-right: 0.2em;padding-left: 0.2em;position: relative;}#sk-container-id-2 div.sk-item {position: relative;z-index: 1;}#sk-container-id-2 div.sk-parallel {display: flex;align-items: stretch;justify-content: center;background-color: white;position: relative;}#sk-container-id-2 div.sk-item::before, #sk-container-id-2 div.sk-parallel-item::before {content: \"\";position: absolute;border-left: 1px solid gray;box-sizing: border-box;top: 0;bottom: 0;left: 50%;z-index: -1;}#sk-container-id-2 div.sk-parallel-item {display: flex;flex-direction: column;z-index: 1;position: relative;background-color: white;}#sk-container-id-2 div.sk-parallel-item:first-child::after {align-self: flex-end;width: 50%;}#sk-container-id-2 div.sk-parallel-item:last-child::after {align-self: flex-start;width: 50%;}#sk-container-id-2 div.sk-parallel-item:only-child::after {width: 0;}#sk-container-id-2 div.sk-dashed-wrapped {border: 1px dashed gray;margin: 0 0.4em 0.5em 0.4em;box-sizing: border-box;padding-bottom: 0.4em;background-color: white;}#sk-container-id-2 div.sk-label label {font-family: monospace;font-weight: bold;display: inline-block;line-height: 1.2em;}#sk-container-id-2 div.sk-label-container {text-align: center;}#sk-container-id-2 div.sk-container {/* jupyter's `normalize.less` sets `[hidden] { display: none; }` but bootstrap.min.css set `[hidden] { display: none !important; }` so we also need the `!important` here to be able to override the default hidden behavior on the sphinx rendered scikit-learn.org. See: https://github.com/scikit-learn/scikit-learn/issues/21755 */display: inline-block !important;position: relative;}#sk-container-id-2 div.sk-text-repr-fallback {display: none;}</style><div id=\"sk-container-id-2\" class=\"sk-top-container\"><div class=\"sk-text-repr-fallback\"><pre>OneHotEncoder(min_frequency=5, sparse_output=False)</pre><b>In a Jupyter environment, please rerun this cell to show the HTML representation or trust the notebook. <br />On GitHub, the HTML representation is unable to render, please try loading this page with nbviewer.org.</b></div><div class=\"sk-container\" hidden><div class=\"sk-item\"><div class=\"sk-estimator sk-toggleable\"><input class=\"sk-toggleable__control sk-hidden--visually\" id=\"sk-estimator-id-2\" type=\"checkbox\" checked><label for=\"sk-estimator-id-2\" class=\"sk-toggleable__label sk-toggleable__label-arrow\">OneHotEncoder</label><div class=\"sk-toggleable__content\"><pre>OneHotEncoder(min_frequency=5, sparse_output=False)</pre></div></div></div></div></div>"
      ],
      "text/plain": [
       "OneHotEncoder(min_frequency=5, sparse_output=False)"
      ]
     },
     "execution_count": 57,
     "metadata": {},
     "output_type": "execute_result"
    }
   ],
   "source": [
    "from sklearn.preprocessing import OneHotEncoder\n",
    "\n",
    "oh_customer_state = OneHotEncoder(min_frequency=1, sparse_output=False)\n",
    "oh_merchant_state = OneHotEncoder(min_frequency=5, sparse_output=False)\n",
    "\n",
    "oh_customer_state.fit(np.array(data['customer.state']).reshape(-1,1))\n",
    "oh_merchant_state.fit(np.array(data['merchant.state']).reshape(-1,1))"
   ]
  },
  {
   "cell_type": "code",
   "execution_count": 58,
   "metadata": {},
   "outputs": [],
   "source": [
    "class TransactionDataset(Dataset):\n",
    "    def __init__(self, df, oh_c, oh_m):\n",
    "        self.dataframe = df\n",
    "        self.oh_customer_state = oh_c\n",
    "        self.oh_merchant_state = oh_m\n",
    "\n",
    "    def __len__(self):\n",
    "        return len(self.dataframe)\n",
    "\n",
    "    def __getitem__(self, idx):\n",
    "        item = self.process_row(idx)\n",
    "        return item[:, :-1], item[:, -1]\n",
    "    \n",
    "    def process_row(self, idx):\n",
    "        g = self.dataframe.iloc[idx]\n",
    "        \n",
    "        direction = np.array(g['direction'] == 'inbound', dtype=float)\n",
    "        brand = np.array(g['card.brand'] == 'Visa', dtype=float)\n",
    "        gender = np.array(g['gender'] == 'female', dtype=float)\n",
    "        same_city = np.array(g['same_city'], dtype=float)\n",
    "        same_state = np.array(g['same_state'], dtype=float)\n",
    "        known_merchant = np.array(g['is_known_merchant'], dtype=float)\n",
    "        label = np.array(g['is_fraud'] == 'Yes', dtype=float)\n",
    "\n",
    "        debt = np.array(np.log(1 + g['total_debt']), dtype=float)\n",
    "        limit = np.array(np.log(1 + g['credit_limit']), dtype=float)\n",
    "        \n",
    "        customer_state = self.oh_customer_state.transform(np.array(g['customer.state']).reshape(-1,1))\n",
    "        merchant_state = self.oh_merchant_state.transform(np.array(g['merchant.state']).reshape(-1,1))\n",
    "\n",
    "        Fnum = np.array(g[['age', 'num_cards', 'log_amount', 'log_timediff']])\n",
    "        if len(Fnum.shape) == 1:\n",
    "            Fnum = Fnum.reshape(-1,1).transpose()\n",
    "            \n",
    "        Fcat = np.vstack((debt, limit, direction, brand, gender, same_city, same_state, known_merchant, label)).transpose()\n",
    "\n",
    "        # print(customer_state.shape)\n",
    "        # print(merchant_state.shape)\n",
    "        # print(Fnum.shape)\n",
    "        # print(Fcat.shape)\n",
    "        F = np.hstack((customer_state, merchant_state, Fnum, Fcat))\n",
    "        # print('Feature matrix created with shape', F.shape)\n",
    "        \n",
    "        return np.array(F, dtype=float)"
   ]
  },
  {
   "cell_type": "code",
   "execution_count": 59,
   "metadata": {},
   "outputs": [],
   "source": [
    "class CustomDataset(Dataset):\n",
    "    def __init__(self, dataset):\n",
    "        self.dataset = dataset\n",
    "\n",
    "    def __len__(self):\n",
    "        return len(self.dataset)\n",
    "\n",
    "    def __getitem__(self, idx):\n",
    "        x, y = self.dataset[idx]\n",
    "        x = torch.tensor(x, dtype=torch.float32).squeeze(0)\n",
    "        y = torch.tensor(y[0], dtype=torch.float32)\n",
    "        return x, y"
   ]
  },
  {
   "cell_type": "code",
   "execution_count": 60,
   "metadata": {},
   "outputs": [],
   "source": [
    "import random\n",
    "\n",
    "class CustomUpsampleDataset(Dataset):\n",
    "    def __init__(self, dataset, pidx, nidx):\n",
    "        self.dataset = dataset\n",
    "        self.positive_idx = pidx\n",
    "        self.negative_idx = nidx\n",
    "\n",
    "    def __len__(self):\n",
    "        return len(self.dataset)\n",
    "\n",
    "    def __getitem__(self, idx):\n",
    "        # index is randomized, therefore indexing does not return the index itself!\n",
    "        if random.random() > 0.5:\n",
    "            idx = random.sample(self.positive_idx, 1)[0]\n",
    "        else:\n",
    "            idx = random.sample(self.negative_idx, 1)[0]\n",
    "        \n",
    "        x, y = self.dataset[idx]\n",
    "        x = torch.tensor(x, dtype=torch.float32).squeeze(0)\n",
    "        y = torch.tensor(y[0], dtype=torch.float32)\n",
    "        return x, y"
   ]
  },
  {
   "attachments": {},
   "cell_type": "markdown",
   "metadata": {},
   "source": [
    "## PyTorch data preparation"
   ]
  },
  {
   "cell_type": "code",
   "execution_count": 25,
   "metadata": {},
   "outputs": [
    {
     "name": "stdout",
     "output_type": "stream",
     "text": [
      "13656664\n",
      "5852856\n",
      "4877380\n"
     ]
    }
   ],
   "source": [
    "# Individual split indexes (iid rows)\n",
    "\n",
    "from sklearn.model_selection import train_test_split\n",
    "index_list = list(range(len(g)))\n",
    "tmp, test_ix = train_test_split(index_list, test_size=0.2, random_state=31)\n",
    "train_ix, val_ix = train_test_split(tmp, test_size=0.3, random_state=31)\n",
    "\n",
    "print(len(train_ix))\n",
    "print(len(val_ix))\n",
    "print(len(test_ix))"
   ]
  },
  {
   "cell_type": "code",
   "execution_count": 61,
   "metadata": {},
   "outputs": [
    {
     "name": "stdout",
     "output_type": "stream",
     "text": [
      "1120\n",
      "480\n",
      "400\n",
      "13426335\n",
      "5771380\n",
      "5189185\n"
     ]
    }
   ],
   "source": [
    "# Split indexes by customers\n",
    "\n",
    "from sklearn.model_selection import train_test_split\n",
    "\n",
    "grouped_df = data.groupby('customer.id')\n",
    "groups = np.array(list(grouped_df.groups))\n",
    "\n",
    "index_list = list(range(len(groups)))\n",
    "tmp, _test_ix = train_test_split(index_list, test_size=0.2, random_state=31)\n",
    "_train_ix, _val_ix = train_test_split(tmp, test_size=0.3, random_state=31)\n",
    "\n",
    "print(len(_train_ix))\n",
    "print(len(_val_ix))\n",
    "print(len(_test_ix))\n",
    "\n",
    "train_ix = []\n",
    "val_ix = []\n",
    "test_ix = []\n",
    "\n",
    "for gix in groups[_train_ix]:\n",
    "    g = grouped_df.get_group(gix)\n",
    "    indexes = g.index\n",
    "    train_ix.extend(indexes)\n",
    "\n",
    "for gix in groups[_val_ix]:\n",
    "    g = grouped_df.get_group(gix)\n",
    "    indexes = g.index\n",
    "    val_ix.extend(indexes)\n",
    "\n",
    "for gix in groups[_test_ix]:\n",
    "    g = grouped_df.get_group(gix)\n",
    "    indexes = g.index\n",
    "    test_ix.extend(indexes)\n",
    "\n",
    "print(len(train_ix))\n",
    "print(len(val_ix))\n",
    "print(len(test_ix))"
   ]
  },
  {
   "cell_type": "code",
   "execution_count": 64,
   "metadata": {},
   "outputs": [],
   "source": [
    "g_train = data.iloc[train_ix].reset_index()\n",
    "pos_idx = list(np.array(range(len(g_train)))[g_train['is_fraud'] == 'Yes'])\n",
    "neg_idx = list(np.array(range(len(g_train)))[g_train['is_fraud'] == 'No'])"
   ]
  },
  {
   "cell_type": "code",
   "execution_count": 65,
   "metadata": {},
   "outputs": [],
   "source": [
    "train_dataset = CustomUpsampleDataset(\n",
    "    TransactionDataset(g_train, oh_customer_state, oh_merchant_state),\n",
    "    pos_idx, neg_idx\n",
    ")\n",
    "val_dataset = CustomDataset(TransactionDataset(data.iloc[val_ix], oh_customer_state, oh_merchant_state))\n",
    "test_dataset = CustomDataset(TransactionDataset(data.iloc[test_ix], oh_customer_state, oh_merchant_state))"
   ]
  },
  {
   "cell_type": "code",
   "execution_count": 66,
   "metadata": {},
   "outputs": [],
   "source": [
    "import torch.nn as nn\n",
    "\n",
    "class MLP(nn.Module):\n",
    "    def __init__(self, input_size, hidden_size, output_size):\n",
    "        super(MLP, self).__init__()\n",
    "        self.layers = nn.Sequential(\n",
    "            nn.Linear(input_size, hidden_size),\n",
    "            nn.ReLU(),\n",
    "            nn.Linear(hidden_size, hidden_size),\n",
    "            nn.ReLU(),\n",
    "            nn.Linear(hidden_size, output_size)\n",
    "        )\n",
    "        \n",
    "    def forward(self, x):\n",
    "        return self.layers(x)\n"
   ]
  },
  {
   "cell_type": "code",
   "execution_count": 67,
   "metadata": {},
   "outputs": [
    {
     "data": {
      "text/plain": [
       "277"
      ]
     },
     "execution_count": 67,
     "metadata": {},
     "output_type": "execute_result"
    }
   ],
   "source": [
    "train_dataset[1][0].numpy().shape[0]"
   ]
  },
  {
   "cell_type": "code",
   "execution_count": 71,
   "metadata": {},
   "outputs": [],
   "source": [
    "input_size = train_dataset[1][0].numpy().shape[0]\n",
    "hidden_size = 256\n",
    "output_size = 1\n",
    "learning_rate = 0.001\n",
    "batchsize = 128\n",
    "\n",
    "train_loader = DataLoader(train_dataset, batch_size=batchsize, shuffle=True)\n",
    "val_loader = DataLoader(val_dataset, batch_size=batchsize, shuffle=False)\n",
    "test_loader = DataLoader(test_dataset, batch_size=batchsize, shuffle=False)\n"
   ]
  },
  {
   "cell_type": "code",
   "execution_count": 72,
   "metadata": {},
   "outputs": [],
   "source": [
    "model = MLP(input_size, hidden_size, output_size)\n",
    "criterion = nn.BCEWithLogitsLoss()\n",
    "optimizer = optim.Adam(model.parameters(), lr=learning_rate)"
   ]
  },
  {
   "cell_type": "code",
   "execution_count": 73,
   "metadata": {},
   "outputs": [],
   "source": [
    "from sklearn.metrics import f1_score\n",
    "\n",
    "def binary_accuracy(y_pred, y_true):\n",
    "    y_pred_tag = torch.round(torch.sigmoid(y_pred))\n",
    "    correct_results_sum = (y_pred_tag == y_true).float().sum().item()\n",
    "    acc = correct_results_sum/y_true.shape[0]\n",
    "    acc = round(acc * 100)\n",
    "    \n",
    "    return acc, y_pred_tag\n",
    "\n",
    "def evaluate(model, dataloader, criterion, break_at=1_000):\n",
    "    model.eval()\n",
    "    epoch_loss = 0\n",
    "    epoch_acc = 0\n",
    "    all_preds = []\n",
    "    all_labels = []\n",
    "    \n",
    "    imax = 0\n",
    "    with torch.no_grad():\n",
    "        for inputs, labels in dataloader:\n",
    "            predictions = model(inputs).squeeze()\n",
    "            loss = criterion(predictions, labels)\n",
    "            \n",
    "            acc, preds = binary_accuracy(predictions, labels)\n",
    "            \n",
    "            epoch_loss += loss.item()\n",
    "            epoch_acc += acc\n",
    "\n",
    "            all_preds.extend(preds.detach().numpy())\n",
    "            all_labels.extend(labels.detach().numpy())\n",
    "            \n",
    "            imax += 1\n",
    "            if imax > break_at:\n",
    "                break\n",
    "            \n",
    "    f1 = f1_score(all_labels, all_preds, average='binary')\n",
    "    return epoch_loss / imax, epoch_acc / imax, f1"
   ]
  },
  {
   "cell_type": "code",
   "execution_count": 74,
   "metadata": {},
   "outputs": [],
   "source": [
    "from sklearn.metrics import confusion_matrix\n",
    "\n",
    "def get_predictions(model, dataloader, *, break_at = float('inf'), show_progress = False):\n",
    "    model.eval()\n",
    "    all_preds = []\n",
    "    all_labels = []\n",
    "    imax = 0\n",
    "    with torch.no_grad():\n",
    "        if show_progress:\n",
    "            for inputs, labels in tqdm(dataloader):\n",
    "                predictions = model(inputs).squeeze()\n",
    "                preds = torch.round(torch.sigmoid(predictions))\n",
    "                all_preds.extend(preds.detach().numpy())\n",
    "                all_labels.extend(labels.detach().numpy())\n",
    "                imax += 1\n",
    "                if imax > break_at:\n",
    "                    break\n",
    "            \n",
    "        else:\n",
    "            for inputs, labels in dataloader:\n",
    "                predictions = model(inputs).squeeze()\n",
    "                preds = torch.round(torch.sigmoid(predictions))\n",
    "                all_preds.extend(preds.detach().numpy())\n",
    "                all_labels.extend(labels.detach().numpy())\n",
    "                imax += 1\n",
    "                if imax > break_at:\n",
    "                    break\n",
    "            \n",
    "    return all_labels, all_preds\n",
    "\n",
    "def color_confusion_matrix(val):\n",
    "    if 'TN' in val or 'TP' in val:\n",
    "        color = 'green'\n",
    "    else:\n",
    "        color = 'red'\n",
    "    return 'color: %s' % color"
   ]
  },
  {
   "cell_type": "code",
   "execution_count": 85,
   "metadata": {},
   "outputs": [
    {
     "name": "stdout",
     "output_type": "stream",
     "text": [
      "Epoch: 1\n",
      "Train Loss: 0.125 | Train Acc: 95.53%\n",
      "F1 score: 0.016\n",
      "Accuracy: 0.8469\n"
     ]
    },
    {
     "data": {
      "text/html": [
       "<style type=\"text/css\">\n",
       "#T_0eacd_row0_col0, #T_0eacd_row1_col1 {\n",
       "  color: green;\n",
       "}\n",
       "#T_0eacd_row0_col1, #T_0eacd_row1_col0 {\n",
       "  color: red;\n",
       "}\n",
       "</style>\n",
       "<table id=\"T_0eacd\">\n",
       "  <thead>\n",
       "    <tr>\n",
       "      <th class=\"blank level0\" >&nbsp;</th>\n",
       "      <th id=\"T_0eacd_level0_col0\" class=\"col_heading level0 col0\" >Predicted Negative</th>\n",
       "      <th id=\"T_0eacd_level0_col1\" class=\"col_heading level0 col1\" >Predicted Positive</th>\n",
       "    </tr>\n",
       "  </thead>\n",
       "  <tbody>\n",
       "    <tr>\n",
       "      <th id=\"T_0eacd_level0_row0\" class=\"row_heading level0 row0\" >Actual Negative</th>\n",
       "      <td id=\"T_0eacd_row0_col0\" class=\"data row0 col0\" >TN: 216598</td>\n",
       "      <td id=\"T_0eacd_row0_col1\" class=\"data row0 col1\" >FP: 39173</td>\n",
       "    </tr>\n",
       "    <tr>\n",
       "      <th id=\"T_0eacd_level0_row1\" class=\"row_heading level0 row1\" >Actual Positive</th>\n",
       "      <td id=\"T_0eacd_row1_col0\" class=\"data row1 col0\" >FN: 39</td>\n",
       "      <td id=\"T_0eacd_row1_col1\" class=\"data row1 col1\" >TP: 318</td>\n",
       "    </tr>\n",
       "  </tbody>\n",
       "</table>\n"
      ],
      "text/plain": [
       "<pandas.io.formats.style.Styler at 0x30d9a58d0>"
      ]
     },
     "metadata": {},
     "output_type": "display_data"
    },
    {
     "name": "stdout",
     "output_type": "stream",
     "text": [
      "Epoch: 2\n",
      "Train Loss: 0.123 | Train Acc: 95.64%\n",
      "F1 score: 0.0184\n",
      "Accuracy: 0.868\n"
     ]
    },
    {
     "data": {
      "text/html": [
       "<style type=\"text/css\">\n",
       "#T_e4d24_row0_col0, #T_e4d24_row1_col1 {\n",
       "  color: green;\n",
       "}\n",
       "#T_e4d24_row0_col1, #T_e4d24_row1_col0 {\n",
       "  color: red;\n",
       "}\n",
       "</style>\n",
       "<table id=\"T_e4d24\">\n",
       "  <thead>\n",
       "    <tr>\n",
       "      <th class=\"blank level0\" >&nbsp;</th>\n",
       "      <th id=\"T_e4d24_level0_col0\" class=\"col_heading level0 col0\" >Predicted Negative</th>\n",
       "      <th id=\"T_e4d24_level0_col1\" class=\"col_heading level0 col1\" >Predicted Positive</th>\n",
       "    </tr>\n",
       "  </thead>\n",
       "  <tbody>\n",
       "    <tr>\n",
       "      <th id=\"T_e4d24_level0_row0\" class=\"row_heading level0 row0\" >Actual Negative</th>\n",
       "      <td id=\"T_e4d24_row0_col0\" class=\"data row0 col0\" >TN: 221992</td>\n",
       "      <td id=\"T_e4d24_row0_col1\" class=\"data row0 col1\" >FP: 33779</td>\n",
       "    </tr>\n",
       "    <tr>\n",
       "      <th id=\"T_e4d24_level0_row1\" class=\"row_heading level0 row1\" >Actual Positive</th>\n",
       "      <td id=\"T_e4d24_row1_col0\" class=\"data row1 col0\" >FN: 40</td>\n",
       "      <td id=\"T_e4d24_row1_col1\" class=\"data row1 col1\" >TP: 317</td>\n",
       "    </tr>\n",
       "  </tbody>\n",
       "</table>\n"
      ],
      "text/plain": [
       "<pandas.io.formats.style.Styler at 0x30d9a58d0>"
      ]
     },
     "metadata": {},
     "output_type": "display_data"
    },
    {
     "name": "stdout",
     "output_type": "stream",
     "text": [
      "Epoch: 3\n",
      "Train Loss: 0.122 | Train Acc: 95.68%\n",
      "F1 score: 0.016\n",
      "Accuracy: 0.8438\n"
     ]
    },
    {
     "data": {
      "text/html": [
       "<style type=\"text/css\">\n",
       "#T_39c31_row0_col0, #T_39c31_row1_col1 {\n",
       "  color: green;\n",
       "}\n",
       "#T_39c31_row0_col1, #T_39c31_row1_col0 {\n",
       "  color: red;\n",
       "}\n",
       "</style>\n",
       "<table id=\"T_39c31\">\n",
       "  <thead>\n",
       "    <tr>\n",
       "      <th class=\"blank level0\" >&nbsp;</th>\n",
       "      <th id=\"T_39c31_level0_col0\" class=\"col_heading level0 col0\" >Predicted Negative</th>\n",
       "      <th id=\"T_39c31_level0_col1\" class=\"col_heading level0 col1\" >Predicted Positive</th>\n",
       "    </tr>\n",
       "  </thead>\n",
       "  <tbody>\n",
       "    <tr>\n",
       "      <th id=\"T_39c31_level0_row0\" class=\"row_heading level0 row0\" >Actual Negative</th>\n",
       "      <td id=\"T_39c31_row0_col0\" class=\"data row0 col0\" >TN: 215798</td>\n",
       "      <td id=\"T_39c31_row0_col1\" class=\"data row0 col1\" >FP: 39973</td>\n",
       "    </tr>\n",
       "    <tr>\n",
       "      <th id=\"T_39c31_level0_row1\" class=\"row_heading level0 row1\" >Actual Positive</th>\n",
       "      <td id=\"T_39c31_row1_col0\" class=\"data row1 col0\" >FN: 31</td>\n",
       "      <td id=\"T_39c31_row1_col1\" class=\"data row1 col1\" >TP: 326</td>\n",
       "    </tr>\n",
       "  </tbody>\n",
       "</table>\n"
      ],
      "text/plain": [
       "<pandas.io.formats.style.Styler at 0x30d9a58d0>"
      ]
     },
     "metadata": {},
     "output_type": "display_data"
    },
    {
     "name": "stdout",
     "output_type": "stream",
     "text": [
      "Epoch: 4\n",
      "Train Loss: 0.120 | Train Acc: 95.73%\n",
      "F1 score: 0.0184\n",
      "Accuracy: 0.8672\n"
     ]
    },
    {
     "data": {
      "text/html": [
       "<style type=\"text/css\">\n",
       "#T_3de71_row0_col0, #T_3de71_row1_col1 {\n",
       "  color: green;\n",
       "}\n",
       "#T_3de71_row0_col1, #T_3de71_row1_col0 {\n",
       "  color: red;\n",
       "}\n",
       "</style>\n",
       "<table id=\"T_3de71\">\n",
       "  <thead>\n",
       "    <tr>\n",
       "      <th class=\"blank level0\" >&nbsp;</th>\n",
       "      <th id=\"T_3de71_level0_col0\" class=\"col_heading level0 col0\" >Predicted Negative</th>\n",
       "      <th id=\"T_3de71_level0_col1\" class=\"col_heading level0 col1\" >Predicted Positive</th>\n",
       "    </tr>\n",
       "  </thead>\n",
       "  <tbody>\n",
       "    <tr>\n",
       "      <th id=\"T_3de71_level0_row0\" class=\"row_heading level0 row0\" >Actual Negative</th>\n",
       "      <td id=\"T_3de71_row0_col0\" class=\"data row0 col0\" >TN: 221793</td>\n",
       "      <td id=\"T_3de71_row0_col1\" class=\"data row0 col1\" >FP: 33978</td>\n",
       "    </tr>\n",
       "    <tr>\n",
       "      <th id=\"T_3de71_level0_row1\" class=\"row_heading level0 row1\" >Actual Positive</th>\n",
       "      <td id=\"T_3de71_row1_col0\" class=\"data row1 col0\" >FN: 39</td>\n",
       "      <td id=\"T_3de71_row1_col1\" class=\"data row1 col1\" >TP: 318</td>\n",
       "    </tr>\n",
       "  </tbody>\n",
       "</table>\n"
      ],
      "text/plain": [
       "<pandas.io.formats.style.Styler at 0x30d9a58d0>"
      ]
     },
     "metadata": {},
     "output_type": "display_data"
    },
    {
     "name": "stdout",
     "output_type": "stream",
     "text": [
      "Epoch: 5\n",
      "Train Loss: 0.119 | Train Acc: 95.81%\n",
      "F1 score: 0.0209\n",
      "Accuracy: 0.8852\n"
     ]
    },
    {
     "data": {
      "text/html": [
       "<style type=\"text/css\">\n",
       "#T_b6778_row0_col0, #T_b6778_row1_col1 {\n",
       "  color: green;\n",
       "}\n",
       "#T_b6778_row0_col1, #T_b6778_row1_col0 {\n",
       "  color: red;\n",
       "}\n",
       "</style>\n",
       "<table id=\"T_b6778\">\n",
       "  <thead>\n",
       "    <tr>\n",
       "      <th class=\"blank level0\" >&nbsp;</th>\n",
       "      <th id=\"T_b6778_level0_col0\" class=\"col_heading level0 col0\" >Predicted Negative</th>\n",
       "      <th id=\"T_b6778_level0_col1\" class=\"col_heading level0 col1\" >Predicted Positive</th>\n",
       "    </tr>\n",
       "  </thead>\n",
       "  <tbody>\n",
       "    <tr>\n",
       "      <th id=\"T_b6778_level0_row0\" class=\"row_heading level0 row0\" >Actual Negative</th>\n",
       "      <td id=\"T_b6778_row0_col0\" class=\"data row0 col0\" >TN: 226411</td>\n",
       "      <td id=\"T_b6778_row0_col1\" class=\"data row0 col1\" >FP: 29360</td>\n",
       "    </tr>\n",
       "    <tr>\n",
       "      <th id=\"T_b6778_level0_row1\" class=\"row_heading level0 row1\" >Actual Positive</th>\n",
       "      <td id=\"T_b6778_row1_col0\" class=\"data row1 col0\" >FN: 43</td>\n",
       "      <td id=\"T_b6778_row1_col1\" class=\"data row1 col1\" >TP: 314</td>\n",
       "    </tr>\n",
       "  </tbody>\n",
       "</table>\n"
      ],
      "text/plain": [
       "<pandas.io.formats.style.Styler at 0x30d9a58d0>"
      ]
     },
     "metadata": {},
     "output_type": "display_data"
    },
    {
     "name": "stdout",
     "output_type": "stream",
     "text": [
      "Epoch: 6\n",
      "Train Loss: 0.116 | Train Acc: 95.91%\n",
      "F1 score: 0.0155\n",
      "Accuracy: 0.8394\n"
     ]
    },
    {
     "data": {
      "text/html": [
       "<style type=\"text/css\">\n",
       "#T_79a10_row0_col0, #T_79a10_row1_col1 {\n",
       "  color: green;\n",
       "}\n",
       "#T_79a10_row0_col1, #T_79a10_row1_col0 {\n",
       "  color: red;\n",
       "}\n",
       "</style>\n",
       "<table id=\"T_79a10\">\n",
       "  <thead>\n",
       "    <tr>\n",
       "      <th class=\"blank level0\" >&nbsp;</th>\n",
       "      <th id=\"T_79a10_level0_col0\" class=\"col_heading level0 col0\" >Predicted Negative</th>\n",
       "      <th id=\"T_79a10_level0_col1\" class=\"col_heading level0 col1\" >Predicted Positive</th>\n",
       "    </tr>\n",
       "  </thead>\n",
       "  <tbody>\n",
       "    <tr>\n",
       "      <th id=\"T_79a10_level0_row0\" class=\"row_heading level0 row0\" >Actual Negative</th>\n",
       "      <td id=\"T_79a10_row0_col0\" class=\"data row0 col0\" >TN: 214674</td>\n",
       "      <td id=\"T_79a10_row0_col1\" class=\"data row0 col1\" >FP: 41097</td>\n",
       "    </tr>\n",
       "    <tr>\n",
       "      <th id=\"T_79a10_level0_row1\" class=\"row_heading level0 row1\" >Actual Positive</th>\n",
       "      <td id=\"T_79a10_row1_col0\" class=\"data row1 col0\" >FN: 33</td>\n",
       "      <td id=\"T_79a10_row1_col1\" class=\"data row1 col1\" >TP: 324</td>\n",
       "    </tr>\n",
       "  </tbody>\n",
       "</table>\n"
      ],
      "text/plain": [
       "<pandas.io.formats.style.Styler at 0x30d9a58d0>"
      ]
     },
     "metadata": {},
     "output_type": "display_data"
    },
    {
     "name": "stdout",
     "output_type": "stream",
     "text": [
      "Epoch: 7\n",
      "Train Loss: 0.117 | Train Acc: 95.83%\n",
      "F1 score: 0.0184\n",
      "Accuracy: 0.8681\n"
     ]
    },
    {
     "data": {
      "text/html": [
       "<style type=\"text/css\">\n",
       "#T_419ef_row0_col0, #T_419ef_row1_col1 {\n",
       "  color: green;\n",
       "}\n",
       "#T_419ef_row0_col1, #T_419ef_row1_col0 {\n",
       "  color: red;\n",
       "}\n",
       "</style>\n",
       "<table id=\"T_419ef\">\n",
       "  <thead>\n",
       "    <tr>\n",
       "      <th class=\"blank level0\" >&nbsp;</th>\n",
       "      <th id=\"T_419ef_level0_col0\" class=\"col_heading level0 col0\" >Predicted Negative</th>\n",
       "      <th id=\"T_419ef_level0_col1\" class=\"col_heading level0 col1\" >Predicted Positive</th>\n",
       "    </tr>\n",
       "  </thead>\n",
       "  <tbody>\n",
       "    <tr>\n",
       "      <th id=\"T_419ef_level0_row0\" class=\"row_heading level0 row0\" >Actual Negative</th>\n",
       "      <td id=\"T_419ef_row0_col0\" class=\"data row0 col0\" >TN: 222020</td>\n",
       "      <td id=\"T_419ef_row0_col1\" class=\"data row0 col1\" >FP: 33751</td>\n",
       "    </tr>\n",
       "    <tr>\n",
       "      <th id=\"T_419ef_level0_row1\" class=\"row_heading level0 row1\" >Actual Positive</th>\n",
       "      <td id=\"T_419ef_row1_col0\" class=\"data row1 col0\" >FN: 40</td>\n",
       "      <td id=\"T_419ef_row1_col1\" class=\"data row1 col1\" >TP: 317</td>\n",
       "    </tr>\n",
       "  </tbody>\n",
       "</table>\n"
      ],
      "text/plain": [
       "<pandas.io.formats.style.Styler at 0x30d9a58d0>"
      ]
     },
     "metadata": {},
     "output_type": "display_data"
    },
    {
     "name": "stdout",
     "output_type": "stream",
     "text": [
      "Epoch: 8\n",
      "Train Loss: 0.116 | Train Acc: 95.92%\n",
      "F1 score: 0.0124\n",
      "Accuracy: 0.7991\n"
     ]
    },
    {
     "data": {
      "text/html": [
       "<style type=\"text/css\">\n",
       "#T_087e0_row0_col0, #T_087e0_row1_col1 {\n",
       "  color: green;\n",
       "}\n",
       "#T_087e0_row0_col1, #T_087e0_row1_col0 {\n",
       "  color: red;\n",
       "}\n",
       "</style>\n",
       "<table id=\"T_087e0\">\n",
       "  <thead>\n",
       "    <tr>\n",
       "      <th class=\"blank level0\" >&nbsp;</th>\n",
       "      <th id=\"T_087e0_level0_col0\" class=\"col_heading level0 col0\" >Predicted Negative</th>\n",
       "      <th id=\"T_087e0_level0_col1\" class=\"col_heading level0 col1\" >Predicted Positive</th>\n",
       "    </tr>\n",
       "  </thead>\n",
       "  <tbody>\n",
       "    <tr>\n",
       "      <th id=\"T_087e0_level0_row0\" class=\"row_heading level0 row0\" >Actual Negative</th>\n",
       "      <td id=\"T_087e0_row0_col0\" class=\"data row0 col0\" >TN: 204338</td>\n",
       "      <td id=\"T_087e0_row0_col1\" class=\"data row0 col1\" >FP: 51433</td>\n",
       "    </tr>\n",
       "    <tr>\n",
       "      <th id=\"T_087e0_level0_row1\" class=\"row_heading level0 row1\" >Actual Positive</th>\n",
       "      <td id=\"T_087e0_row1_col0\" class=\"data row1 col0\" >FN: 33</td>\n",
       "      <td id=\"T_087e0_row1_col1\" class=\"data row1 col1\" >TP: 324</td>\n",
       "    </tr>\n",
       "  </tbody>\n",
       "</table>\n"
      ],
      "text/plain": [
       "<pandas.io.formats.style.Styler at 0x30d9a58d0>"
      ]
     },
     "metadata": {},
     "output_type": "display_data"
    },
    {
     "name": "stdout",
     "output_type": "stream",
     "text": [
      "Epoch: 9\n",
      "Train Loss: 0.113 | Train Acc: 96.09%\n",
      "F1 score: 0.0187\n",
      "Accuracy: 0.8688\n"
     ]
    },
    {
     "data": {
      "text/html": [
       "<style type=\"text/css\">\n",
       "#T_c3f72_row0_col0, #T_c3f72_row1_col1 {\n",
       "  color: green;\n",
       "}\n",
       "#T_c3f72_row0_col1, #T_c3f72_row1_col0 {\n",
       "  color: red;\n",
       "}\n",
       "</style>\n",
       "<table id=\"T_c3f72\">\n",
       "  <thead>\n",
       "    <tr>\n",
       "      <th class=\"blank level0\" >&nbsp;</th>\n",
       "      <th id=\"T_c3f72_level0_col0\" class=\"col_heading level0 col0\" >Predicted Negative</th>\n",
       "      <th id=\"T_c3f72_level0_col1\" class=\"col_heading level0 col1\" >Predicted Positive</th>\n",
       "    </tr>\n",
       "  </thead>\n",
       "  <tbody>\n",
       "    <tr>\n",
       "      <th id=\"T_c3f72_level0_row0\" class=\"row_heading level0 row0\" >Actual Negative</th>\n",
       "      <td id=\"T_c3f72_row0_col0\" class=\"data row0 col0\" >TN: 222198</td>\n",
       "      <td id=\"T_c3f72_row0_col1\" class=\"data row0 col1\" >FP: 33573</td>\n",
       "    </tr>\n",
       "    <tr>\n",
       "      <th id=\"T_c3f72_level0_row1\" class=\"row_heading level0 row1\" >Actual Positive</th>\n",
       "      <td id=\"T_c3f72_row1_col0\" class=\"data row1 col0\" >FN: 37</td>\n",
       "      <td id=\"T_c3f72_row1_col1\" class=\"data row1 col1\" >TP: 320</td>\n",
       "    </tr>\n",
       "  </tbody>\n",
       "</table>\n"
      ],
      "text/plain": [
       "<pandas.io.formats.style.Styler at 0x30d9a58d0>"
      ]
     },
     "metadata": {},
     "output_type": "display_data"
    },
    {
     "name": "stdout",
     "output_type": "stream",
     "text": [
      "Epoch: 10\n",
      "Train Loss: 0.115 | Train Acc: 95.92%\n",
      "F1 score: 0.0144\n",
      "Accuracy: 0.8273\n"
     ]
    },
    {
     "data": {
      "text/html": [
       "<style type=\"text/css\">\n",
       "#T_1ea98_row0_col0, #T_1ea98_row1_col1 {\n",
       "  color: green;\n",
       "}\n",
       "#T_1ea98_row0_col1, #T_1ea98_row1_col0 {\n",
       "  color: red;\n",
       "}\n",
       "</style>\n",
       "<table id=\"T_1ea98\">\n",
       "  <thead>\n",
       "    <tr>\n",
       "      <th class=\"blank level0\" >&nbsp;</th>\n",
       "      <th id=\"T_1ea98_level0_col0\" class=\"col_heading level0 col0\" >Predicted Negative</th>\n",
       "      <th id=\"T_1ea98_level0_col1\" class=\"col_heading level0 col1\" >Predicted Positive</th>\n",
       "    </tr>\n",
       "  </thead>\n",
       "  <tbody>\n",
       "    <tr>\n",
       "      <th id=\"T_1ea98_level0_row0\" class=\"row_heading level0 row0\" >Actual Negative</th>\n",
       "      <td id=\"T_1ea98_row0_col0\" class=\"data row0 col0\" >TN: 211580</td>\n",
       "      <td id=\"T_1ea98_row0_col1\" class=\"data row0 col1\" >FP: 44191</td>\n",
       "    </tr>\n",
       "    <tr>\n",
       "      <th id=\"T_1ea98_level0_row1\" class=\"row_heading level0 row1\" >Actual Positive</th>\n",
       "      <td id=\"T_1ea98_row1_col0\" class=\"data row1 col0\" >FN: 34</td>\n",
       "      <td id=\"T_1ea98_row1_col1\" class=\"data row1 col1\" >TP: 323</td>\n",
       "    </tr>\n",
       "  </tbody>\n",
       "</table>\n"
      ],
      "text/plain": [
       "<pandas.io.formats.style.Styler at 0x30d9a58d0>"
      ]
     },
     "metadata": {},
     "output_type": "display_data"
    }
   ],
   "source": [
    "num_epochs = 10\n",
    "num_batches = 1000\n",
    "\n",
    "for epoch in range(num_epochs):\n",
    "    model.train()\n",
    "    epoch_loss = 0\n",
    "    epoch_acc = 0\n",
    "    counter = 0\n",
    "\n",
    "    for inputs, labels in train_loader:\n",
    "        optimizer.zero_grad()\n",
    "        predictions = model(inputs).squeeze()\n",
    "        loss = criterion(predictions, labels)\n",
    "\n",
    "        acc, _ = binary_accuracy(predictions, labels)\n",
    "\n",
    "        loss.backward()\n",
    "        optimizer.step()\n",
    "\n",
    "        epoch_loss += loss.item()\n",
    "        epoch_acc += acc\n",
    "        \n",
    "        counter += 1\n",
    "        if counter > num_batches:\n",
    "            break\n",
    "\n",
    "    # Calculate average loss and accuracy\n",
    "    # epoch_loss /= len(train_loader)\n",
    "    # epoch_acc /= len(train_loader)\n",
    "    epoch_loss /= num_batches\n",
    "    epoch_acc /= num_batches\n",
    "\n",
    "    # Evaluate on validation set\n",
    "    # val_loss, val_acc, val_f1 = evaluate(model, val_loader, criterion)\n",
    "\n",
    "    print(f'Epoch: {epoch+1}')\n",
    "    print(f'Train Loss: {epoch_loss:.3f} | Train Acc: {epoch_acc:.2f}%')\n",
    "    # print(f'Val. Loss: {val_loss:.3f} | Val. Acc: {val_acc:.2f}% | Val. F1: {val_f1:.3f}')\n",
    "    \n",
    "    # Get the training confusion matrix\n",
    "    val_labels, val_preds = get_predictions(model, val_loader, break_at=2_000)\n",
    "    cm = confusion_matrix(val_labels, val_preds)\n",
    "    \n",
    "    pr = cm[1,1] / (cm[1,1] + cm[0,1])\n",
    "    rc = cm[1,1] / (cm[1,0] + cm[1,1])\n",
    "    f1 = 2 * pr * rc / (pr + rc)\n",
    "    acc = (cm[0,0] + cm[1,1]) / np.sum(cm)\n",
    "    print(f\"F1 score: {round(f1, 4)}\")\n",
    "    print(f\"Accuracy: {round(acc, 4)}\")\n",
    "    \n",
    "    # Assuming you already have the confusion matrix cm\n",
    "    cm_labeled = pd.DataFrame({\n",
    "        'Predicted Negative': {'Actual Negative': f'TN: {cm[0,0]}', 'Actual Positive': f'FN: {cm[1,0]}'},\n",
    "        'Predicted Positive': {'Actual Negative': f'FP: {cm[0,1]}', 'Actual Positive': f'TP: {cm[1,1]}'},\n",
    "    })\n",
    "\n",
    "    cm_labeled = cm_labeled.style.applymap(color_confusion_matrix)\n",
    "    display(cm_labeled)\n",
    "\n",
    "# Evaluate on test set\n",
    "# test_loss, test_acc, test_f1 = evaluate(model, test_loader, criterion)\n",
    "# print(f'Test Loss: {test_loss:.3f} | Test Acc: {test_acc:.2f}% | Test F1: {test_f1:.3f}')\n"
   ]
  },
  {
   "cell_type": "code",
   "execution_count": 76,
   "metadata": {},
   "outputs": [],
   "source": [
    "val_loss, val_acc, val_f1 = evaluate(model, val_loader, criterion, break_at=1_000)"
   ]
  },
  {
   "cell_type": "code",
   "execution_count": 81,
   "metadata": {},
   "outputs": [
    {
     "name": "stderr",
     "output_type": "stream",
     "text": [
      " 22%|██▏       | 10000/45089 [10:26<36:37, 15.97it/s]\n"
     ]
    },
    {
     "data": {
      "text/html": [
       "<style type=\"text/css\">\n",
       "#T_aa9d4_row0_col0, #T_aa9d4_row1_col1 {\n",
       "  color: green;\n",
       "}\n",
       "#T_aa9d4_row0_col1, #T_aa9d4_row1_col0 {\n",
       "  color: red;\n",
       "}\n",
       "</style>\n",
       "<table id=\"T_aa9d4\">\n",
       "  <thead>\n",
       "    <tr>\n",
       "      <th class=\"blank level0\" >&nbsp;</th>\n",
       "      <th id=\"T_aa9d4_level0_col0\" class=\"col_heading level0 col0\" >Predicted Negative</th>\n",
       "      <th id=\"T_aa9d4_level0_col1\" class=\"col_heading level0 col1\" >Predicted Positive</th>\n",
       "    </tr>\n",
       "  </thead>\n",
       "  <tbody>\n",
       "    <tr>\n",
       "      <th id=\"T_aa9d4_level0_row0\" class=\"row_heading level0 row0\" >Actual Negative</th>\n",
       "      <td id=\"T_aa9d4_row0_col0\" class=\"data row0 col0\" >TN: 1176172</td>\n",
       "      <td id=\"T_aa9d4_row0_col1\" class=\"data row0 col1\" >FP: 102319</td>\n",
       "    </tr>\n",
       "    <tr>\n",
       "      <th id=\"T_aa9d4_level0_row1\" class=\"row_heading level0 row1\" >Actual Positive</th>\n",
       "      <td id=\"T_aa9d4_row1_col0\" class=\"data row1 col0\" >FN: 197</td>\n",
       "      <td id=\"T_aa9d4_row1_col1\" class=\"data row1 col1\" >TP: 1440</td>\n",
       "    </tr>\n",
       "  </tbody>\n",
       "</table>\n"
      ],
      "text/plain": [
       "<pandas.io.formats.style.Styler at 0x163d387f0>"
      ]
     },
     "metadata": {},
     "output_type": "display_data"
    }
   ],
   "source": [
    "# Get the training confusion matrix\n",
    "val_labels, val_preds = get_predictions(model, val_loader, break_at = 10_000, show_progress=True)\n",
    "cm = confusion_matrix(val_labels, val_preds)\n",
    "\n",
    "# Assuming you already have the confusion matrix cm\n",
    "cm_labeled = pd.DataFrame({\n",
    "    'Predicted Negative': {'Actual Negative': f'TN: {cm[0,0]}', 'Actual Positive': f'FN: {cm[1,0]}'},\n",
    "    'Predicted Positive': {'Actual Negative': f'FP: {cm[0,1]}', 'Actual Positive': f'TP: {cm[1,1]}'},\n",
    "})\n",
    "\n",
    "cm_labeled = cm_labeled.style.applymap(color_confusion_matrix)\n",
    "display(cm_labeled)"
   ]
  },
  {
   "cell_type": "code",
   "execution_count": 82,
   "metadata": {},
   "outputs": [
    {
     "data": {
      "text/plain": [
       "array([[1176172,  102319],\n",
       "       [    197,    1440]])"
      ]
     },
     "execution_count": 82,
     "metadata": {},
     "output_type": "execute_result"
    }
   ],
   "source": [
    "cm"
   ]
  },
  {
   "cell_type": "code",
   "execution_count": 83,
   "metadata": {},
   "outputs": [
    {
     "name": "stdout",
     "output_type": "stream",
     "text": [
      "F1 score: 0.0273\n",
      "Accuracy: 0.9199\n"
     ]
    }
   ],
   "source": [
    "pr = cm[1,1] / (cm[1,1] + cm[0,1])\n",
    "rc = cm[1,1] / (cm[1,0] + cm[1,1])\n",
    "f1 = 2 * pr * rc / (pr + rc)\n",
    "acc = (cm[0,0] + cm[1,1]) / np.sum(cm)\n",
    "print(f\"F1 score: {round(f1, 4)}\")\n",
    "print(f\"Accuracy: {round(acc, 4)}\")"
   ]
  },
  {
   "cell_type": "code",
   "execution_count": null,
   "metadata": {},
   "outputs": [],
   "source": []
  }
 ],
 "metadata": {
  "kernelspec": {
   "display_name": ".venv",
   "language": "python",
   "name": "python3"
  },
  "language_info": {
   "codemirror_mode": {
    "name": "ipython",
    "version": 3
   },
   "file_extension": ".py",
   "mimetype": "text/x-python",
   "name": "python",
   "nbconvert_exporter": "python",
   "pygments_lexer": "ipython3",
   "version": "3.10.9"
  },
  "orig_nbformat": 4
 },
 "nbformat": 4,
 "nbformat_minor": 2
}
