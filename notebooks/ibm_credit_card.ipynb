{
 "cells": [
  {
   "cell_type": "code",
   "execution_count": 15,
   "metadata": {},
   "outputs": [],
   "source": [
    "using CSV, DataFrames\n",
    "using DrWatson\n",
    "using Statistics\n",
    "using StatsBase"
   ]
  },
  {
   "cell_type": "code",
   "execution_count": null,
   "metadata": {},
   "outputs": [],
   "source": [
    "cards = CSV.read(datadir(\"ibm_credit_card/sd254_cards.csv\"), DataFrame)"
   ]
  },
  {
   "cell_type": "code",
   "execution_count": 12,
   "metadata": {},
   "outputs": [
    {
     "data": {
      "text/html": [
       "<div><div style = \"float: left;\"><span>21×13 DataFrame</span></div><div style = \"clear: both;\"></div></div><div class = \"data-frame\" style = \"overflow-x: scroll;\"><table class = \"data-frame\" style = \"margin-bottom: 6px;\"><thead><tr class = \"header\"><th class = \"rowNumber\" style = \"font-weight: bold; text-align: right;\">Row</th><th style = \"text-align: left;\">User</th><th style = \"text-align: left;\">CARD INDEX</th><th style = \"text-align: left;\">Card Brand</th><th style = \"text-align: left;\">Card Type</th><th style = \"text-align: left;\">Card Number</th><th style = \"text-align: left;\">Expires</th><th style = \"text-align: left;\">CVV</th><th style = \"text-align: left;\">Has Chip</th><th style = \"text-align: left;\">Cards Issued</th><th style = \"text-align: left;\">Credit Limit</th><th style = \"text-align: left;\">Acct Open Date</th><th style = \"text-align: left;\">Year PIN last Changed</th><th style = \"text-align: left;\">Card on Dark Web</th></tr><tr class = \"subheader headerLastRow\"><th class = \"rowNumber\" style = \"font-weight: bold; text-align: right;\"></th><th title = \"Int64\" style = \"text-align: left;\">Int64</th><th title = \"Int64\" style = \"text-align: left;\">Int64</th><th title = \"String15\" style = \"text-align: left;\">String15</th><th title = \"String15\" style = \"text-align: left;\">String15</th><th title = \"Int64\" style = \"text-align: left;\">Int64</th><th title = \"String7\" style = \"text-align: left;\">String7</th><th title = \"Int64\" style = \"text-align: left;\">Int64</th><th title = \"String3\" style = \"text-align: left;\">String3</th><th title = \"Int64\" style = \"text-align: left;\">Int64</th><th title = \"String7\" style = \"text-align: left;\">String7</th><th title = \"String7\" style = \"text-align: left;\">String7</th><th title = \"Int64\" style = \"text-align: left;\">Int64</th><th title = \"String3\" style = \"text-align: left;\">String3</th></tr></thead><tbody><tr><td class = \"rowNumber\" style = \"font-weight: bold; text-align: right;\">1</td><td style = \"text-align: right;\">0</td><td style = \"text-align: right;\">0</td><td style = \"text-align: left;\">Visa</td><td style = \"text-align: left;\">Debit</td><td style = \"text-align: right;\">4344676511950444</td><td style = \"text-align: left;\">12/2022</td><td style = \"text-align: right;\">623</td><td style = \"text-align: left;\">YES</td><td style = \"text-align: right;\">2</td><td style = \"text-align: left;\">$24295</td><td style = \"text-align: left;\">09/2002</td><td style = \"text-align: right;\">2008</td><td style = \"text-align: left;\">No</td></tr><tr><td class = \"rowNumber\" style = \"font-weight: bold; text-align: right;\">2</td><td style = \"text-align: right;\">0</td><td style = \"text-align: right;\">1</td><td style = \"text-align: left;\">Visa</td><td style = \"text-align: left;\">Debit</td><td style = \"text-align: right;\">4956965974959986</td><td style = \"text-align: left;\">12/2020</td><td style = \"text-align: right;\">393</td><td style = \"text-align: left;\">YES</td><td style = \"text-align: right;\">2</td><td style = \"text-align: left;\">$21968</td><td style = \"text-align: left;\">04/2014</td><td style = \"text-align: right;\">2014</td><td style = \"text-align: left;\">No</td></tr><tr><td class = \"rowNumber\" style = \"font-weight: bold; text-align: right;\">3</td><td style = \"text-align: right;\">0</td><td style = \"text-align: right;\">2</td><td style = \"text-align: left;\">Visa</td><td style = \"text-align: left;\">Debit</td><td style = \"text-align: right;\">4582313478255491</td><td style = \"text-align: left;\">02/2024</td><td style = \"text-align: right;\">719</td><td style = \"text-align: left;\">YES</td><td style = \"text-align: right;\">2</td><td style = \"text-align: left;\">$46414</td><td style = \"text-align: left;\">07/2003</td><td style = \"text-align: right;\">2004</td><td style = \"text-align: left;\">No</td></tr><tr><td class = \"rowNumber\" style = \"font-weight: bold; text-align: right;\">4</td><td style = \"text-align: right;\">0</td><td style = \"text-align: right;\">3</td><td style = \"text-align: left;\">Visa</td><td style = \"text-align: left;\">Credit</td><td style = \"text-align: right;\">4879494103069057</td><td style = \"text-align: left;\">08/2024</td><td style = \"text-align: right;\">693</td><td style = \"text-align: left;\">NO</td><td style = \"text-align: right;\">1</td><td style = \"text-align: left;\">$12400</td><td style = \"text-align: left;\">01/2003</td><td style = \"text-align: right;\">2012</td><td style = \"text-align: left;\">No</td></tr><tr><td class = \"rowNumber\" style = \"font-weight: bold; text-align: right;\">5</td><td style = \"text-align: right;\">0</td><td style = \"text-align: right;\">4</td><td style = \"text-align: left;\">Mastercard</td><td style = \"text-align: left;\">Debit (Prepaid)</td><td style = \"text-align: right;\">5722874738736011</td><td style = \"text-align: left;\">03/2009</td><td style = \"text-align: right;\">75</td><td style = \"text-align: left;\">YES</td><td style = \"text-align: right;\">1</td><td style = \"text-align: left;\">$28</td><td style = \"text-align: left;\">09/2008</td><td style = \"text-align: right;\">2009</td><td style = \"text-align: left;\">No</td></tr><tr><td class = \"rowNumber\" style = \"font-weight: bold; text-align: right;\">6</td><td style = \"text-align: right;\">1</td><td style = \"text-align: right;\">0</td><td style = \"text-align: left;\">Visa</td><td style = \"text-align: left;\">Credit</td><td style = \"text-align: right;\">4404898874682993</td><td style = \"text-align: left;\">09/2003</td><td style = \"text-align: right;\">736</td><td style = \"text-align: left;\">YES</td><td style = \"text-align: right;\">1</td><td style = \"text-align: left;\">$27500</td><td style = \"text-align: left;\">09/2003</td><td style = \"text-align: right;\">2012</td><td style = \"text-align: left;\">No</td></tr><tr><td class = \"rowNumber\" style = \"font-weight: bold; text-align: right;\">7</td><td style = \"text-align: right;\">1</td><td style = \"text-align: right;\">1</td><td style = \"text-align: left;\">Visa</td><td style = \"text-align: left;\">Debit</td><td style = \"text-align: right;\">4001482973848631</td><td style = \"text-align: left;\">07/2022</td><td style = \"text-align: right;\">972</td><td style = \"text-align: left;\">YES</td><td style = \"text-align: right;\">2</td><td style = \"text-align: left;\">$28508</td><td style = \"text-align: left;\">02/2011</td><td style = \"text-align: right;\">2011</td><td style = \"text-align: left;\">No</td></tr><tr><td class = \"rowNumber\" style = \"font-weight: bold; text-align: right;\">8</td><td style = \"text-align: right;\">1</td><td style = \"text-align: right;\">2</td><td style = \"text-align: left;\">Mastercard</td><td style = \"text-align: left;\">Debit</td><td style = \"text-align: right;\">5627220683410948</td><td style = \"text-align: left;\">06/2022</td><td style = \"text-align: right;\">48</td><td style = \"text-align: left;\">YES</td><td style = \"text-align: right;\">2</td><td style = \"text-align: left;\">$9022</td><td style = \"text-align: left;\">07/2003</td><td style = \"text-align: right;\">2015</td><td style = \"text-align: left;\">No</td></tr><tr><td class = \"rowNumber\" style = \"font-weight: bold; text-align: right;\">9</td><td style = \"text-align: right;\">1</td><td style = \"text-align: right;\">3</td><td style = \"text-align: left;\">Mastercard</td><td style = \"text-align: left;\">Debit (Prepaid)</td><td style = \"text-align: right;\">5711382187309326</td><td style = \"text-align: left;\">11/2020</td><td style = \"text-align: right;\">722</td><td style = \"text-align: left;\">YES</td><td style = \"text-align: right;\">2</td><td style = \"text-align: left;\">$54</td><td style = \"text-align: left;\">06/2010</td><td style = \"text-align: right;\">2015</td><td style = \"text-align: left;\">No</td></tr><tr><td class = \"rowNumber\" style = \"font-weight: bold; text-align: right;\">10</td><td style = \"text-align: right;\">1</td><td style = \"text-align: right;\">4</td><td style = \"text-align: left;\">Mastercard</td><td style = \"text-align: left;\">Debit (Prepaid)</td><td style = \"text-align: right;\">5766121508358701</td><td style = \"text-align: left;\">02/2023</td><td style = \"text-align: right;\">908</td><td style = \"text-align: left;\">YES</td><td style = \"text-align: right;\">1</td><td style = \"text-align: left;\">$99</td><td style = \"text-align: left;\">07/2006</td><td style = \"text-align: right;\">2012</td><td style = \"text-align: left;\">No</td></tr><tr><td class = \"rowNumber\" style = \"font-weight: bold; text-align: right;\">11</td><td style = \"text-align: right;\">2</td><td style = \"text-align: right;\">0</td><td style = \"text-align: left;\">Mastercard</td><td style = \"text-align: left;\">Debit</td><td style = \"text-align: right;\">5495199163052054</td><td style = \"text-align: left;\">03/2022</td><td style = \"text-align: right;\">677</td><td style = \"text-align: left;\">YES</td><td style = \"text-align: right;\">2</td><td style = \"text-align: left;\">$31599</td><td style = \"text-align: left;\">10/2009</td><td style = \"text-align: right;\">2009</td><td style = \"text-align: left;\">No</td></tr><tr><td class = \"rowNumber\" style = \"font-weight: bold; text-align: right;\">12</td><td style = \"text-align: right;\">2</td><td style = \"text-align: right;\">1</td><td style = \"text-align: left;\">Mastercard</td><td style = \"text-align: left;\">Debit</td><td style = \"text-align: right;\">5804499644308599</td><td style = \"text-align: left;\">07/2023</td><td style = \"text-align: right;\">258</td><td style = \"text-align: left;\">NO</td><td style = \"text-align: right;\">2</td><td style = \"text-align: left;\">$27480</td><td style = \"text-align: left;\">03/2002</td><td style = \"text-align: right;\">2008</td><td style = \"text-align: left;\">No</td></tr><tr><td class = \"rowNumber\" style = \"font-weight: bold; text-align: right;\">13</td><td style = \"text-align: right;\">2</td><td style = \"text-align: right;\">2</td><td style = \"text-align: left;\">Mastercard</td><td style = \"text-align: left;\">Debit</td><td style = \"text-align: right;\">5766352389579834</td><td style = \"text-align: left;\">02/2020</td><td style = \"text-align: right;\">992</td><td style = \"text-align: left;\">YES</td><td style = \"text-align: right;\">1</td><td style = \"text-align: left;\">$26743</td><td style = \"text-align: left;\">03/2019</td><td style = \"text-align: right;\">2019</td><td style = \"text-align: left;\">No</td></tr><tr><td class = \"rowNumber\" style = \"font-weight: bold; text-align: right;\">14</td><td style = \"text-align: right;\">2</td><td style = \"text-align: right;\">3</td><td style = \"text-align: left;\">Visa</td><td style = \"text-align: left;\">Debit</td><td style = \"text-align: right;\">4242015583697294</td><td style = \"text-align: left;\">06/2020</td><td style = \"text-align: right;\">928</td><td style = \"text-align: left;\">YES</td><td style = \"text-align: right;\">1</td><td style = \"text-align: left;\">$31463</td><td style = \"text-align: left;\">04/2014</td><td style = \"text-align: right;\">2014</td><td style = \"text-align: left;\">No</td></tr><tr><td class = \"rowNumber\" style = \"font-weight: bold; text-align: right;\">15</td><td style = \"text-align: right;\">2</td><td style = \"text-align: right;\">4</td><td style = \"text-align: left;\">Mastercard</td><td style = \"text-align: left;\">Debit</td><td style = \"text-align: right;\">5191030913182493</td><td style = \"text-align: left;\">06/2024</td><td style = \"text-align: right;\">360</td><td style = \"text-align: left;\">YES</td><td style = \"text-align: right;\">1</td><td style = \"text-align: left;\">$16055</td><td style = \"text-align: left;\">09/2009</td><td style = \"text-align: right;\">2009</td><td style = \"text-align: left;\">No</td></tr><tr><td class = \"rowNumber\" style = \"font-weight: bold; text-align: right;\">16</td><td style = \"text-align: right;\">3</td><td style = \"text-align: right;\">0</td><td style = \"text-align: left;\">Visa</td><td style = \"text-align: left;\">Credit</td><td style = \"text-align: right;\">4017261190134817</td><td style = \"text-align: left;\">05/2015</td><td style = \"text-align: right;\">877</td><td style = \"text-align: left;\">YES</td><td style = \"text-align: right;\">2</td><td style = \"text-align: left;\">$98100</td><td style = \"text-align: left;\">01/2011</td><td style = \"text-align: right;\">2011</td><td style = \"text-align: left;\">No</td></tr><tr><td class = \"rowNumber\" style = \"font-weight: bold; text-align: right;\">17</td><td style = \"text-align: right;\">3</td><td style = \"text-align: right;\">1</td><td style = \"text-align: left;\">Mastercard</td><td style = \"text-align: left;\">Debit (Prepaid)</td><td style = \"text-align: right;\">5581970288727991</td><td style = \"text-align: left;\">06/2020</td><td style = \"text-align: right;\">448</td><td style = \"text-align: left;\">YES</td><td style = \"text-align: right;\">1</td><td style = \"text-align: left;\">$62</td><td style = \"text-align: left;\">02/2007</td><td style = \"text-align: right;\">2007</td><td style = \"text-align: left;\">No</td></tr><tr><td class = \"rowNumber\" style = \"font-weight: bold; text-align: right;\">18</td><td style = \"text-align: right;\">3</td><td style = \"text-align: right;\">2</td><td style = \"text-align: left;\">Visa</td><td style = \"text-align: left;\">Debit</td><td style = \"text-align: right;\">4032240655674503</td><td style = \"text-align: left;\">06/2022</td><td style = \"text-align: right;\">53</td><td style = \"text-align: left;\">YES</td><td style = \"text-align: right;\">1</td><td style = \"text-align: left;\">$132439</td><td style = \"text-align: left;\">11/2010</td><td style = \"text-align: right;\">2011</td><td style = \"text-align: left;\">No</td></tr><tr><td class = \"rowNumber\" style = \"font-weight: bold; text-align: right;\">19</td><td style = \"text-align: right;\">3</td><td style = \"text-align: right;\">3</td><td style = \"text-align: left;\">Visa</td><td style = \"text-align: left;\">Debit</td><td style = \"text-align: right;\">4935974646456357</td><td style = \"text-align: left;\">06/2020</td><td style = \"text-align: right;\">649</td><td style = \"text-align: left;\">YES</td><td style = \"text-align: right;\">1</td><td style = \"text-align: left;\">$125723</td><td style = \"text-align: left;\">10/2009</td><td style = \"text-align: right;\">2010</td><td style = \"text-align: left;\">No</td></tr><tr><td class = \"rowNumber\" style = \"font-weight: bold; text-align: right;\">20</td><td style = \"text-align: right;\">4</td><td style = \"text-align: right;\">0</td><td style = \"text-align: left;\">Mastercard</td><td style = \"text-align: left;\">Debit</td><td style = \"text-align: right;\">5905027855347659</td><td style = \"text-align: left;\">01/2022</td><td style = \"text-align: right;\">886</td><td style = \"text-align: left;\">YES</td><td style = \"text-align: right;\">1</td><td style = \"text-align: left;\">$34900</td><td style = \"text-align: left;\">12/1999</td><td style = \"text-align: right;\">2012</td><td style = \"text-align: left;\">No</td></tr><tr><td class = \"rowNumber\" style = \"font-weight: bold; text-align: right;\">21</td><td style = \"text-align: right;\">5</td><td style = \"text-align: right;\">0</td><td style = \"text-align: left;\">Visa</td><td style = \"text-align: left;\">Credit</td><td style = \"text-align: right;\">4099623033306950</td><td style = \"text-align: left;\">09/2021</td><td style = \"text-align: right;\">74</td><td style = \"text-align: left;\">YES</td><td style = \"text-align: right;\">2</td><td style = \"text-align: left;\">$9900</td><td style = \"text-align: left;\">01/2002</td><td style = \"text-align: right;\">2019</td><td style = \"text-align: left;\">No</td></tr></tbody></table></div>"
      ],
      "text/latex": [
       "\\begin{tabular}{r|cccccccc}\n",
       "\t& User & CARD INDEX & Card Brand & Card Type & Card Number & Expires & CVV & \\\\\n",
       "\t\\hline\n",
       "\t& Int64 & Int64 & String15 & String15 & Int64 & String7 & Int64 & \\\\\n",
       "\t\\hline\n",
       "\t1 & 0 & 0 & Visa & Debit & 4344676511950444 & 12/2022 & 623 & $\\dots$ \\\\\n",
       "\t2 & 0 & 1 & Visa & Debit & 4956965974959986 & 12/2020 & 393 & $\\dots$ \\\\\n",
       "\t3 & 0 & 2 & Visa & Debit & 4582313478255491 & 02/2024 & 719 & $\\dots$ \\\\\n",
       "\t4 & 0 & 3 & Visa & Credit & 4879494103069057 & 08/2024 & 693 & $\\dots$ \\\\\n",
       "\t5 & 0 & 4 & Mastercard & Debit (Prepaid) & 5722874738736011 & 03/2009 & 75 & $\\dots$ \\\\\n",
       "\t6 & 1 & 0 & Visa & Credit & 4404898874682993 & 09/2003 & 736 & $\\dots$ \\\\\n",
       "\t7 & 1 & 1 & Visa & Debit & 4001482973848631 & 07/2022 & 972 & $\\dots$ \\\\\n",
       "\t8 & 1 & 2 & Mastercard & Debit & 5627220683410948 & 06/2022 & 48 & $\\dots$ \\\\\n",
       "\t9 & 1 & 3 & Mastercard & Debit (Prepaid) & 5711382187309326 & 11/2020 & 722 & $\\dots$ \\\\\n",
       "\t10 & 1 & 4 & Mastercard & Debit (Prepaid) & 5766121508358701 & 02/2023 & 908 & $\\dots$ \\\\\n",
       "\t11 & 2 & 0 & Mastercard & Debit & 5495199163052054 & 03/2022 & 677 & $\\dots$ \\\\\n",
       "\t12 & 2 & 1 & Mastercard & Debit & 5804499644308599 & 07/2023 & 258 & $\\dots$ \\\\\n",
       "\t13 & 2 & 2 & Mastercard & Debit & 5766352389579834 & 02/2020 & 992 & $\\dots$ \\\\\n",
       "\t14 & 2 & 3 & Visa & Debit & 4242015583697294 & 06/2020 & 928 & $\\dots$ \\\\\n",
       "\t15 & 2 & 4 & Mastercard & Debit & 5191030913182493 & 06/2024 & 360 & $\\dots$ \\\\\n",
       "\t16 & 3 & 0 & Visa & Credit & 4017261190134817 & 05/2015 & 877 & $\\dots$ \\\\\n",
       "\t17 & 3 & 1 & Mastercard & Debit (Prepaid) & 5581970288727991 & 06/2020 & 448 & $\\dots$ \\\\\n",
       "\t18 & 3 & 2 & Visa & Debit & 4032240655674503 & 06/2022 & 53 & $\\dots$ \\\\\n",
       "\t19 & 3 & 3 & Visa & Debit & 4935974646456357 & 06/2020 & 649 & $\\dots$ \\\\\n",
       "\t20 & 4 & 0 & Mastercard & Debit & 5905027855347659 & 01/2022 & 886 & $\\dots$ \\\\\n",
       "\t21 & 5 & 0 & Visa & Credit & 4099623033306950 & 09/2021 & 74 & $\\dots$ \\\\\n",
       "\\end{tabular}\n"
      ],
      "text/plain": [
       "\u001b[1m21×13 DataFrame\u001b[0m\n",
       "\u001b[1m Row \u001b[0m│\u001b[1m User  \u001b[0m\u001b[1m CARD INDEX \u001b[0m\u001b[1m Card Brand \u001b[0m\u001b[1m Card Type       \u001b[0m\u001b[1m Card Number      \u001b[0m\u001b[1m Expir\u001b[0m ⋯\n",
       "     │\u001b[90m Int64 \u001b[0m\u001b[90m Int64      \u001b[0m\u001b[90m String15   \u001b[0m\u001b[90m String15        \u001b[0m\u001b[90m Int64            \u001b[0m\u001b[90m Strin\u001b[0m ⋯\n",
       "─────┼──────────────────────────────────────────────────────────────────────────\n",
       "   1 │     0           0  Visa        Debit            4344676511950444  12/20 ⋯\n",
       "   2 │     0           1  Visa        Debit            4956965974959986  12/20\n",
       "   3 │     0           2  Visa        Debit            4582313478255491  02/20\n",
       "   4 │     0           3  Visa        Credit           4879494103069057  08/20\n",
       "   5 │     0           4  Mastercard  Debit (Prepaid)  5722874738736011  03/20 ⋯\n",
       "   6 │     1           0  Visa        Credit           4404898874682993  09/20\n",
       "   7 │     1           1  Visa        Debit            4001482973848631  07/20\n",
       "   8 │     1           2  Mastercard  Debit            5627220683410948  06/20\n",
       "  ⋮  │   ⋮        ⋮           ⋮              ⋮                ⋮             ⋮  ⋱\n",
       "  15 │     2           4  Mastercard  Debit            5191030913182493  06/20 ⋯\n",
       "  16 │     3           0  Visa        Credit           4017261190134817  05/20\n",
       "  17 │     3           1  Mastercard  Debit (Prepaid)  5581970288727991  06/20\n",
       "  18 │     3           2  Visa        Debit            4032240655674503  06/20\n",
       "  19 │     3           3  Visa        Debit            4935974646456357  06/20 ⋯\n",
       "  20 │     4           0  Mastercard  Debit            5905027855347659  01/20\n",
       "  21 │     5           0  Visa        Credit           4099623033306950  09/20\n",
       "\u001b[36m                                                    8 columns and 6 rows omitted\u001b[0m"
      ]
     },
     "metadata": {},
     "output_type": "display_data"
    }
   ],
   "source": [
    "first(cards, 21)"
   ]
  },
  {
   "cell_type": "code",
   "execution_count": null,
   "metadata": {},
   "outputs": [],
   "source": []
  },
  {
   "cell_type": "code",
   "execution_count": 6,
   "metadata": {},
   "outputs": [],
   "source": [
    "users = CSV.read(datadir(\"ibm_credit_card/sd254_users.csv\"), DataFrame);"
   ]
  },
  {
   "cell_type": "code",
   "execution_count": 7,
   "metadata": {},
   "outputs": [
    {
     "data": {
      "text/html": [
       "<div><div style = \"float: left;\"><span>5×18 DataFrame</span></div><div style = \"clear: both;\"></div></div><div class = \"data-frame\" style = \"overflow-x: scroll;\"><table class = \"data-frame\" style = \"margin-bottom: 6px;\"><thead><tr class = \"header\"><th class = \"rowNumber\" style = \"font-weight: bold; text-align: right;\">Row</th><th style = \"text-align: left;\">Person</th><th style = \"text-align: left;\">Current Age</th><th style = \"text-align: left;\">Retirement Age</th><th style = \"text-align: left;\">Birth Year</th><th style = \"text-align: left;\">Birth Month</th><th style = \"text-align: left;\">Gender</th><th style = \"text-align: left;\">Address</th><th style = \"text-align: left;\">Apartment</th><th style = \"text-align: left;\">City</th><th style = \"text-align: left;\">State</th><th style = \"text-align: left;\">Zipcode</th><th style = \"text-align: left;\">Latitude</th><th style = \"text-align: left;\">Longitude</th><th style = \"text-align: left;\">Per Capita Income - Zipcode</th><th style = \"text-align: left;\">Yearly Income - Person</th><th style = \"text-align: left;\">Total Debt</th><th style = \"text-align: left;\">FICO Score</th><th style = \"text-align: left;\">Num Credit Cards</th></tr><tr class = \"subheader headerLastRow\"><th class = \"rowNumber\" style = \"font-weight: bold; text-align: right;\"></th><th title = \"String31\" style = \"text-align: left;\">String31</th><th title = \"Int64\" style = \"text-align: left;\">Int64</th><th title = \"Int64\" style = \"text-align: left;\">Int64</th><th title = \"Int64\" style = \"text-align: left;\">Int64</th><th title = \"Int64\" style = \"text-align: left;\">Int64</th><th title = \"String7\" style = \"text-align: left;\">String7</th><th title = \"String\" style = \"text-align: left;\">String</th><th title = \"Union{Missing, Int64}\" style = \"text-align: left;\">Int64?</th><th title = \"String31\" style = \"text-align: left;\">String31</th><th title = \"String3\" style = \"text-align: left;\">String3</th><th title = \"Int64\" style = \"text-align: left;\">Int64</th><th title = \"Float64\" style = \"text-align: left;\">Float64</th><th title = \"Float64\" style = \"text-align: left;\">Float64</th><th title = \"String7\" style = \"text-align: left;\">String7</th><th title = \"String7\" style = \"text-align: left;\">String7</th><th title = \"String7\" style = \"text-align: left;\">String7</th><th title = \"Int64\" style = \"text-align: left;\">Int64</th><th title = \"Int64\" style = \"text-align: left;\">Int64</th></tr></thead><tbody><tr><td class = \"rowNumber\" style = \"font-weight: bold; text-align: right;\">1</td><td style = \"text-align: left;\">Hazel Robinson</td><td style = \"text-align: right;\">53</td><td style = \"text-align: right;\">66</td><td style = \"text-align: right;\">1966</td><td style = \"text-align: right;\">11</td><td style = \"text-align: left;\">Female</td><td style = \"text-align: left;\">462 Rose Lane</td><td style = \"font-style: italic; text-align: right;\">missing</td><td style = \"text-align: left;\">La Verne</td><td style = \"text-align: left;\">CA</td><td style = \"text-align: right;\">91750</td><td style = \"text-align: right;\">34.15</td><td style = \"text-align: right;\">-117.76</td><td style = \"text-align: left;\">$29278</td><td style = \"text-align: left;\">$59696</td><td style = \"text-align: left;\">$127613</td><td style = \"text-align: right;\">787</td><td style = \"text-align: right;\">5</td></tr><tr><td class = \"rowNumber\" style = \"font-weight: bold; text-align: right;\">2</td><td style = \"text-align: left;\">Sasha Sadr</td><td style = \"text-align: right;\">53</td><td style = \"text-align: right;\">68</td><td style = \"text-align: right;\">1966</td><td style = \"text-align: right;\">12</td><td style = \"text-align: left;\">Female</td><td style = \"text-align: left;\">3606 Federal Boulevard</td><td style = \"font-style: italic; text-align: right;\">missing</td><td style = \"text-align: left;\">Little Neck</td><td style = \"text-align: left;\">NY</td><td style = \"text-align: right;\">11363</td><td style = \"text-align: right;\">40.76</td><td style = \"text-align: right;\">-73.74</td><td style = \"text-align: left;\">$37891</td><td style = \"text-align: left;\">$77254</td><td style = \"text-align: left;\">$191349</td><td style = \"text-align: right;\">701</td><td style = \"text-align: right;\">5</td></tr><tr><td class = \"rowNumber\" style = \"font-weight: bold; text-align: right;\">3</td><td style = \"text-align: left;\">Saanvi Lee</td><td style = \"text-align: right;\">81</td><td style = \"text-align: right;\">67</td><td style = \"text-align: right;\">1938</td><td style = \"text-align: right;\">11</td><td style = \"text-align: left;\">Female</td><td style = \"text-align: left;\">766 Third Drive</td><td style = \"font-style: italic; text-align: right;\">missing</td><td style = \"text-align: left;\">West Covina</td><td style = \"text-align: left;\">CA</td><td style = \"text-align: right;\">91792</td><td style = \"text-align: right;\">34.02</td><td style = \"text-align: right;\">-117.89</td><td style = \"text-align: left;\">$22681</td><td style = \"text-align: left;\">$33483</td><td style = \"text-align: left;\">$196</td><td style = \"text-align: right;\">698</td><td style = \"text-align: right;\">5</td></tr><tr><td class = \"rowNumber\" style = \"font-weight: bold; text-align: right;\">4</td><td style = \"text-align: left;\">Everlee Clark</td><td style = \"text-align: right;\">63</td><td style = \"text-align: right;\">63</td><td style = \"text-align: right;\">1957</td><td style = \"text-align: right;\">1</td><td style = \"text-align: left;\">Female</td><td style = \"text-align: left;\">3 Madison Street</td><td style = \"font-style: italic; text-align: right;\">missing</td><td style = \"text-align: left;\">New York</td><td style = \"text-align: left;\">NY</td><td style = \"text-align: right;\">10069</td><td style = \"text-align: right;\">40.71</td><td style = \"text-align: right;\">-73.99</td><td style = \"text-align: left;\">$163145</td><td style = \"text-align: left;\">$249925</td><td style = \"text-align: left;\">$202328</td><td style = \"text-align: right;\">722</td><td style = \"text-align: right;\">4</td></tr><tr><td class = \"rowNumber\" style = \"font-weight: bold; text-align: right;\">5</td><td style = \"text-align: left;\">Kyle Peterson</td><td style = \"text-align: right;\">43</td><td style = \"text-align: right;\">70</td><td style = \"text-align: right;\">1976</td><td style = \"text-align: right;\">9</td><td style = \"text-align: left;\">Male</td><td style = \"text-align: left;\">9620 Valley Stream Drive</td><td style = \"font-style: italic; text-align: right;\">missing</td><td style = \"text-align: left;\">San Francisco</td><td style = \"text-align: left;\">CA</td><td style = \"text-align: right;\">94117</td><td style = \"text-align: right;\">37.76</td><td style = \"text-align: right;\">-122.44</td><td style = \"text-align: left;\">$53797</td><td style = \"text-align: left;\">$109687</td><td style = \"text-align: left;\">$183855</td><td style = \"text-align: right;\">675</td><td style = \"text-align: right;\">1</td></tr></tbody></table></div>"
      ],
      "text/latex": [
       "\\begin{tabular}{r|cccccccc}\n",
       "\t& Person & Current Age & Retirement Age & Birth Year & Birth Month & Gender & Address & \\\\\n",
       "\t\\hline\n",
       "\t& String31 & Int64 & Int64 & Int64 & Int64 & String7 & String & \\\\\n",
       "\t\\hline\n",
       "\t1 & Hazel Robinson & 53 & 66 & 1966 & 11 & Female & 462 Rose Lane & $\\dots$ \\\\\n",
       "\t2 & Sasha Sadr & 53 & 68 & 1966 & 12 & Female & 3606 Federal Boulevard & $\\dots$ \\\\\n",
       "\t3 & Saanvi Lee & 81 & 67 & 1938 & 11 & Female & 766 Third Drive & $\\dots$ \\\\\n",
       "\t4 & Everlee Clark & 63 & 63 & 1957 & 1 & Female & 3 Madison Street & $\\dots$ \\\\\n",
       "\t5 & Kyle Peterson & 43 & 70 & 1976 & 9 & Male & 9620 Valley Stream Drive & $\\dots$ \\\\\n",
       "\\end{tabular}\n"
      ],
      "text/plain": [
       "\u001b[1m5×18 DataFrame\u001b[0m\n",
       "\u001b[1m Row \u001b[0m│\u001b[1m Person         \u001b[0m\u001b[1m Current Age \u001b[0m\u001b[1m Retirement Age \u001b[0m\u001b[1m Birth Year \u001b[0m\u001b[1m Birth Month \u001b[0m\u001b[1m G\u001b[0m ⋯\n",
       "     │\u001b[90m String31       \u001b[0m\u001b[90m Int64       \u001b[0m\u001b[90m Int64          \u001b[0m\u001b[90m Int64      \u001b[0m\u001b[90m Int64       \u001b[0m\u001b[90m S\u001b[0m ⋯\n",
       "─────┼──────────────────────────────────────────────────────────────────────────\n",
       "   1 │ Hazel Robinson           53              66        1966           11  F ⋯\n",
       "   2 │ Sasha Sadr               53              68        1966           12  F\n",
       "   3 │ Saanvi Lee               81              67        1938           11  F\n",
       "   4 │ Everlee Clark            63              63        1957            1  F\n",
       "   5 │ Kyle Peterson            43              70        1976            9  M ⋯\n",
       "\u001b[36m                                                              13 columns omitted\u001b[0m"
      ]
     },
     "metadata": {},
     "output_type": "display_data"
    }
   ],
   "source": [
    "first(users, 5)"
   ]
  },
  {
   "cell_type": "code",
   "execution_count": 8,
   "metadata": {},
   "outputs": [],
   "source": [
    "transactions = CSV.read(datadir(\"ibm_credit_card/credit_card_transactions-ibm_v2.csv\"), DataFrame);"
   ]
  },
  {
   "cell_type": "code",
   "execution_count": 9,
   "metadata": {},
   "outputs": [
    {
     "data": {
      "text/html": [
       "<div><div style = \"float: left;\"><span>5×15 DataFrame</span></div><div style = \"clear: both;\"></div></div><div class = \"data-frame\" style = \"overflow-x: scroll;\"><table class = \"data-frame\" style = \"margin-bottom: 6px;\"><thead><tr class = \"header\"><th class = \"rowNumber\" style = \"font-weight: bold; text-align: right;\">Row</th><th style = \"text-align: left;\">User</th><th style = \"text-align: left;\">Card</th><th style = \"text-align: left;\">Year</th><th style = \"text-align: left;\">Month</th><th style = \"text-align: left;\">Day</th><th style = \"text-align: left;\">Time</th><th style = \"text-align: left;\">Amount</th><th style = \"text-align: left;\">Use Chip</th><th style = \"text-align: left;\">Merchant Name</th><th style = \"text-align: left;\">Merchant City</th><th style = \"text-align: left;\">Merchant State</th><th style = \"text-align: left;\">Zip</th><th style = \"text-align: left;\">MCC</th><th style = \"text-align: left;\">Errors?</th><th style = \"text-align: left;\">Is Fraud?</th></tr><tr class = \"subheader headerLastRow\"><th class = \"rowNumber\" style = \"font-weight: bold; text-align: right;\"></th><th title = \"Int64\" style = \"text-align: left;\">Int64</th><th title = \"Int64\" style = \"text-align: left;\">Int64</th><th title = \"Int64\" style = \"text-align: left;\">Int64</th><th title = \"Int64\" style = \"text-align: left;\">Int64</th><th title = \"Int64\" style = \"text-align: left;\">Int64</th><th title = \"Dates.Time\" style = \"text-align: left;\">Time</th><th title = \"String15\" style = \"text-align: left;\">String15</th><th title = \"String31\" style = \"text-align: left;\">String31</th><th title = \"Int64\" style = \"text-align: left;\">Int64</th><th title = \"String31\" style = \"text-align: left;\">String31</th><th title = \"Union{Missing, String}\" style = \"text-align: left;\">String?</th><th title = \"Union{Missing, Float64}\" style = \"text-align: left;\">Float64?</th><th title = \"Int64\" style = \"text-align: left;\">Int64</th><th title = \"Union{Missing, String}\" style = \"text-align: left;\">String?</th><th title = \"String3\" style = \"text-align: left;\">String3</th></tr></thead><tbody><tr><td class = \"rowNumber\" style = \"font-weight: bold; text-align: right;\">1</td><td style = \"text-align: right;\">0</td><td style = \"text-align: right;\">0</td><td style = \"text-align: right;\">2002</td><td style = \"text-align: right;\">9</td><td style = \"text-align: right;\">1</td><td style = \"text-align: left;\">06:21:00</td><td style = \"text-align: left;\">$134.09</td><td style = \"text-align: left;\">Swipe Transaction</td><td style = \"text-align: right;\">3527213246127876953</td><td style = \"text-align: left;\">La Verne</td><td style = \"text-align: left;\">CA</td><td style = \"text-align: right;\">91750.0</td><td style = \"text-align: right;\">5300</td><td style = \"font-style: italic; text-align: left;\">missing</td><td style = \"text-align: left;\">No</td></tr><tr><td class = \"rowNumber\" style = \"font-weight: bold; text-align: right;\">2</td><td style = \"text-align: right;\">0</td><td style = \"text-align: right;\">0</td><td style = \"text-align: right;\">2002</td><td style = \"text-align: right;\">9</td><td style = \"text-align: right;\">1</td><td style = \"text-align: left;\">06:42:00</td><td style = \"text-align: left;\">$38.48</td><td style = \"text-align: left;\">Swipe Transaction</td><td style = \"text-align: right;\">-727612092139916043</td><td style = \"text-align: left;\">Monterey Park</td><td style = \"text-align: left;\">CA</td><td style = \"text-align: right;\">91754.0</td><td style = \"text-align: right;\">5411</td><td style = \"font-style: italic; text-align: left;\">missing</td><td style = \"text-align: left;\">No</td></tr><tr><td class = \"rowNumber\" style = \"font-weight: bold; text-align: right;\">3</td><td style = \"text-align: right;\">0</td><td style = \"text-align: right;\">0</td><td style = \"text-align: right;\">2002</td><td style = \"text-align: right;\">9</td><td style = \"text-align: right;\">2</td><td style = \"text-align: left;\">06:22:00</td><td style = \"text-align: left;\">$120.34</td><td style = \"text-align: left;\">Swipe Transaction</td><td style = \"text-align: right;\">-727612092139916043</td><td style = \"text-align: left;\">Monterey Park</td><td style = \"text-align: left;\">CA</td><td style = \"text-align: right;\">91754.0</td><td style = \"text-align: right;\">5411</td><td style = \"font-style: italic; text-align: left;\">missing</td><td style = \"text-align: left;\">No</td></tr><tr><td class = \"rowNumber\" style = \"font-weight: bold; text-align: right;\">4</td><td style = \"text-align: right;\">0</td><td style = \"text-align: right;\">0</td><td style = \"text-align: right;\">2002</td><td style = \"text-align: right;\">9</td><td style = \"text-align: right;\">2</td><td style = \"text-align: left;\">17:45:00</td><td style = \"text-align: left;\">$128.95</td><td style = \"text-align: left;\">Swipe Transaction</td><td style = \"text-align: right;\">3414527459579106770</td><td style = \"text-align: left;\">Monterey Park</td><td style = \"text-align: left;\">CA</td><td style = \"text-align: right;\">91754.0</td><td style = \"text-align: right;\">5651</td><td style = \"font-style: italic; text-align: left;\">missing</td><td style = \"text-align: left;\">No</td></tr><tr><td class = \"rowNumber\" style = \"font-weight: bold; text-align: right;\">5</td><td style = \"text-align: right;\">0</td><td style = \"text-align: right;\">0</td><td style = \"text-align: right;\">2002</td><td style = \"text-align: right;\">9</td><td style = \"text-align: right;\">3</td><td style = \"text-align: left;\">06:23:00</td><td style = \"text-align: left;\">$104.71</td><td style = \"text-align: left;\">Swipe Transaction</td><td style = \"text-align: right;\">5817218446178736267</td><td style = \"text-align: left;\">La Verne</td><td style = \"text-align: left;\">CA</td><td style = \"text-align: right;\">91750.0</td><td style = \"text-align: right;\">5912</td><td style = \"font-style: italic; text-align: left;\">missing</td><td style = \"text-align: left;\">No</td></tr></tbody></table></div>"
      ],
      "text/latex": [
       "\\begin{tabular}{r|cccccccccc}\n",
       "\t& User & Card & Year & Month & Day & Time & Amount & Use Chip & Merchant Name & \\\\\n",
       "\t\\hline\n",
       "\t& Int64 & Int64 & Int64 & Int64 & Int64 & Time & String15 & String31 & Int64 & \\\\\n",
       "\t\\hline\n",
       "\t1 & 0 & 0 & 2002 & 9 & 1 & 06:21:00 & \\$134.09 & Swipe Transaction & 3527213246127876953 & $\\dots$ \\\\\n",
       "\t2 & 0 & 0 & 2002 & 9 & 1 & 06:42:00 & \\$38.48 & Swipe Transaction & -727612092139916043 & $\\dots$ \\\\\n",
       "\t3 & 0 & 0 & 2002 & 9 & 2 & 06:22:00 & \\$120.34 & Swipe Transaction & -727612092139916043 & $\\dots$ \\\\\n",
       "\t4 & 0 & 0 & 2002 & 9 & 2 & 17:45:00 & \\$128.95 & Swipe Transaction & 3414527459579106770 & $\\dots$ \\\\\n",
       "\t5 & 0 & 0 & 2002 & 9 & 3 & 06:23:00 & \\$104.71 & Swipe Transaction & 5817218446178736267 & $\\dots$ \\\\\n",
       "\\end{tabular}\n"
      ],
      "text/plain": [
       "\u001b[1m5×15 DataFrame\u001b[0m\n",
       "\u001b[1m Row \u001b[0m│\u001b[1m User  \u001b[0m\u001b[1m Card  \u001b[0m\u001b[1m Year  \u001b[0m\u001b[1m Month \u001b[0m\u001b[1m Day   \u001b[0m\u001b[1m Time     \u001b[0m\u001b[1m Amount   \u001b[0m\u001b[1m Use Chip        \u001b[0m ⋯\n",
       "     │\u001b[90m Int64 \u001b[0m\u001b[90m Int64 \u001b[0m\u001b[90m Int64 \u001b[0m\u001b[90m Int64 \u001b[0m\u001b[90m Int64 \u001b[0m\u001b[90m Time     \u001b[0m\u001b[90m String15 \u001b[0m\u001b[90m String31        \u001b[0m ⋯\n",
       "─────┼──────────────────────────────────────────────────────────────────────────\n",
       "   1 │     0      0   2002      9      1  06:21:00  $134.09   Swipe Transactio ⋯\n",
       "   2 │     0      0   2002      9      1  06:42:00  $38.48    Swipe Transactio\n",
       "   3 │     0      0   2002      9      2  06:22:00  $120.34   Swipe Transactio\n",
       "   4 │     0      0   2002      9      2  17:45:00  $128.95   Swipe Transactio\n",
       "   5 │     0      0   2002      9      3  06:23:00  $104.71   Swipe Transactio ⋯\n",
       "\u001b[36m                                                               8 columns omitted\u001b[0m"
      ]
     },
     "metadata": {},
     "output_type": "display_data"
    }
   ],
   "source": [
    "first(transactions, 5)"
   ]
  },
  {
   "cell_type": "code",
   "execution_count": 19,
   "metadata": {},
   "outputs": [
    {
     "data": {
      "text/plain": [
       "Dict{String3, Int64} with 2 entries:\n",
       "  \"Yes\" => 29757\n",
       "  \"No\"  => 24357143"
      ]
     },
     "metadata": {},
     "output_type": "display_data"
    }
   ],
   "source": [
    "countmap(transactions[!, \"Is Fraud?\"])"
   ]
  },
  {
   "cell_type": "code",
   "execution_count": 20,
   "metadata": {},
   "outputs": [
    {
     "data": {
      "text/plain": [
       "29757"
      ]
     },
     "metadata": {},
     "output_type": "display_data"
    }
   ],
   "source": [
    "sum(transactions[!, \"Is Fraud?\"] .== \"Yes\")"
   ]
  },
  {
   "cell_type": "code",
   "execution_count": 21,
   "metadata": {},
   "outputs": [],
   "source": [
    "using Plots, StatsPlots"
   ]
  },
  {
   "cell_type": "code",
   "execution_count": 29,
   "metadata": {},
   "outputs": [
    {
     "data": {
      "text/plain": [
       "24386900-element Vector{Float64}:\n",
       " 134.09\n",
       "  38.48\n",
       " 120.34\n",
       " 128.95\n",
       " 104.71\n",
       "  86.19\n",
       "  93.84\n",
       " 123.5\n",
       "  61.72\n",
       "  57.1\n",
       "   ⋮\n",
       "  12.91\n",
       "  15.52\n",
       "  56.67\n",
       "  63.43\n",
       " -54.0\n",
       "  54.0\n",
       "  59.15\n",
       "  43.12\n",
       "  45.13"
      ]
     },
     "metadata": {},
     "output_type": "display_data"
    }
   ],
   "source": [
    "currency = map(x -> x[1], transactions[!, \"Amount\"])\n",
    "amount = map(x -> parse(Float64, x[2:end]), transactions[!, \"Amount\"])"
   ]
  },
  {
   "cell_type": "code",
   "execution_count": null,
   "metadata": {},
   "outputs": [],
   "source": []
  },
  {
   "cell_type": "code",
   "execution_count": 26,
   "metadata": {},
   "outputs": [
    {
     "data": {
      "text/plain": [
       "Dict{Char, Int64} with 1 entry:\n",
       "  '$' => 24386900"
      ]
     },
     "metadata": {},
     "output_type": "display_data"
    }
   ],
   "source": [
    "countmap(currency)"
   ]
  },
  {
   "cell_type": "code",
   "execution_count": 23,
   "metadata": {},
   "outputs": [
    {
     "data": {
      "text/plain": [
       "24386900-element Vector{String15}:\n",
       " \"\\$134.09\"\n",
       " \"\\$38.48\"\n",
       " \"\\$120.34\"\n",
       " \"\\$128.95\"\n",
       " \"\\$104.71\"\n",
       " \"\\$86.19\"\n",
       " \"\\$93.84\"\n",
       " \"\\$123.50\"\n",
       " \"\\$61.72\"\n",
       " \"\\$57.10\"\n",
       " ⋮\n",
       " \"\\$12.91\"\n",
       " \"\\$15.52\"\n",
       " \"\\$56.67\"\n",
       " \"\\$63.43\"\n",
       " \"\\$-54.00\"\n",
       " \"\\$54.00\"\n",
       " \"\\$59.15\"\n",
       " \"\\$43.12\"\n",
       " \"\\$45.13\""
      ]
     },
     "metadata": {},
     "output_type": "display_data"
    }
   ],
   "source": [
    "transactions[!, \"Amount\"]"
   ]
  },
  {
   "cell_type": "code",
   "execution_count": 22,
   "metadata": {},
   "outputs": [
    {
     "ename": "MethodError",
     "evalue": "MethodError: no method matching isfinite(::String15)\nClosest candidates are:\n  isfinite(!Matched::Union{Type{T}, T}) where T<:Dates.TimeType at /Applications/Julia-1.8.app/Contents/Resources/julia/share/julia/stdlib/v1.8/Dates/src/types.jl:415\n  isfinite(!Matched::Union{Type{P}, P}) where P<:Dates.Period at /Applications/Julia-1.8.app/Contents/Resources/julia/share/julia/stdlib/v1.8/Dates/src/periods.jl:57\n  isfinite(!Matched::AbstractIrrational) at irrationals.jl:141\n  ...",
     "output_type": "error",
     "traceback": [
      "MethodError: no method matching isfinite(::String15)\n",
      "Closest candidates are:\n",
      "  isfinite(!Matched::Union{Type{T}, T}) where T<:Dates.TimeType at /Applications/Julia-1.8.app/Contents/Resources/julia/share/julia/stdlib/v1.8/Dates/src/types.jl:415\n",
      "  isfinite(!Matched::Union{Type{P}, P}) where P<:Dates.Period at /Applications/Julia-1.8.app/Contents/Resources/julia/share/julia/stdlib/v1.8/Dates/src/periods.jl:57\n",
      "  isfinite(!Matched::AbstractIrrational) at irrationals.jl:141\n",
      "  ...\n",
      "\n",
      "Stacktrace:\n",
      "  [1] filter!(f::typeof(isfinite), a::Vector{String15})\n",
      "    @ Base ./array.jl:2584\n",
      "  [2] _broadcast_getindex_evalf\n",
      "    @ ./broadcast.jl:670 [inlined]\n",
      "  [3] _broadcast_getindex\n",
      "    @ ./broadcast.jl:643 [inlined]\n",
      "  [4] #29\n",
      "    @ ./broadcast.jl:1075 [inlined]\n",
      "  [5] ntuple\n",
      "    @ ./ntuple.jl:48 [inlined]\n",
      "  [6] copy\n",
      "    @ ./broadcast.jl:1075 [inlined]\n",
      "  [7] materialize\n",
      "    @ ./broadcast.jl:860 [inlined]\n",
      "  [8] _filternans\n",
      "    @ ~/.julia/packages/Plots/B5j7d/src/recipes.jl:768 [inlined]\n",
      "  [9] _make_hist(vs::Tuple{Vector{String15}}, binning::Symbol; normed::Bool, weights::Nothing)\n",
      "    @ Plots ~/.julia/packages/Plots/B5j7d/src/recipes.jl:781\n",
      " [10] macro expansion\n",
      "    @ ~/.julia/packages/Plots/B5j7d/src/recipes.jl:820 [inlined]\n",
      " [11] apply_recipe(plotattributes::AbstractDict{Symbol, Any}, #unused#::Type{Val{:stephist}}, x::Any, y::Any, z::Any)\n",
      "    @ Plots ~/.julia/packages/RecipesBase/z10lo/src/RecipesBase.jl:300\n",
      " [12] _process_seriesrecipe(plt::Any, plotattributes::Any)\n",
      "    @ RecipesPipeline ~/.julia/packages/RecipesPipeline/XxUHt/src/series_recipe.jl:50\n",
      " [13] _process_seriesrecipe(plt::Any, plotattributes::Any)\n",
      "    @ RecipesPipeline ~/.julia/packages/RecipesPipeline/XxUHt/src/series_recipe.jl:62\n",
      " [14] _process_seriesrecipes!(plt::Any, kw_list::Any)\n",
      "    @ RecipesPipeline ~/.julia/packages/RecipesPipeline/XxUHt/src/series_recipe.jl:27\n",
      " [15] recipe_pipeline!(plt::Any, plotattributes::Any, args::Any)\n",
      "    @ RecipesPipeline ~/.julia/packages/RecipesPipeline/XxUHt/src/RecipesPipeline.jl:99\n",
      " [16] _plot!(plt::Plots.Plot, plotattributes::Any, args::Any)\n",
      "    @ Plots ~/.julia/packages/Plots/B5j7d/src/plot.jl:223\n",
      " [17] plot(args::Any; kw::Base.Pairs{Symbol, V, Tuple{Vararg{Symbol, N}}, NamedTuple{names, T}} where {V, N, names, T<:Tuple{Vararg{Any, N}}})\n",
      "    @ Plots ~/.julia/packages/Plots/B5j7d/src/plot.jl:102\n",
      " [18] histogram(args::Any; kw::Base.Pairs{Symbol, V, Tuple{Vararg{Symbol, N}}, NamedTuple{names, T}} where {V, N, names, T<:Tuple{Vararg{Any, N}}})\n",
      "    @ Plots ~/.julia/packages/RecipesBase/z10lo/src/RecipesBase.jl:427\n",
      " [19] histogram(args::Any)\n",
      "    @ Plots ~/.julia/packages/RecipesBase/z10lo/src/RecipesBase.jl:427\n",
      " [20] top-level scope\n",
      "    @ ~/Documents/julia_projects/TransactionGPT/notebooks/ibm_credit_card.ipynb:1"
     ]
    }
   ],
   "source": [
    "histogram(transactions[!, \"Amount\"])"
   ]
  }
 ],
 "metadata": {
  "kernelspec": {
   "display_name": "Julia 1.8.2",
   "language": "julia",
   "name": "julia-1.8"
  },
  "language_info": {
   "file_extension": ".jl",
   "mimetype": "application/julia",
   "name": "julia",
   "version": "1.8.2"
  },
  "orig_nbformat": 4
 },
 "nbformat": 4,
 "nbformat_minor": 2
}
