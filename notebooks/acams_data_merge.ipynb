{
 "cells": [
  {
   "cell_type": "code",
   "execution_count": null,
   "metadata": {
    "collapsed": true
   },
   "outputs": [],
   "source": [
    "import os\n",
    "\n",
    "import numpy as np\n",
    "import pandas as pd"
   ]
  },
  {
   "cell_type": "code",
   "execution_count": null,
   "metadata": {
    "collapsed": false
   },
   "outputs": [],
   "source": [
    "pd.set_option('display.max_columns', 500)\n",
    "pd.set_option('display.max_rows', 100)\n",
    "pd.set_option('display.min_rows', 100)\n",
    "pd.set_option('display.max_colwidth', 200)\n",
    "pd.options.display.float_format = '{:,.2f}'.format"
   ]
  },
  {
   "cell_type": "code",
   "execution_count": null,
   "metadata": {
    "collapsed": false
   },
   "outputs": [],
   "source": [
    "%%html\n",
    "<style>\n",
    ".dataframe td {\n",
    "    white-space: nowrap;\n",
    "}\n",
    "</style>"
   ]
  },
  {
   "cell_type": "code",
   "execution_count": null,
   "metadata": {
    "collapsed": false
   },
   "outputs": [],
   "source": [
    "path = os.path.abspath('data/acams2_data')\n",
    "\n",
    "\n",
    "def load_data():\n",
    "    _bo = pd.read_csv(path + '/BO.csv', low_memory=False)\n",
    "    _cash = pd.read_csv(path + '/Cash.csv', low_memory=False)\n",
    "    _customers = pd.read_csv(path + '/Customers.csv', low_memory=False)\n",
    "    _ip = pd.read_csv(path + '/IP.csv', low_memory=False)\n",
    "    _reg = pd.read_csv(path + '/Registration.csv', low_memory=False)\n",
    "    _sdn = pd.read_csv(path + '/SDN.csv', low_memory=False)\n",
    "    _wire = pd.read_csv(path + '/Wire.csv', low_memory=False)\n",
    "    \n",
    "    return _bo, _cash, _customers, _ip, _reg, _sdn, _wire"
   ]
  },
  {
   "cell_type": "code",
   "execution_count": null,
   "metadata": {
    "collapsed": false
   },
   "outputs": [],
   "source": [
    "bo, cash, cust, ip, reg, sdn, wire = load_data()\n",
    "\n",
    "# Fix problems\n",
    "cash = cash[['TRANSACTION_ID', 'TRANSACTION_DATE', 'DEBIT', 'CREDIT', 'CUSTOMER_ID', 'ACCOUNT_ID']]\n",
    "\n",
    "cust['ACCOUNT_CREATION_DATE'] = pd.to_datetime(cust['ACCOUNT_CREATION_DATE'], format='%m/%d/%Y')\n",
    "cust['ACCOUNT_UPDATE_DATE'] = pd.to_datetime(cust['ACCOUNT_UPDATE_DATE'], format='%m/%d/%Y')\n",
    "cust.sort_values(by=['ACCOUNT_CREATION_DATE', 'ACCOUNT_UPDATE_DATE'], inplace=True)\n",
    "\n",
    "wire['TRANSACTION_DATE'] = pd.to_datetime(wire['TRANSACTION_DATE'], format='%m/%d/%Y')\n",
    "\n",
    "reg['REGISTRATION_DATE'] = pd.to_datetime(reg['REGISTRATION_DATE'], format='%m/%d/%Y')\n",
    "\n",
    "cash['TRANSACTION_DATE'] = cash['TRANSACTION_DATE'].apply(lambda x: x if x != '1/16/21' else '1/16/2021')  # TATO TRANSAKCE JE DIVNA, JAKO JEDINA MA JINY FORMAT DATA\n",
    "cash['TRANSACTION_DATE'] = pd.to_datetime(cash['TRANSACTION_DATE'], format='%m/%d/%Y')\n",
    "\n",
    "# Do not change the following lines unless you perfectly know what you are doing!!!\n",
    "bo.replace(to_replace=[np.nan], value=None, inplace=True)\n",
    "reg.replace(to_replace=[np.nan], value=None, inplace=True)\n",
    "ip.replace(to_replace=[np.nan], value=None, inplace=True)\n",
    "cust.replace(to_replace=[np.nan], value=None, inplace=True)\n",
    "wire.replace(to_replace=[np.nan], value=None, inplace=True)\n",
    "cash.replace(to_replace=[' '], value=None, inplace=True)"
   ]
  },
  {
   "cell_type": "code",
   "execution_count": null,
   "metadata": {
    "collapsed": false
   },
   "outputs": [],
   "source": [
    "# DO NOT CHANGE UNLESS YOU ARE SURE WHAT YOU ARE DOING!!!\n",
    "\n",
    "# Process customer table\n",
    "alpha = cust.groupby(['CUSTOMER_ID', 'ACCOUNT_ID', 'ACCOUNT_TYPE']).filter(lambda g: len(g) > 1)\n",
    "alpha_first = alpha.drop_duplicates(subset=['CUSTOMER_ID', 'ACCOUNT_ID', 'ACCOUNT_TYPE'], keep='first')  # Updated account info\n",
    "\n",
    "alpha_last = alpha.drop_duplicates(subset=['CUSTOMER_ID', 'ACCOUNT_ID', 'ACCOUNT_TYPE'], keep='last').copy()  # Old address, phone etc.\n",
    "alpha_last.rename(columns={'STREET': 'OLD_STREET', 'CITY': 'OLD_CITY', 'STATE': 'OLD_STATE', 'POSTAL_CODE': 'OLD_POSTAL_CODE', 'COUNTRY': 'OLD_COUNTRY', 'COUNTRY_CODE': 'OLD_COUNTRY_CODE', 'PHONE': 'OLD_PHONE'}, inplace=True)\n",
    "alpha_last = alpha_last[['ACCOUNT_ID', 'OLD_STREET', 'OLD_CITY', 'OLD_STATE', 'OLD_POSTAL_CODE', 'OLD_COUNTRY', 'OLD_COUNTRY_CODE', 'OLD_PHONE']]\n",
    "\n",
    "beta = cust.groupby(['CUSTOMER_ID', 'ACCOUNT_ID', 'ACCOUNT_TYPE']).filter(lambda g: len(g) == 1)\n",
    "\n",
    "beta_first = beta.sort_values(by=['ACCOUNT_TYPE']).drop_duplicates(subset=['CUSTOMER_ID', 'ACCOUNT_ID'], keep='first')\n",
    "only_savings_account_ids = beta_first[beta_first['ACCOUNT_TYPE'] == 'Savings']['ACCOUNT_ID'].to_list()\n",
    "\n",
    "beta_last = beta.sort_values(by=['ACCOUNT_TYPE']).drop_duplicates(subset=['CUSTOMER_ID', 'ACCOUNT_ID'], keep='last')\n",
    "also_savings_account_ids = beta_last[(beta_last['ACCOUNT_TYPE'] == 'Savings') & (~beta_last['ACCOUNT_ID'].isin(only_savings_account_ids))]['ACCOUNT_ID'].to_list()\n",
    "\n",
    "new_cust = pd.concat(objs=[beta_last, alpha_first], axis=0)\n",
    "new_cust['ACCOUNT_STRUCTURE'] = new_cust['ACCOUNT_ID'].apply(lambda x: 'Savings' if x in only_savings_account_ids else ('Both' if x in also_savings_account_ids else 'Checking'))\n",
    "new_cust = pd.merge(new_cust, alpha_last, how='left', on='ACCOUNT_ID').replace(to_replace=[np.nan], value=None)\n",
    "\n",
    "# Merge business ownership and company registration tables\n",
    "bo_reg = pd.merge(bo, reg, how='outer', on='COMPANY_ID', validate='many_to_one').replace(to_replace=[np.nan], value=None)\n",
    "bo_reg['BENEFICIARY_ID'] = bo_reg['BENEFICIARY_ID'].astype(float)\n",
    "\n",
    "# Merge wire with new customer table\n",
    "__df =  pd.merge(wire, new_cust, how='left', on='ACCOUNT_ID', suffixes=('_wire', '_cust')).replace(to_replace=[np.nan], value=None)\n",
    "\n",
    "# Merge wire with merged business own. and company reg. table\n",
    "_df = pd.merge(__df, bo_reg, how='left', on='BENEFICIARY_ID', suffixes=('_wire', '_bene')).replace(to_replace=[np.nan], value=None)\n",
    "\n",
    "# Merge wire with ip table\n",
    "df_wire = pd.merge(_df, ip, how='left', on='IP_ADDRESS', suffixes=('_wire', '_ip')).replace(to_replace=[np.nan], value=None)\n",
    "\n",
    "# Add transaction type\n",
    "df_wire['TRANSACTION_TYPE'] = 'Wire'"
   ]
  },
  {
   "cell_type": "code",
   "execution_count": null,
   "metadata": {
    "collapsed": false
   },
   "outputs": [],
   "source": [
    "df_wire"
   ]
  },
  {
   "cell_type": "code",
   "execution_count": null,
   "metadata": {},
   "outputs": [],
   "source": [
    "df_wire.to_csv('data/wire.csv')"
   ]
  },
  {
   "cell_type": "code",
   "execution_count": null,
   "metadata": {
    "collapsed": false
   },
   "outputs": [],
   "source": [
    "# Cash table\n",
    "_df = pd.merge(cash, new_cust, how='left', on='ACCOUNT_ID', suffixes=('_cash', '_cust')).replace(to_replace=[np.nan], value=None)\n",
    "df_cash = pd.merge(_df, bo_reg, how='left', left_on='CUSTOMER_ID_cash', right_on='BENEFICIARY_ID', suffixes=('_cash', '_bene')).replace(to_replace=[np.nan], value=None)\n",
    "df_cash['TRANSACTION_TYPE'] = 'Cash'"
   ]
  },
  {
   "cell_type": "code",
   "execution_count": null,
   "metadata": {
    "collapsed": false
   },
   "outputs": [],
   "source": [
    "df_cash.to_csv('data/cash.csv')"
   ]
  },
  {
   "cell_type": "code",
   "execution_count": null,
   "metadata": {
    "collapsed": false
   },
   "outputs": [],
   "source": [
    "# Interesting\n",
    "\n",
    "df_wire[df_wire['CUSTOMER_ID_wire'] != df_wire['CUSTOMER_ID_cust']]"
   ]
  },
  {
   "cell_type": "code",
   "execution_count": null,
   "metadata": {
    "collapsed": false
   },
   "outputs": [],
   "source": []
  },
  {
   "cell_type": "code",
   "execution_count": null,
   "metadata": {
    "collapsed": false
   },
   "outputs": [],
   "source": [
    "import pandas as pd"
   ]
  },
  {
   "cell_type": "code",
   "execution_count": null,
   "metadata": {},
   "outputs": [],
   "source": [
    "df = pd.read_csv(\"../data/wire.csv\")"
   ]
  },
  {
   "cell_type": "code",
   "execution_count": null,
   "metadata": {},
   "outputs": [],
   "source": []
  }
 ],
 "metadata": {
  "kernelspec": {
   "display_name": "Python 3",
   "language": "python",
   "name": "python3"
  },
  "language_info": {
   "codemirror_mode": {
    "name": "ipython",
    "version": 2
   },
   "file_extension": ".py",
   "mimetype": "text/x-python",
   "name": "python",
   "nbconvert_exporter": "python",
   "pygments_lexer": "ipython2",
   "version": "3.9.6"
  }
 },
 "nbformat": 4,
 "nbformat_minor": 0
}
